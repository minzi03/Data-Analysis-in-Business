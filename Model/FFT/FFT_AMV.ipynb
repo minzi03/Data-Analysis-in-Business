{
  "cells": [
    {
      "cell_type": "markdown",
      "metadata": {},
      "source": [
        "## Import the necessary libraries"
      ]
    },
    {
      "cell_type": "code",
      "execution_count": 1,
      "metadata": {},
      "outputs": [],
      "source": [
        "import pandas as pd\n",
        "import numpy as np\n",
        "from scipy.fft import fft, ifft\n",
        "from scipy.signal.windows import hann\n",
        "from sklearn.metrics import mean_squared_error, mean_absolute_percentage_error, mean_squared_log_error\n",
        "from sklearn.preprocessing import MinMaxScaler\n",
        "from sklearn.model_selection import TimeSeriesSplit\n",
        "import matplotlib.pyplot as plt\n",
        "%matplotlib inline"
      ]
    },
    {
      "cell_type": "markdown",
      "metadata": {},
      "source": [
        "## Load data"
      ]
    },
    {
      "cell_type": "code",
      "execution_count": 2,
      "metadata": {},
      "outputs": [],
      "source": [
        "# Load and preprocess data\n",
        "data = pd.read_csv(r'C:\\Users\\trieu\\OneDrive\\Documents\\HK2_2024\\IS403\\IS403_BA\\IS403_O22_HTCL_2\\Dataset\\AMV Historical Data.csv')\n",
        "df = data.copy()\n",
        "df['Date'] = pd.to_datetime(df['Date'])\n",
        "df = df.sort_values('Date')\n",
        "df.set_index('Date', inplace=True)\n",
        "df = df.replace(',', '', regex=True)"
      ]
    },
    {
      "cell_type": "code",
      "execution_count": 3,
      "metadata": {},
      "outputs": [],
      "source": [
        "# Select 'Price' column and handle missing values\n",
        "price_data = df['Price'].astype(float).interpolate()"
      ]
    },
    {
      "cell_type": "code",
      "execution_count": 4,
      "metadata": {},
      "outputs": [],
      "source": [
        "# Remove outliers (simple Z-score method)\n",
        "z_scores = np.abs((price_data - price_data.mean()) / price_data.std())\n",
        "price_data = price_data[z_scores < 3]"
      ]
    },
    {
      "cell_type": "code",
      "execution_count": 5,
      "metadata": {},
      "outputs": [],
      "source": [
        "# Scale data\n",
        "scaler = MinMaxScaler(feature_range=(0,1))\n",
        "data_scaled = scaler.fit_transform(price_data.values.reshape(-1, 1))"
      ]
    },
    {
      "cell_type": "code",
      "execution_count": 6,
      "metadata": {},
      "outputs": [],
      "source": [
        "# Split data\n",
        "train_size = int(len(data_scaled) * 0.7)\n",
        "train_data = data_scaled[:train_size]\n",
        "test_data = data_scaled[train_size:]"
      ]
    },
    {
      "cell_type": "code",
      "execution_count": 7,
      "metadata": {},
      "outputs": [],
      "source": [
        "# Perform FFT with windowing\n",
        "def fft_transform(data, num_frequencies=10):\n",
        "    n = len(data)\n",
        "    window = hann(n)\n",
        "    fft_result = fft(data * window)\n",
        "    frequencies = np.fft.fftfreq(n)\n",
        "    \n",
        "    # Keep only top frequencies\n",
        "    top_indices = np.argsort(np.abs(fft_result))[-num_frequencies:]\n",
        "    filtered_fft = np.zeros_like(fft_result)\n",
        "    filtered_fft[top_indices] = fft_result[top_indices]\n",
        "    \n",
        "    return filtered_fft, frequencies\n",
        "\n"
      ]
    },
    {
      "cell_type": "code",
      "execution_count": 8,
      "metadata": {},
      "outputs": [],
      "source": [
        "# Inverse FFT\n",
        "def ifft_transform(fft_result):\n",
        "    return np.real(ifft(fft_result))"
      ]
    },
    {
      "cell_type": "code",
      "execution_count": 11,
      "metadata": {},
      "outputs": [],
      "source": [
        "# Modify predict_with_trend function\n",
        "def predict_with_trend(data, fft_result, days, window_size=30):\n",
        "    # Linear trend\n",
        "    x = np.arange(window_size)\n",
        "    trend = np.polyfit(x, data[-window_size:].flatten(), 1)\n",
        "    trend_func = np.poly1d(trend)\n",
        "    \n",
        "    # FFT prediction\n",
        "    n = len(data)\n",
        "    if len(fft_result) != n:\n",
        "        fft_result, _ = fft_transform(data.flatten(), num_frequencies=best_num_freq)\n",
        "    \n",
        "    extended_fft = np.zeros(window_size + days, dtype=complex)\n",
        "    extended_fft[:window_size] = fft_result[-window_size:]\n",
        "    fft_pred = ifft_transform(extended_fft)[-days:]\n",
        "    \n",
        "    # Combine trend and FFT\n",
        "    trend_pred = trend_func(np.arange(window_size, window_size+days))\n",
        "    combined_pred = trend_pred + fft_pred\n",
        "    return np.maximum(combined_pred, 0)  # Ensure non-negative values\n"
      ]
    },
    {
      "cell_type": "code",
      "execution_count": 12,
      "metadata": {},
      "outputs": [
        {
          "ename": "NameError",
          "evalue": "name 'best_num_freq' is not defined",
          "output_type": "error",
          "traceback": [
            "\u001b[1;31m---------------------------------------------------------------------------\u001b[0m",
            "\u001b[1;31mNameError\u001b[0m                                 Traceback (most recent call last)",
            "Cell \u001b[1;32mIn[12], line 10\u001b[0m\n\u001b[0;32m      8\u001b[0m     \u001b[38;5;28;01mbreak\u001b[39;00m\n\u001b[0;32m      9\u001b[0m window_data \u001b[38;5;241m=\u001b[39m np\u001b[38;5;241m.\u001b[39mconcatenate((train_data[\u001b[38;5;241m-\u001b[39mwindow_size:], test_data[:i]))\n\u001b[1;32m---> 10\u001b[0m window_fft, _ \u001b[38;5;241m=\u001b[39m fft_transform(window_data\u001b[38;5;241m.\u001b[39mflatten(), num_frequencies\u001b[38;5;241m=\u001b[39m\u001b[43mbest_num_freq\u001b[49m)\n\u001b[0;32m     11\u001b[0m pred \u001b[38;5;241m=\u001b[39m predict_with_trend(window_data, window_fft, step_size, window_size)\n\u001b[0;32m     12\u001b[0m filtered_test\u001b[38;5;241m.\u001b[39mextend(pred)\n",
            "\u001b[1;31mNameError\u001b[0m: name 'best_num_freq' is not defined"
          ]
        }
      ],
      "source": [
        "# Predict for test data using sliding window\n",
        "window_size = 30\n",
        "step_size = 7\n",
        "filtered_test = []\n",
        "\n",
        "for i in range(0, len(test_data), step_size):\n",
        "    if i + window_size > len(train_data):\n",
        "        break\n",
        "    window_data = np.concatenate((train_data[-window_size:], test_data[:i]))\n",
        "    window_fft, _ = fft_transform(window_data.flatten(), num_frequencies=best_num_freq)\n",
        "    pred = predict_with_trend(window_data, window_fft, step_size, window_size)\n",
        "    filtered_test.extend(pred)\n",
        "\n",
        "filtered_test = np.array(filtered_test)[:len(test_data)]"
      ]
    },
    {
      "cell_type": "code",
      "execution_count": null,
      "metadata": {},
      "outputs": [],
      "source": [
        "# Predict future values\n",
        "future_data = np.concatenate((train_data, test_data))\n",
        "future_fft, _ = fft_transform(future_data.flatten(), num_frequencies=best_num_freq)\n",
        "y_next_30_days = predict_with_trend(future_data, future_fft, 30, window_size)\n",
        "y_next_60_days = predict_with_trend(future_data, future_fft, 60, window_size)\n",
        "y_next_90_days = predict_with_trend(future_data, future_fft, 90, window_size)"
      ]
    },
    {
      "cell_type": "code",
      "execution_count": null,
      "metadata": {},
      "outputs": [],
      "source": [
        "# Calculate error metrics\n",
        "test_mape = mean_absolute_percentage_error(test_data, filtered_test.reshape(-1, 1))\n",
        "test_mse = mean_squared_error(test_data, filtered_test.reshape(-1, 1))\n",
        "test_rmse = np.sqrt(test_mse)\n",
        "test_msle = mean_squared_log_error(test_data, filtered_test.reshape(-1, 1))\n",
        "\n",
        "print(f\"MAPE on Test set: {test_mape}\")\n",
        "print(f\"RMSE on Test set: {test_rmse}\")\n",
        "print(f\"MSLE on Test set: {test_msle}\")"
      ]
    },
    {
      "cell_type": "code",
      "execution_count": null,
      "metadata": {},
      "outputs": [],
      "source": [
        "# Inverse transform predictions\n",
        "y_next_30_days = scaler.inverse_transform(y_next_30_days.reshape(-1, 1)).flatten()\n",
        "y_next_60_days = scaler.inverse_transform(y_next_60_days.reshape(-1, 1)).flatten()\n",
        "y_next_90_days = scaler.inverse_transform(y_next_90_days.reshape(-1, 1)).flatten()\n",
        "\n",
        "# Print predictions\n",
        "print(\"Predicted next 30 days:\")\n",
        "print(y_next_30_days)\n",
        "print(\"\\nPredicted next 60 days:\")\n",
        "print(y_next_60_days)\n",
        "print(\"\\nPredicted next 90 days:\")\n",
        "print(y_next_90_days)"
      ]
    },
    {
      "cell_type": "code",
      "execution_count": null,
      "metadata": {},
      "outputs": [],
      "source": [
        "# Create DataFrames for plotting\n",
        "train_data_df = pd.DataFrame(scaler.inverse_transform(train_data), index=df.index[:train_size], columns=['Price'])\n",
        "test_data_df = pd.DataFrame(scaler.inverse_transform(test_data), index=df.index[train_size:], columns=['Price'])\n",
        "filtered_test_df = pd.DataFrame(scaler.inverse_transform(filtered_test.reshape(-1, 1)), index=df.index[train_size:], columns=['Predict Test'])\n",
        "next_30_days_df = pd.DataFrame(y_next_30_days, index=pd.date_range(start=df.index[-1] + pd.DateOffset(days=1), periods=30), columns=['Next 30 Days'])\n",
        "next_60_days_df = pd.DataFrame(y_next_60_days[30:], index=pd.date_range(start=df.index[-1] + pd.DateOffset(days=31), periods=30), columns=['Next 60 Days'])\n",
        "next_90_days_df = pd.DataFrame(y_next_90_days[60:], index=pd.date_range(start=df.index[-1] + pd.DateOffset(days=61), periods=30), columns=['Next 90 Days'])\n",
        "\n",
        "# Plot results\n",
        "plt.figure(figsize=(12, 8))\n",
        "plt.plot(train_data_df.index, train_data_df['Price'], label='Train')\n",
        "plt.plot(test_data_df.index, test_data_df['Price'], label='Test')\n",
        "plt.plot(filtered_test_df.index, filtered_test_df['Predict Test'], label='Predict Test')\n",
        "plt.plot(next_30_days_df.index, next_30_days_df['Next 30 Days'], label='Next 30 Days')\n",
        "plt.plot(next_60_days_df.index, next_60_days_df['Next 60 Days'], label='Next 60 Days')\n",
        "plt.plot(next_90_days_df.index, next_90_days_df['Next 90 Days'], label='Next 90 Days')\n",
        "plt.legend()\n",
        "plt.grid()\n",
        "plt.title(\"DHT Price Data With Ratio 7:3 (Optimized FFT)\")\n",
        "plt.xlabel(\"Date\")\n",
        "plt.ylabel(\"Price value\")\n",
        "plt.savefig('FFT_73_DHT_Optimized.png')\n",
        "plt.show()"
      ]
    }
  ],
  "metadata": {
    "colab": {
      "provenance": []
    },
    "kernelspec": {
      "display_name": "Python 3",
      "name": "python3"
    },
    "language_info": {
      "codemirror_mode": {
        "name": "ipython",
        "version": 3
      },
      "file_extension": ".py",
      "mimetype": "text/x-python",
      "name": "python",
      "nbconvert_exporter": "python",
      "pygments_lexer": "ipython3",
      "version": "3.12.2"
    }
  },
  "nbformat": 4,
  "nbformat_minor": 0
}
