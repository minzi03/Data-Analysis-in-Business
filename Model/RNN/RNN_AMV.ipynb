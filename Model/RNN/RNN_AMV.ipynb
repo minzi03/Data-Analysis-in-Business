{
  "cells": [
    {
      "cell_type": "markdown",
      "metadata": {
        "id": "ZmAUod5iE0Ed"
      },
      "source": [
        "## Import the necessary libraries"
      ]
    },
    {
      "cell_type": "code",
      "execution_count": 20,
      "metadata": {
        "id": "yX_dfgFhE0Ee"
      },
      "outputs": [],
      "source": [
        "import pandas as pd\n",
        "import numpy as np\n",
        "\n",
        "from tensorflow.keras.models import Sequential\n",
        "from tensorflow.keras.layers import Dense, Dropout, LSTM\n",
        "\n",
        "from sklearn.metrics import mean_squared_error, mean_absolute_percentage_error, mean_squared_log_error\n",
        "from sklearn.preprocessing import MinMaxScaler\n",
        "\n",
        "import matplotlib.pyplot as plt\n",
        "%matplotlib inline"
      ]
    },
    {
      "cell_type": "markdown",
      "metadata": {
        "id": "GbGZH3fHE0Ef"
      },
      "source": [
        "## Load data"
      ]
    },
    {
      "cell_type": "code",
      "execution_count": 21,
      "metadata": {
        "id": "692JHIjtE0Eg",
        "outputId": "4ee9a009-639c-4523-d765-a0a8b5e8113d",
        "colab": {
          "base_uri": "https://localhost:8080/",
          "height": 362
        }
      },
      "outputs": [
        {
          "output_type": "execute_result",
          "data": {
            "text/plain": [
              "         Date    Price     Open     High      Low     Vol. Change %\n",
              "0  04/17/2024  3,200.0  3,300.0  3,300.0  3,000.0    2.53M   -3.03%\n",
              "1  04/16/2024  3,300.0  3,300.0  3,400.0  3,100.0    1.31M    0.00%\n",
              "2  04/15/2024  3,300.0  3,500.0  3,600.0  3,300.0    1.28M   -5.71%\n",
              "3  04/12/2024  3,500.0  3,500.0  3,600.0  3,500.0  840.38K    0.00%\n",
              "4  04/11/2024  3,500.0  3,500.0  3,600.0  3,500.0  587.87K    0.00%\n",
              "5  04/10/2024  3,500.0  3,500.0  3,600.0  3,500.0  324.14K    0.00%\n",
              "6  04/09/2024  3,500.0  3,600.0  3,700.0  3,400.0    2.18M   -2.78%\n",
              "7  04/08/2024  3,600.0  3,600.0  3,700.0  3,600.0  703.91K    0.00%\n",
              "8  04/05/2024  3,600.0  3,700.0  3,700.0  3,500.0    3.40M   -5.26%\n",
              "9  04/04/2024  3,800.0  3,800.0  3,900.0  3,700.0  867.30K    0.00%"
            ],
            "text/html": [
              "\n",
              "  <div id=\"df-2276bbd3-7098-44df-9620-c8769a67b7cf\" class=\"colab-df-container\">\n",
              "    <div>\n",
              "<style scoped>\n",
              "    .dataframe tbody tr th:only-of-type {\n",
              "        vertical-align: middle;\n",
              "    }\n",
              "\n",
              "    .dataframe tbody tr th {\n",
              "        vertical-align: top;\n",
              "    }\n",
              "\n",
              "    .dataframe thead th {\n",
              "        text-align: right;\n",
              "    }\n",
              "</style>\n",
              "<table border=\"1\" class=\"dataframe\">\n",
              "  <thead>\n",
              "    <tr style=\"text-align: right;\">\n",
              "      <th></th>\n",
              "      <th>Date</th>\n",
              "      <th>Price</th>\n",
              "      <th>Open</th>\n",
              "      <th>High</th>\n",
              "      <th>Low</th>\n",
              "      <th>Vol.</th>\n",
              "      <th>Change %</th>\n",
              "    </tr>\n",
              "  </thead>\n",
              "  <tbody>\n",
              "    <tr>\n",
              "      <th>0</th>\n",
              "      <td>04/17/2024</td>\n",
              "      <td>3,200.0</td>\n",
              "      <td>3,300.0</td>\n",
              "      <td>3,300.0</td>\n",
              "      <td>3,000.0</td>\n",
              "      <td>2.53M</td>\n",
              "      <td>-3.03%</td>\n",
              "    </tr>\n",
              "    <tr>\n",
              "      <th>1</th>\n",
              "      <td>04/16/2024</td>\n",
              "      <td>3,300.0</td>\n",
              "      <td>3,300.0</td>\n",
              "      <td>3,400.0</td>\n",
              "      <td>3,100.0</td>\n",
              "      <td>1.31M</td>\n",
              "      <td>0.00%</td>\n",
              "    </tr>\n",
              "    <tr>\n",
              "      <th>2</th>\n",
              "      <td>04/15/2024</td>\n",
              "      <td>3,300.0</td>\n",
              "      <td>3,500.0</td>\n",
              "      <td>3,600.0</td>\n",
              "      <td>3,300.0</td>\n",
              "      <td>1.28M</td>\n",
              "      <td>-5.71%</td>\n",
              "    </tr>\n",
              "    <tr>\n",
              "      <th>3</th>\n",
              "      <td>04/12/2024</td>\n",
              "      <td>3,500.0</td>\n",
              "      <td>3,500.0</td>\n",
              "      <td>3,600.0</td>\n",
              "      <td>3,500.0</td>\n",
              "      <td>840.38K</td>\n",
              "      <td>0.00%</td>\n",
              "    </tr>\n",
              "    <tr>\n",
              "      <th>4</th>\n",
              "      <td>04/11/2024</td>\n",
              "      <td>3,500.0</td>\n",
              "      <td>3,500.0</td>\n",
              "      <td>3,600.0</td>\n",
              "      <td>3,500.0</td>\n",
              "      <td>587.87K</td>\n",
              "      <td>0.00%</td>\n",
              "    </tr>\n",
              "    <tr>\n",
              "      <th>5</th>\n",
              "      <td>04/10/2024</td>\n",
              "      <td>3,500.0</td>\n",
              "      <td>3,500.0</td>\n",
              "      <td>3,600.0</td>\n",
              "      <td>3,500.0</td>\n",
              "      <td>324.14K</td>\n",
              "      <td>0.00%</td>\n",
              "    </tr>\n",
              "    <tr>\n",
              "      <th>6</th>\n",
              "      <td>04/09/2024</td>\n",
              "      <td>3,500.0</td>\n",
              "      <td>3,600.0</td>\n",
              "      <td>3,700.0</td>\n",
              "      <td>3,400.0</td>\n",
              "      <td>2.18M</td>\n",
              "      <td>-2.78%</td>\n",
              "    </tr>\n",
              "    <tr>\n",
              "      <th>7</th>\n",
              "      <td>04/08/2024</td>\n",
              "      <td>3,600.0</td>\n",
              "      <td>3,600.0</td>\n",
              "      <td>3,700.0</td>\n",
              "      <td>3,600.0</td>\n",
              "      <td>703.91K</td>\n",
              "      <td>0.00%</td>\n",
              "    </tr>\n",
              "    <tr>\n",
              "      <th>8</th>\n",
              "      <td>04/05/2024</td>\n",
              "      <td>3,600.0</td>\n",
              "      <td>3,700.0</td>\n",
              "      <td>3,700.0</td>\n",
              "      <td>3,500.0</td>\n",
              "      <td>3.40M</td>\n",
              "      <td>-5.26%</td>\n",
              "    </tr>\n",
              "    <tr>\n",
              "      <th>9</th>\n",
              "      <td>04/04/2024</td>\n",
              "      <td>3,800.0</td>\n",
              "      <td>3,800.0</td>\n",
              "      <td>3,900.0</td>\n",
              "      <td>3,700.0</td>\n",
              "      <td>867.30K</td>\n",
              "      <td>0.00%</td>\n",
              "    </tr>\n",
              "  </tbody>\n",
              "</table>\n",
              "</div>\n",
              "    <div class=\"colab-df-buttons\">\n",
              "\n",
              "  <div class=\"colab-df-container\">\n",
              "    <button class=\"colab-df-convert\" onclick=\"convertToInteractive('df-2276bbd3-7098-44df-9620-c8769a67b7cf')\"\n",
              "            title=\"Convert this dataframe to an interactive table.\"\n",
              "            style=\"display:none;\">\n",
              "\n",
              "  <svg xmlns=\"http://www.w3.org/2000/svg\" height=\"24px\" viewBox=\"0 -960 960 960\">\n",
              "    <path d=\"M120-120v-720h720v720H120Zm60-500h600v-160H180v160Zm220 220h160v-160H400v160Zm0 220h160v-160H400v160ZM180-400h160v-160H180v160Zm440 0h160v-160H620v160ZM180-180h160v-160H180v160Zm440 0h160v-160H620v160Z\"/>\n",
              "  </svg>\n",
              "    </button>\n",
              "\n",
              "  <style>\n",
              "    .colab-df-container {\n",
              "      display:flex;\n",
              "      gap: 12px;\n",
              "    }\n",
              "\n",
              "    .colab-df-convert {\n",
              "      background-color: #E8F0FE;\n",
              "      border: none;\n",
              "      border-radius: 50%;\n",
              "      cursor: pointer;\n",
              "      display: none;\n",
              "      fill: #1967D2;\n",
              "      height: 32px;\n",
              "      padding: 0 0 0 0;\n",
              "      width: 32px;\n",
              "    }\n",
              "\n",
              "    .colab-df-convert:hover {\n",
              "      background-color: #E2EBFA;\n",
              "      box-shadow: 0px 1px 2px rgba(60, 64, 67, 0.3), 0px 1px 3px 1px rgba(60, 64, 67, 0.15);\n",
              "      fill: #174EA6;\n",
              "    }\n",
              "\n",
              "    .colab-df-buttons div {\n",
              "      margin-bottom: 4px;\n",
              "    }\n",
              "\n",
              "    [theme=dark] .colab-df-convert {\n",
              "      background-color: #3B4455;\n",
              "      fill: #D2E3FC;\n",
              "    }\n",
              "\n",
              "    [theme=dark] .colab-df-convert:hover {\n",
              "      background-color: #434B5C;\n",
              "      box-shadow: 0px 1px 3px 1px rgba(0, 0, 0, 0.15);\n",
              "      filter: drop-shadow(0px 1px 2px rgba(0, 0, 0, 0.3));\n",
              "      fill: #FFFFFF;\n",
              "    }\n",
              "  </style>\n",
              "\n",
              "    <script>\n",
              "      const buttonEl =\n",
              "        document.querySelector('#df-2276bbd3-7098-44df-9620-c8769a67b7cf button.colab-df-convert');\n",
              "      buttonEl.style.display =\n",
              "        google.colab.kernel.accessAllowed ? 'block' : 'none';\n",
              "\n",
              "      async function convertToInteractive(key) {\n",
              "        const element = document.querySelector('#df-2276bbd3-7098-44df-9620-c8769a67b7cf');\n",
              "        const dataTable =\n",
              "          await google.colab.kernel.invokeFunction('convertToInteractive',\n",
              "                                                    [key], {});\n",
              "        if (!dataTable) return;\n",
              "\n",
              "        const docLinkHtml = 'Like what you see? Visit the ' +\n",
              "          '<a target=\"_blank\" href=https://colab.research.google.com/notebooks/data_table.ipynb>data table notebook</a>'\n",
              "          + ' to learn more about interactive tables.';\n",
              "        element.innerHTML = '';\n",
              "        dataTable['output_type'] = 'display_data';\n",
              "        await google.colab.output.renderOutput(dataTable, element);\n",
              "        const docLink = document.createElement('div');\n",
              "        docLink.innerHTML = docLinkHtml;\n",
              "        element.appendChild(docLink);\n",
              "      }\n",
              "    </script>\n",
              "  </div>\n",
              "\n",
              "\n",
              "<div id=\"df-f9e3fe99-0924-4c38-9a53-35cc6b5e6abe\">\n",
              "  <button class=\"colab-df-quickchart\" onclick=\"quickchart('df-f9e3fe99-0924-4c38-9a53-35cc6b5e6abe')\"\n",
              "            title=\"Suggest charts\"\n",
              "            style=\"display:none;\">\n",
              "\n",
              "<svg xmlns=\"http://www.w3.org/2000/svg\" height=\"24px\"viewBox=\"0 0 24 24\"\n",
              "     width=\"24px\">\n",
              "    <g>\n",
              "        <path d=\"M19 3H5c-1.1 0-2 .9-2 2v14c0 1.1.9 2 2 2h14c1.1 0 2-.9 2-2V5c0-1.1-.9-2-2-2zM9 17H7v-7h2v7zm4 0h-2V7h2v10zm4 0h-2v-4h2v4z\"/>\n",
              "    </g>\n",
              "</svg>\n",
              "  </button>\n",
              "\n",
              "<style>\n",
              "  .colab-df-quickchart {\n",
              "      --bg-color: #E8F0FE;\n",
              "      --fill-color: #1967D2;\n",
              "      --hover-bg-color: #E2EBFA;\n",
              "      --hover-fill-color: #174EA6;\n",
              "      --disabled-fill-color: #AAA;\n",
              "      --disabled-bg-color: #DDD;\n",
              "  }\n",
              "\n",
              "  [theme=dark] .colab-df-quickchart {\n",
              "      --bg-color: #3B4455;\n",
              "      --fill-color: #D2E3FC;\n",
              "      --hover-bg-color: #434B5C;\n",
              "      --hover-fill-color: #FFFFFF;\n",
              "      --disabled-bg-color: #3B4455;\n",
              "      --disabled-fill-color: #666;\n",
              "  }\n",
              "\n",
              "  .colab-df-quickchart {\n",
              "    background-color: var(--bg-color);\n",
              "    border: none;\n",
              "    border-radius: 50%;\n",
              "    cursor: pointer;\n",
              "    display: none;\n",
              "    fill: var(--fill-color);\n",
              "    height: 32px;\n",
              "    padding: 0;\n",
              "    width: 32px;\n",
              "  }\n",
              "\n",
              "  .colab-df-quickchart:hover {\n",
              "    background-color: var(--hover-bg-color);\n",
              "    box-shadow: 0 1px 2px rgba(60, 64, 67, 0.3), 0 1px 3px 1px rgba(60, 64, 67, 0.15);\n",
              "    fill: var(--button-hover-fill-color);\n",
              "  }\n",
              "\n",
              "  .colab-df-quickchart-complete:disabled,\n",
              "  .colab-df-quickchart-complete:disabled:hover {\n",
              "    background-color: var(--disabled-bg-color);\n",
              "    fill: var(--disabled-fill-color);\n",
              "    box-shadow: none;\n",
              "  }\n",
              "\n",
              "  .colab-df-spinner {\n",
              "    border: 2px solid var(--fill-color);\n",
              "    border-color: transparent;\n",
              "    border-bottom-color: var(--fill-color);\n",
              "    animation:\n",
              "      spin 1s steps(1) infinite;\n",
              "  }\n",
              "\n",
              "  @keyframes spin {\n",
              "    0% {\n",
              "      border-color: transparent;\n",
              "      border-bottom-color: var(--fill-color);\n",
              "      border-left-color: var(--fill-color);\n",
              "    }\n",
              "    20% {\n",
              "      border-color: transparent;\n",
              "      border-left-color: var(--fill-color);\n",
              "      border-top-color: var(--fill-color);\n",
              "    }\n",
              "    30% {\n",
              "      border-color: transparent;\n",
              "      border-left-color: var(--fill-color);\n",
              "      border-top-color: var(--fill-color);\n",
              "      border-right-color: var(--fill-color);\n",
              "    }\n",
              "    40% {\n",
              "      border-color: transparent;\n",
              "      border-right-color: var(--fill-color);\n",
              "      border-top-color: var(--fill-color);\n",
              "    }\n",
              "    60% {\n",
              "      border-color: transparent;\n",
              "      border-right-color: var(--fill-color);\n",
              "    }\n",
              "    80% {\n",
              "      border-color: transparent;\n",
              "      border-right-color: var(--fill-color);\n",
              "      border-bottom-color: var(--fill-color);\n",
              "    }\n",
              "    90% {\n",
              "      border-color: transparent;\n",
              "      border-bottom-color: var(--fill-color);\n",
              "    }\n",
              "  }\n",
              "</style>\n",
              "\n",
              "  <script>\n",
              "    async function quickchart(key) {\n",
              "      const quickchartButtonEl =\n",
              "        document.querySelector('#' + key + ' button');\n",
              "      quickchartButtonEl.disabled = true;  // To prevent multiple clicks.\n",
              "      quickchartButtonEl.classList.add('colab-df-spinner');\n",
              "      try {\n",
              "        const charts = await google.colab.kernel.invokeFunction(\n",
              "            'suggestCharts', [key], {});\n",
              "      } catch (error) {\n",
              "        console.error('Error during call to suggestCharts:', error);\n",
              "      }\n",
              "      quickchartButtonEl.classList.remove('colab-df-spinner');\n",
              "      quickchartButtonEl.classList.add('colab-df-quickchart-complete');\n",
              "    }\n",
              "    (() => {\n",
              "      let quickchartButtonEl =\n",
              "        document.querySelector('#df-f9e3fe99-0924-4c38-9a53-35cc6b5e6abe button');\n",
              "      quickchartButtonEl.style.display =\n",
              "        google.colab.kernel.accessAllowed ? 'block' : 'none';\n",
              "    })();\n",
              "  </script>\n",
              "</div>\n",
              "    </div>\n",
              "  </div>\n"
            ],
            "application/vnd.google.colaboratory.intrinsic+json": {
              "type": "dataframe",
              "variable_name": "df",
              "summary": "{\n  \"name\": \"df\",\n  \"rows\": 1322,\n  \"fields\": [\n    {\n      \"column\": \"Date\",\n      \"properties\": {\n        \"dtype\": \"object\",\n        \"num_unique_values\": 1322,\n        \"samples\": [\n          \"05/24/2021\",\n          \"05/20/2022\",\n          \"05/05/2023\"\n        ],\n        \"semantic_type\": \"\",\n        \"description\": \"\"\n      }\n    },\n    {\n      \"column\": \"Price\",\n      \"properties\": {\n        \"dtype\": \"category\",\n        \"num_unique_values\": 336,\n        \"samples\": [\n          \"10,990.0\",\n          \"10,035.0\",\n          \"15,090.0\"\n        ],\n        \"semantic_type\": \"\",\n        \"description\": \"\"\n      }\n    },\n    {\n      \"column\": \"Open\",\n      \"properties\": {\n        \"dtype\": \"category\",\n        \"num_unique_values\": 356,\n        \"samples\": [\n          \"15,239.0\",\n          \"7,800.0\",\n          \"15,942.0\"\n        ],\n        \"semantic_type\": \"\",\n        \"description\": \"\"\n      }\n    },\n    {\n      \"column\": \"High\",\n      \"properties\": {\n        \"dtype\": \"category\",\n        \"num_unique_values\": 356,\n        \"samples\": [\n          \"14,084.0\",\n          \"7,900.0\",\n          \"15,079.0\"\n        ],\n        \"semantic_type\": \"\",\n        \"description\": \"\"\n      }\n    },\n    {\n      \"column\": \"Low\",\n      \"properties\": {\n        \"dtype\": \"category\",\n        \"num_unique_values\": 352,\n        \"samples\": [\n          \"12,289.0\",\n          \"9,461.0\",\n          \"9,400.0\"\n        ],\n        \"semantic_type\": \"\",\n        \"description\": \"\"\n      }\n    },\n    {\n      \"column\": \"Vol.\",\n      \"properties\": {\n        \"dtype\": \"string\",\n        \"num_unique_values\": 1083,\n        \"samples\": [\n          \"308.65K\",\n          \"464.49K\",\n          \"260.01K\"\n        ],\n        \"semantic_type\": \"\",\n        \"description\": \"\"\n      }\n    },\n    {\n      \"column\": \"Change %\",\n      \"properties\": {\n        \"dtype\": \"category\",\n        \"num_unique_values\": 528,\n        \"samples\": [\n          \"3.96%\",\n          \"6.08%\",\n          \"-2.50%\"\n        ],\n        \"semantic_type\": \"\",\n        \"description\": \"\"\n      }\n    }\n  ]\n}"
            }
          },
          "metadata": {},
          "execution_count": 21
        }
      ],
      "source": [
        "df = pd.read_csv('AMV Historical Data.csv')\n",
        "df.head(10)"
      ]
    },
    {
      "cell_type": "markdown",
      "metadata": {
        "id": "v2aUx9TuE0Eg"
      },
      "source": [
        "## Data preprocessing"
      ]
    },
    {
      "cell_type": "code",
      "execution_count": 22,
      "metadata": {
        "id": "cHFj4cMHE0Eh"
      },
      "outputs": [],
      "source": [
        "# Convert the 'Date' column to datetime format\n",
        "df['Date'] = pd.to_datetime(df['Date'])\n",
        "\n",
        "# Sort the data by date in ascending order\n",
        "df = df.sort_values('Date')\n",
        "\n",
        "# Set the 'Date' column as the index value\n",
        "df.set_index('Date', inplace=True)\n",
        "df = df.replace(',', '', regex=True)"
      ]
    },
    {
      "cell_type": "code",
      "execution_count": 23,
      "metadata": {
        "id": "Fo-JXTWSE0Eh",
        "outputId": "2e307ecc-152b-4496-d86f-12146b9560d7",
        "colab": {
          "base_uri": "https://localhost:8080/",
          "height": 455
        }
      },
      "outputs": [
        {
          "output_type": "execute_result",
          "data": {
            "text/plain": [
              "              Price     Open     High      Low     Vol. Change %\n",
              "Date                                                            \n",
              "2019-01-02  17072.0  17071.7  17117.0  16936.5  181.74K   -0.26%\n",
              "2019-01-03  16982.0  17026.6  17027.0  16215.8  259.31K   -0.53%\n",
              "2019-01-04  16666.0  16666.3  16801.0  16576.2   86.63K   -1.86%\n",
              "2019-01-07  16171.0  16576.2  16576.0  16080.7  102.90K   -2.97%\n",
              "2019-01-08  16171.0  16260.9  16261.0  16080.7   33.59K    0.00%\n",
              "...             ...      ...      ...      ...      ...      ...\n",
              "2024-04-11   3500.0   3500.0   3600.0   3500.0  587.87K    0.00%\n",
              "2024-04-12   3500.0   3500.0   3600.0   3500.0  840.38K    0.00%\n",
              "2024-04-15   3300.0   3500.0   3600.0   3300.0    1.28M   -5.71%\n",
              "2024-04-16   3300.0   3300.0   3400.0   3100.0    1.31M    0.00%\n",
              "2024-04-17   3200.0   3300.0   3300.0   3000.0    2.53M   -3.03%\n",
              "\n",
              "[1322 rows x 6 columns]"
            ],
            "text/html": [
              "\n",
              "  <div id=\"df-7a50a76f-c850-4ffc-a94c-3c8aec1e3b37\" class=\"colab-df-container\">\n",
              "    <div>\n",
              "<style scoped>\n",
              "    .dataframe tbody tr th:only-of-type {\n",
              "        vertical-align: middle;\n",
              "    }\n",
              "\n",
              "    .dataframe tbody tr th {\n",
              "        vertical-align: top;\n",
              "    }\n",
              "\n",
              "    .dataframe thead th {\n",
              "        text-align: right;\n",
              "    }\n",
              "</style>\n",
              "<table border=\"1\" class=\"dataframe\">\n",
              "  <thead>\n",
              "    <tr style=\"text-align: right;\">\n",
              "      <th></th>\n",
              "      <th>Price</th>\n",
              "      <th>Open</th>\n",
              "      <th>High</th>\n",
              "      <th>Low</th>\n",
              "      <th>Vol.</th>\n",
              "      <th>Change %</th>\n",
              "    </tr>\n",
              "    <tr>\n",
              "      <th>Date</th>\n",
              "      <th></th>\n",
              "      <th></th>\n",
              "      <th></th>\n",
              "      <th></th>\n",
              "      <th></th>\n",
              "      <th></th>\n",
              "    </tr>\n",
              "  </thead>\n",
              "  <tbody>\n",
              "    <tr>\n",
              "      <th>2019-01-02</th>\n",
              "      <td>17072.0</td>\n",
              "      <td>17071.7</td>\n",
              "      <td>17117.0</td>\n",
              "      <td>16936.5</td>\n",
              "      <td>181.74K</td>\n",
              "      <td>-0.26%</td>\n",
              "    </tr>\n",
              "    <tr>\n",
              "      <th>2019-01-03</th>\n",
              "      <td>16982.0</td>\n",
              "      <td>17026.6</td>\n",
              "      <td>17027.0</td>\n",
              "      <td>16215.8</td>\n",
              "      <td>259.31K</td>\n",
              "      <td>-0.53%</td>\n",
              "    </tr>\n",
              "    <tr>\n",
              "      <th>2019-01-04</th>\n",
              "      <td>16666.0</td>\n",
              "      <td>16666.3</td>\n",
              "      <td>16801.0</td>\n",
              "      <td>16576.2</td>\n",
              "      <td>86.63K</td>\n",
              "      <td>-1.86%</td>\n",
              "    </tr>\n",
              "    <tr>\n",
              "      <th>2019-01-07</th>\n",
              "      <td>16171.0</td>\n",
              "      <td>16576.2</td>\n",
              "      <td>16576.0</td>\n",
              "      <td>16080.7</td>\n",
              "      <td>102.90K</td>\n",
              "      <td>-2.97%</td>\n",
              "    </tr>\n",
              "    <tr>\n",
              "      <th>2019-01-08</th>\n",
              "      <td>16171.0</td>\n",
              "      <td>16260.9</td>\n",
              "      <td>16261.0</td>\n",
              "      <td>16080.7</td>\n",
              "      <td>33.59K</td>\n",
              "      <td>0.00%</td>\n",
              "    </tr>\n",
              "    <tr>\n",
              "      <th>...</th>\n",
              "      <td>...</td>\n",
              "      <td>...</td>\n",
              "      <td>...</td>\n",
              "      <td>...</td>\n",
              "      <td>...</td>\n",
              "      <td>...</td>\n",
              "    </tr>\n",
              "    <tr>\n",
              "      <th>2024-04-11</th>\n",
              "      <td>3500.0</td>\n",
              "      <td>3500.0</td>\n",
              "      <td>3600.0</td>\n",
              "      <td>3500.0</td>\n",
              "      <td>587.87K</td>\n",
              "      <td>0.00%</td>\n",
              "    </tr>\n",
              "    <tr>\n",
              "      <th>2024-04-12</th>\n",
              "      <td>3500.0</td>\n",
              "      <td>3500.0</td>\n",
              "      <td>3600.0</td>\n",
              "      <td>3500.0</td>\n",
              "      <td>840.38K</td>\n",
              "      <td>0.00%</td>\n",
              "    </tr>\n",
              "    <tr>\n",
              "      <th>2024-04-15</th>\n",
              "      <td>3300.0</td>\n",
              "      <td>3500.0</td>\n",
              "      <td>3600.0</td>\n",
              "      <td>3300.0</td>\n",
              "      <td>1.28M</td>\n",
              "      <td>-5.71%</td>\n",
              "    </tr>\n",
              "    <tr>\n",
              "      <th>2024-04-16</th>\n",
              "      <td>3300.0</td>\n",
              "      <td>3300.0</td>\n",
              "      <td>3400.0</td>\n",
              "      <td>3100.0</td>\n",
              "      <td>1.31M</td>\n",
              "      <td>0.00%</td>\n",
              "    </tr>\n",
              "    <tr>\n",
              "      <th>2024-04-17</th>\n",
              "      <td>3200.0</td>\n",
              "      <td>3300.0</td>\n",
              "      <td>3300.0</td>\n",
              "      <td>3000.0</td>\n",
              "      <td>2.53M</td>\n",
              "      <td>-3.03%</td>\n",
              "    </tr>\n",
              "  </tbody>\n",
              "</table>\n",
              "<p>1322 rows × 6 columns</p>\n",
              "</div>\n",
              "    <div class=\"colab-df-buttons\">\n",
              "\n",
              "  <div class=\"colab-df-container\">\n",
              "    <button class=\"colab-df-convert\" onclick=\"convertToInteractive('df-7a50a76f-c850-4ffc-a94c-3c8aec1e3b37')\"\n",
              "            title=\"Convert this dataframe to an interactive table.\"\n",
              "            style=\"display:none;\">\n",
              "\n",
              "  <svg xmlns=\"http://www.w3.org/2000/svg\" height=\"24px\" viewBox=\"0 -960 960 960\">\n",
              "    <path d=\"M120-120v-720h720v720H120Zm60-500h600v-160H180v160Zm220 220h160v-160H400v160Zm0 220h160v-160H400v160ZM180-400h160v-160H180v160Zm440 0h160v-160H620v160ZM180-180h160v-160H180v160Zm440 0h160v-160H620v160Z\"/>\n",
              "  </svg>\n",
              "    </button>\n",
              "\n",
              "  <style>\n",
              "    .colab-df-container {\n",
              "      display:flex;\n",
              "      gap: 12px;\n",
              "    }\n",
              "\n",
              "    .colab-df-convert {\n",
              "      background-color: #E8F0FE;\n",
              "      border: none;\n",
              "      border-radius: 50%;\n",
              "      cursor: pointer;\n",
              "      display: none;\n",
              "      fill: #1967D2;\n",
              "      height: 32px;\n",
              "      padding: 0 0 0 0;\n",
              "      width: 32px;\n",
              "    }\n",
              "\n",
              "    .colab-df-convert:hover {\n",
              "      background-color: #E2EBFA;\n",
              "      box-shadow: 0px 1px 2px rgba(60, 64, 67, 0.3), 0px 1px 3px 1px rgba(60, 64, 67, 0.15);\n",
              "      fill: #174EA6;\n",
              "    }\n",
              "\n",
              "    .colab-df-buttons div {\n",
              "      margin-bottom: 4px;\n",
              "    }\n",
              "\n",
              "    [theme=dark] .colab-df-convert {\n",
              "      background-color: #3B4455;\n",
              "      fill: #D2E3FC;\n",
              "    }\n",
              "\n",
              "    [theme=dark] .colab-df-convert:hover {\n",
              "      background-color: #434B5C;\n",
              "      box-shadow: 0px 1px 3px 1px rgba(0, 0, 0, 0.15);\n",
              "      filter: drop-shadow(0px 1px 2px rgba(0, 0, 0, 0.3));\n",
              "      fill: #FFFFFF;\n",
              "    }\n",
              "  </style>\n",
              "\n",
              "    <script>\n",
              "      const buttonEl =\n",
              "        document.querySelector('#df-7a50a76f-c850-4ffc-a94c-3c8aec1e3b37 button.colab-df-convert');\n",
              "      buttonEl.style.display =\n",
              "        google.colab.kernel.accessAllowed ? 'block' : 'none';\n",
              "\n",
              "      async function convertToInteractive(key) {\n",
              "        const element = document.querySelector('#df-7a50a76f-c850-4ffc-a94c-3c8aec1e3b37');\n",
              "        const dataTable =\n",
              "          await google.colab.kernel.invokeFunction('convertToInteractive',\n",
              "                                                    [key], {});\n",
              "        if (!dataTable) return;\n",
              "\n",
              "        const docLinkHtml = 'Like what you see? Visit the ' +\n",
              "          '<a target=\"_blank\" href=https://colab.research.google.com/notebooks/data_table.ipynb>data table notebook</a>'\n",
              "          + ' to learn more about interactive tables.';\n",
              "        element.innerHTML = '';\n",
              "        dataTable['output_type'] = 'display_data';\n",
              "        await google.colab.output.renderOutput(dataTable, element);\n",
              "        const docLink = document.createElement('div');\n",
              "        docLink.innerHTML = docLinkHtml;\n",
              "        element.appendChild(docLink);\n",
              "      }\n",
              "    </script>\n",
              "  </div>\n",
              "\n",
              "\n",
              "<div id=\"df-77ef32af-5653-4453-b493-3216d00d35e1\">\n",
              "  <button class=\"colab-df-quickchart\" onclick=\"quickchart('df-77ef32af-5653-4453-b493-3216d00d35e1')\"\n",
              "            title=\"Suggest charts\"\n",
              "            style=\"display:none;\">\n",
              "\n",
              "<svg xmlns=\"http://www.w3.org/2000/svg\" height=\"24px\"viewBox=\"0 0 24 24\"\n",
              "     width=\"24px\">\n",
              "    <g>\n",
              "        <path d=\"M19 3H5c-1.1 0-2 .9-2 2v14c0 1.1.9 2 2 2h14c1.1 0 2-.9 2-2V5c0-1.1-.9-2-2-2zM9 17H7v-7h2v7zm4 0h-2V7h2v10zm4 0h-2v-4h2v4z\"/>\n",
              "    </g>\n",
              "</svg>\n",
              "  </button>\n",
              "\n",
              "<style>\n",
              "  .colab-df-quickchart {\n",
              "      --bg-color: #E8F0FE;\n",
              "      --fill-color: #1967D2;\n",
              "      --hover-bg-color: #E2EBFA;\n",
              "      --hover-fill-color: #174EA6;\n",
              "      --disabled-fill-color: #AAA;\n",
              "      --disabled-bg-color: #DDD;\n",
              "  }\n",
              "\n",
              "  [theme=dark] .colab-df-quickchart {\n",
              "      --bg-color: #3B4455;\n",
              "      --fill-color: #D2E3FC;\n",
              "      --hover-bg-color: #434B5C;\n",
              "      --hover-fill-color: #FFFFFF;\n",
              "      --disabled-bg-color: #3B4455;\n",
              "      --disabled-fill-color: #666;\n",
              "  }\n",
              "\n",
              "  .colab-df-quickchart {\n",
              "    background-color: var(--bg-color);\n",
              "    border: none;\n",
              "    border-radius: 50%;\n",
              "    cursor: pointer;\n",
              "    display: none;\n",
              "    fill: var(--fill-color);\n",
              "    height: 32px;\n",
              "    padding: 0;\n",
              "    width: 32px;\n",
              "  }\n",
              "\n",
              "  .colab-df-quickchart:hover {\n",
              "    background-color: var(--hover-bg-color);\n",
              "    box-shadow: 0 1px 2px rgba(60, 64, 67, 0.3), 0 1px 3px 1px rgba(60, 64, 67, 0.15);\n",
              "    fill: var(--button-hover-fill-color);\n",
              "  }\n",
              "\n",
              "  .colab-df-quickchart-complete:disabled,\n",
              "  .colab-df-quickchart-complete:disabled:hover {\n",
              "    background-color: var(--disabled-bg-color);\n",
              "    fill: var(--disabled-fill-color);\n",
              "    box-shadow: none;\n",
              "  }\n",
              "\n",
              "  .colab-df-spinner {\n",
              "    border: 2px solid var(--fill-color);\n",
              "    border-color: transparent;\n",
              "    border-bottom-color: var(--fill-color);\n",
              "    animation:\n",
              "      spin 1s steps(1) infinite;\n",
              "  }\n",
              "\n",
              "  @keyframes spin {\n",
              "    0% {\n",
              "      border-color: transparent;\n",
              "      border-bottom-color: var(--fill-color);\n",
              "      border-left-color: var(--fill-color);\n",
              "    }\n",
              "    20% {\n",
              "      border-color: transparent;\n",
              "      border-left-color: var(--fill-color);\n",
              "      border-top-color: var(--fill-color);\n",
              "    }\n",
              "    30% {\n",
              "      border-color: transparent;\n",
              "      border-left-color: var(--fill-color);\n",
              "      border-top-color: var(--fill-color);\n",
              "      border-right-color: var(--fill-color);\n",
              "    }\n",
              "    40% {\n",
              "      border-color: transparent;\n",
              "      border-right-color: var(--fill-color);\n",
              "      border-top-color: var(--fill-color);\n",
              "    }\n",
              "    60% {\n",
              "      border-color: transparent;\n",
              "      border-right-color: var(--fill-color);\n",
              "    }\n",
              "    80% {\n",
              "      border-color: transparent;\n",
              "      border-right-color: var(--fill-color);\n",
              "      border-bottom-color: var(--fill-color);\n",
              "    }\n",
              "    90% {\n",
              "      border-color: transparent;\n",
              "      border-bottom-color: var(--fill-color);\n",
              "    }\n",
              "  }\n",
              "</style>\n",
              "\n",
              "  <script>\n",
              "    async function quickchart(key) {\n",
              "      const quickchartButtonEl =\n",
              "        document.querySelector('#' + key + ' button');\n",
              "      quickchartButtonEl.disabled = true;  // To prevent multiple clicks.\n",
              "      quickchartButtonEl.classList.add('colab-df-spinner');\n",
              "      try {\n",
              "        const charts = await google.colab.kernel.invokeFunction(\n",
              "            'suggestCharts', [key], {});\n",
              "      } catch (error) {\n",
              "        console.error('Error during call to suggestCharts:', error);\n",
              "      }\n",
              "      quickchartButtonEl.classList.remove('colab-df-spinner');\n",
              "      quickchartButtonEl.classList.add('colab-df-quickchart-complete');\n",
              "    }\n",
              "    (() => {\n",
              "      let quickchartButtonEl =\n",
              "        document.querySelector('#df-77ef32af-5653-4453-b493-3216d00d35e1 button');\n",
              "      quickchartButtonEl.style.display =\n",
              "        google.colab.kernel.accessAllowed ? 'block' : 'none';\n",
              "    })();\n",
              "  </script>\n",
              "</div>\n",
              "    </div>\n",
              "  </div>\n"
            ],
            "application/vnd.google.colaboratory.intrinsic+json": {
              "type": "dataframe",
              "variable_name": "df",
              "summary": "{\n  \"name\": \"df\",\n  \"rows\": 1322,\n  \"fields\": [\n    {\n      \"column\": \"Date\",\n      \"properties\": {\n        \"dtype\": \"date\",\n        \"min\": \"2019-01-02 00:00:00\",\n        \"max\": \"2024-04-17 00:00:00\",\n        \"num_unique_values\": 1322,\n        \"samples\": [\n          \"2021-11-29 00:00:00\",\n          \"2020-12-01 00:00:00\",\n          \"2019-12-18 00:00:00\"\n        ],\n        \"semantic_type\": \"\",\n        \"description\": \"\"\n      }\n    },\n    {\n      \"column\": \"Price\",\n      \"properties\": {\n        \"dtype\": \"category\",\n        \"num_unique_values\": 336,\n        \"samples\": [\n          \"11758.0\",\n          \"15278.0\",\n          \"7200.0\"\n        ],\n        \"semantic_type\": \"\",\n        \"description\": \"\"\n      }\n    },\n    {\n      \"column\": \"Open\",\n      \"properties\": {\n        \"dtype\": \"category\",\n        \"num_unique_values\": 356,\n        \"samples\": [\n          \"10130.0\",\n          \"13738.0\",\n          \"12041.0\"\n        ],\n        \"semantic_type\": \"\",\n        \"description\": \"\"\n      }\n    },\n    {\n      \"column\": \"High\",\n      \"properties\": {\n        \"dtype\": \"category\",\n        \"num_unique_values\": 356,\n        \"samples\": [\n          \"9366.0\",\n          \"14144.0\",\n          \"12997.0\"\n        ],\n        \"semantic_type\": \"\",\n        \"description\": \"\"\n      }\n    },\n    {\n      \"column\": \"Low\",\n      \"properties\": {\n        \"dtype\": \"category\",\n        \"num_unique_values\": 352,\n        \"samples\": [\n          \"9557.0\",\n          \"15544.0\",\n          \"13288.0\"\n        ],\n        \"semantic_type\": \"\",\n        \"description\": \"\"\n      }\n    },\n    {\n      \"column\": \"Vol.\",\n      \"properties\": {\n        \"dtype\": \"string\",\n        \"num_unique_values\": 1083,\n        \"samples\": [\n          \"8.13K\",\n          \"443.89K\",\n          \"2.31M\"\n        ],\n        \"semantic_type\": \"\",\n        \"description\": \"\"\n      }\n    },\n    {\n      \"column\": \"Change %\",\n      \"properties\": {\n        \"dtype\": \"category\",\n        \"num_unique_values\": 528,\n        \"samples\": [\n          \"-9.75%\",\n          \"-7.41%\",\n          \"0.56%\"\n        ],\n        \"semantic_type\": \"\",\n        \"description\": \"\"\n      }\n    }\n  ]\n}"
            }
          },
          "metadata": {},
          "execution_count": 23
        }
      ],
      "source": [
        "# Show Dataframe\n",
        "df"
      ]
    },
    {
      "cell_type": "markdown",
      "metadata": {
        "id": "DNOBCzo1E0Eh"
      },
      "source": [
        "## Scale Data"
      ]
    },
    {
      "cell_type": "code",
      "execution_count": 24,
      "metadata": {
        "id": "3KRhs1QjE0Eh"
      },
      "outputs": [],
      "source": [
        "# Select 'Close' column\n",
        "data = df['Price'].values"
      ]
    },
    {
      "cell_type": "code",
      "execution_count": 25,
      "metadata": {
        "id": "92q3xBOmE0Eh"
      },
      "outputs": [],
      "source": [
        "# Scale data\n",
        "scaler = MinMaxScaler(feature_range=(0,1))\n",
        "data_scaled = scaler.fit_transform(data.reshape(-1, 1))"
      ]
    },
    {
      "cell_type": "markdown",
      "metadata": {
        "id": "FrdB7fg3E0Eh"
      },
      "source": [
        "## Split the data into train, validation and test set with a ratio of 7 : 1 : 2"
      ]
    },
    {
      "cell_type": "code",
      "execution_count": 26,
      "metadata": {
        "id": "nAzJQY_gE0Eh"
      },
      "outputs": [],
      "source": [
        "# Define the size of train, validation, test set\n",
        "train_size = int(len(data_scaled) * 0.7)\n",
        "val_size = int(len(data_scaled) * 0.1)\n",
        "test_size = len(data_scaled) - train_size - val_size\n",
        "\n",
        "# Split the data into train, test, and validation sets\n",
        "train_data = data_scaled[:train_size]\n",
        "val_data = data_scaled[train_size:train_size + val_size]\n",
        "test_data = data_scaled[train_size + val_size:]"
      ]
    },
    {
      "cell_type": "markdown",
      "metadata": {
        "id": "E2XoeTTHE0Ei"
      },
      "source": [
        "## Create and add data into X, y"
      ]
    },
    {
      "cell_type": "code",
      "execution_count": 27,
      "metadata": {
        "id": "C64pX_FWE0Ei"
      },
      "outputs": [],
      "source": [
        "# Function to prepare data for LSTM\n",
        "def add_data(data, sequence_length=60):\n",
        "    X, Y = [], []\n",
        "    for i in range(len(data) - sequence_length):\n",
        "        X.append(data[i:(i + sequence_length), 0])\n",
        "        Y.append(data[i + sequence_length, 0])\n",
        "    return np.array(X), np.array(Y)"
      ]
    },
    {
      "cell_type": "code",
      "execution_count": 28,
      "metadata": {
        "id": "Dut6z-llE0Ei"
      },
      "outputs": [],
      "source": [
        "# Prepare sequences\n",
        "sequence_length = 60\n",
        "train_last_windowsize = train_data[-sequence_length:]\n",
        "val_last_windowsize = val_data[-sequence_length:]\n",
        "\n",
        "val_data_extended = np.concatenate((train_last_windowsize, val_data), axis=0)\n",
        "test_data_extended = np.concatenate((val_last_windowsize, test_data), axis=0)\n",
        "\n",
        "X_train, y_train = add_data(train_data, sequence_length)\n",
        "X_val, y_val = add_data(val_data_extended, sequence_length)\n",
        "X_test, y_test = add_data(test_data_extended, sequence_length)"
      ]
    },
    {
      "cell_type": "code",
      "source": [
        "# Reshape data for LSTM\n",
        "X_train = X_train.reshape((X_train.shape[0], X_train.shape[1], 1))\n",
        "X_val = X_val.reshape((X_val.shape[0], X_val.shape[1], 1))\n",
        "X_test = X_test.reshape((X_test.shape[0], X_test.shape[1], 1))"
      ],
      "metadata": {
        "id": "4N0Xh_TYg01j"
      },
      "execution_count": 29,
      "outputs": []
    },
    {
      "cell_type": "markdown",
      "metadata": {
        "id": "pslsXo7ME0Ei"
      },
      "source": [
        "## Build Model"
      ]
    },
    {
      "cell_type": "code",
      "execution_count": 30,
      "metadata": {
        "id": "QGg-3iw6E0Ei"
      },
      "outputs": [],
      "source": [
        "# Build the LSTM model\n",
        "model = Sequential()\n",
        "model.add(LSTM(units=50, return_sequences=True, input_shape=(X_train.shape[1], 1)))\n",
        "model.add(Dropout(0.2))\n",
        "model.add(LSTM(units=50, return_sequences=True))\n",
        "model.add(Dropout(0.2))\n",
        "model.add(LSTM(units=50, return_sequences=True))\n",
        "model.add(Dropout(0.2))\n",
        "model.add(LSTM(units=50))\n",
        "model.add(Dropout(0.2))\n",
        "model.add(Dense(units=1))\n",
        "\n",
        "# Compile the model\n",
        "model.compile(optimizer='adam', loss='mean_squared_error')"
      ]
    },
    {
      "cell_type": "markdown",
      "metadata": {
        "id": "roOUtRP9E0Ei"
      },
      "source": [
        "## Training Model"
      ]
    },
    {
      "cell_type": "code",
      "execution_count": 31,
      "metadata": {
        "id": "0NbTdNGCE0Ei",
        "outputId": "8afc9f2b-9a59-403f-9c0b-285eba85daf4",
        "colab": {
          "base_uri": "https://localhost:8080/"
        }
      },
      "outputs": [
        {
          "output_type": "stream",
          "name": "stdout",
          "text": [
            "Epoch 1/50\n",
            "28/28 - 12s - loss: 0.0736 - val_loss: 0.0464 - 12s/epoch - 439ms/step\n",
            "Epoch 2/50\n",
            "28/28 - 3s - loss: 0.0158 - val_loss: 0.0112 - 3s/epoch - 105ms/step\n",
            "Epoch 3/50\n",
            "28/28 - 3s - loss: 0.0114 - val_loss: 0.0027 - 3s/epoch - 94ms/step\n",
            "Epoch 4/50\n",
            "28/28 - 3s - loss: 0.0227 - val_loss: 0.0214 - 3s/epoch - 95ms/step\n",
            "Epoch 5/50\n",
            "28/28 - 3s - loss: 0.0113 - val_loss: 0.0056 - 3s/epoch - 99ms/step\n",
            "Epoch 6/50\n",
            "28/28 - 4s - loss: 0.0108 - val_loss: 0.0030 - 4s/epoch - 138ms/step\n",
            "Epoch 7/50\n",
            "28/28 - 3s - loss: 0.0102 - val_loss: 0.0020 - 3s/epoch - 94ms/step\n",
            "Epoch 8/50\n",
            "28/28 - 3s - loss: 0.0089 - val_loss: 0.0030 - 3s/epoch - 95ms/step\n",
            "Epoch 9/50\n",
            "28/28 - 3s - loss: 0.0096 - val_loss: 0.0037 - 3s/epoch - 95ms/step\n",
            "Epoch 10/50\n",
            "28/28 - 4s - loss: 0.0093 - val_loss: 0.0019 - 4s/epoch - 127ms/step\n",
            "Epoch 11/50\n",
            "28/28 - 3s - loss: 0.0097 - val_loss: 0.0018 - 3s/epoch - 108ms/step\n",
            "Epoch 12/50\n",
            "28/28 - 3s - loss: 0.0079 - val_loss: 7.2733e-04 - 3s/epoch - 95ms/step\n",
            "Epoch 13/50\n",
            "28/28 - 3s - loss: 0.0111 - val_loss: 0.0024 - 3s/epoch - 96ms/step\n",
            "Epoch 14/50\n",
            "28/28 - 3s - loss: 0.0070 - val_loss: 0.0010 - 3s/epoch - 102ms/step\n",
            "Epoch 15/50\n",
            "28/28 - 4s - loss: 0.0068 - val_loss: 7.3164e-04 - 4s/epoch - 137ms/step\n",
            "Epoch 16/50\n",
            "28/28 - 3s - loss: 0.0072 - val_loss: 7.6214e-04 - 3s/epoch - 94ms/step\n",
            "Epoch 17/50\n",
            "28/28 - 3s - loss: 0.0071 - val_loss: 4.0231e-04 - 3s/epoch - 94ms/step\n",
            "Epoch 18/50\n",
            "28/28 - 3s - loss: 0.0071 - val_loss: 0.0021 - 3s/epoch - 96ms/step\n",
            "Epoch 19/50\n",
            "28/28 - 4s - loss: 0.0064 - val_loss: 6.8783e-04 - 4s/epoch - 133ms/step\n",
            "Epoch 20/50\n",
            "28/28 - 3s - loss: 0.0060 - val_loss: 8.8825e-04 - 3s/epoch - 100ms/step\n",
            "Epoch 21/50\n",
            "28/28 - 3s - loss: 0.0074 - val_loss: 4.0853e-04 - 3s/epoch - 95ms/step\n",
            "Epoch 22/50\n",
            "28/28 - 3s - loss: 0.0079 - val_loss: 7.1392e-04 - 3s/epoch - 95ms/step\n",
            "Epoch 23/50\n",
            "28/28 - 3s - loss: 0.0063 - val_loss: 0.0012 - 3s/epoch - 103ms/step\n",
            "Epoch 24/50\n",
            "28/28 - 4s - loss: 0.0059 - val_loss: 6.6898e-04 - 4s/epoch - 128ms/step\n",
            "Epoch 25/50\n",
            "28/28 - 3s - loss: 0.0067 - val_loss: 5.1018e-04 - 3s/epoch - 115ms/step\n",
            "Epoch 26/50\n",
            "28/28 - 3s - loss: 0.0053 - val_loss: 7.3984e-04 - 3s/epoch - 118ms/step\n",
            "Epoch 27/50\n",
            "28/28 - 3s - loss: 0.0060 - val_loss: 5.8795e-04 - 3s/epoch - 109ms/step\n",
            "Epoch 28/50\n",
            "28/28 - 4s - loss: 0.0054 - val_loss: 5.6571e-04 - 4s/epoch - 132ms/step\n",
            "Epoch 29/50\n",
            "28/28 - 3s - loss: 0.0055 - val_loss: 4.2654e-04 - 3s/epoch - 95ms/step\n",
            "Epoch 30/50\n",
            "28/28 - 3s - loss: 0.0054 - val_loss: 5.4430e-04 - 3s/epoch - 94ms/step\n",
            "Epoch 31/50\n",
            "28/28 - 3s - loss: 0.0049 - val_loss: 5.1310e-04 - 3s/epoch - 94ms/step\n",
            "Epoch 32/50\n",
            "28/28 - 4s - loss: 0.0049 - val_loss: 6.8729e-04 - 4s/epoch - 141ms/step\n",
            "Epoch 33/50\n",
            "28/28 - 3s - loss: 0.0050 - val_loss: 8.7068e-04 - 3s/epoch - 97ms/step\n",
            "Epoch 34/50\n",
            "28/28 - 3s - loss: 0.0050 - val_loss: 4.0115e-04 - 3s/epoch - 95ms/step\n",
            "Epoch 35/50\n",
            "28/28 - 3s - loss: 0.0051 - val_loss: 4.0324e-04 - 3s/epoch - 94ms/step\n",
            "Epoch 36/50\n",
            "28/28 - 3s - loss: 0.0049 - val_loss: 4.0273e-04 - 3s/epoch - 103ms/step\n",
            "Epoch 37/50\n",
            "28/28 - 4s - loss: 0.0046 - val_loss: 3.5700e-04 - 4s/epoch - 135ms/step\n",
            "Epoch 38/50\n",
            "28/28 - 3s - loss: 0.0050 - val_loss: 3.8573e-04 - 3s/epoch - 95ms/step\n",
            "Epoch 39/50\n",
            "28/28 - 3s - loss: 0.0051 - val_loss: 6.0288e-04 - 3s/epoch - 94ms/step\n",
            "Epoch 40/50\n",
            "28/28 - 3s - loss: 0.0046 - val_loss: 4.6774e-04 - 3s/epoch - 94ms/step\n",
            "Epoch 41/50\n",
            "28/28 - 4s - loss: 0.0045 - val_loss: 0.0011 - 4s/epoch - 129ms/step\n",
            "Epoch 42/50\n",
            "28/28 - 3s - loss: 0.0052 - val_loss: 0.0020 - 3s/epoch - 101ms/step\n",
            "Epoch 43/50\n",
            "28/28 - 3s - loss: 0.0044 - val_loss: 5.2127e-04 - 3s/epoch - 95ms/step\n",
            "Epoch 44/50\n",
            "28/28 - 3s - loss: 0.0046 - val_loss: 7.9873e-04 - 3s/epoch - 95ms/step\n",
            "Epoch 45/50\n",
            "28/28 - 3s - loss: 0.0044 - val_loss: 5.1438e-04 - 3s/epoch - 103ms/step\n",
            "Epoch 46/50\n",
            "28/28 - 4s - loss: 0.0045 - val_loss: 5.0756e-04 - 4s/epoch - 130ms/step\n",
            "Epoch 47/50\n",
            "28/28 - 3s - loss: 0.0045 - val_loss: 5.8146e-04 - 3s/epoch - 94ms/step\n",
            "Epoch 48/50\n",
            "28/28 - 3s - loss: 0.0046 - val_loss: 5.2667e-04 - 3s/epoch - 94ms/step\n",
            "Epoch 49/50\n",
            "28/28 - 3s - loss: 0.0041 - val_loss: 3.5073e-04 - 3s/epoch - 95ms/step\n",
            "Epoch 50/50\n",
            "28/28 - 4s - loss: 0.0040 - val_loss: 4.6464e-04 - 4s/epoch - 137ms/step\n"
          ]
        }
      ],
      "source": [
        "# Train the model\n",
        "history = model.fit(X_train, y_train, validation_data=(X_val, y_val), epochs=50, batch_size=32, verbose=2)"
      ]
    },
    {
      "cell_type": "markdown",
      "metadata": {
        "id": "MLMwS5wEE0Ej"
      },
      "source": [
        "## Predict Close price in test and validation set"
      ]
    },
    {
      "cell_type": "code",
      "execution_count": 32,
      "metadata": {
        "id": "cwiDqXgEE0Ej",
        "outputId": "983fde5e-7566-474c-a335-6e81933ac459",
        "colab": {
          "base_uri": "https://localhost:8080/"
        }
      },
      "outputs": [
        {
          "output_type": "stream",
          "name": "stdout",
          "text": [
            "9/9 [==============================] - 2s 27ms/step\n",
            "5/5 [==============================] - 0s 28ms/step\n"
          ]
        }
      ],
      "source": [
        "# Make predictions\n",
        "y_pred = model.predict(X_test)\n",
        "y_pred_val = model.predict(X_val)"
      ]
    },
    {
      "cell_type": "markdown",
      "metadata": {
        "id": "LAVBa-2GE0Ej"
      },
      "source": [
        "## Transform data back to the original"
      ]
    },
    {
      "cell_type": "code",
      "execution_count": 33,
      "metadata": {
        "id": "HI5bRr8uE0Ej"
      },
      "outputs": [],
      "source": [
        "# Inverse transform the predictions and actual values\n",
        "y_pred = scaler.inverse_transform(y_pred)\n",
        "y_val = scaler.inverse_transform(y_val.reshape(-1, 1))\n",
        "y_pred_val = scaler.inverse_transform(y_pred_val)\n",
        "train_data = scaler.inverse_transform(train_data)\n",
        "test_data = scaler.inverse_transform(test_data)\n",
        "val_data = scaler.inverse_transform(val_data)"
      ]
    },
    {
      "cell_type": "markdown",
      "metadata": {
        "id": "rW55_P9SE0Ej"
      },
      "source": [
        "## Calculate the error of the model"
      ]
    },
    {
      "cell_type": "code",
      "execution_count": 34,
      "metadata": {
        "id": "9V2An6RIE0Ej",
        "outputId": "846b5973-d332-4dab-88de-8ab4cb520ab3",
        "colab": {
          "base_uri": "https://localhost:8080/"
        }
      },
      "outputs": [
        {
          "output_type": "stream",
          "name": "stdout",
          "text": [
            "MAPE on Test set: 67144.37354151272\n",
            "RMSE on Test set: 4406.941686883136\n",
            "MSLE on Test set: 69.05922197450612\n"
          ]
        }
      ],
      "source": [
        "# Calculate error metrics\n",
        "test_mape = mean_absolute_percentage_error(y_test, y_pred)\n",
        "test_mse = mean_squared_error(y_test, y_pred)\n",
        "test_rmse = np.sqrt(test_mse)\n",
        "test_msle = mean_squared_log_error(y_test, y_pred)\n",
        "\n",
        "print(f\"MAPE on Test set: {test_mape}\")\n",
        "print(f\"RMSE on Test set: {test_rmse}\")\n",
        "print(f\"MSLE on Test set: {test_msle}\")"
      ]
    },
    {
      "cell_type": "code",
      "execution_count": 35,
      "metadata": {
        "id": "tjP80YEnE0Ej",
        "outputId": "98b0a2ba-04da-4ecf-d31e-30da3da25fde",
        "colab": {
          "base_uri": "https://localhost:8080/"
        }
      },
      "outputs": [
        {
          "output_type": "stream",
          "name": "stdout",
          "text": [
            "MAPE on Validate set: 0.09007278787553663\n",
            "RMSE on Validate set: 471.82932852179323\n",
            "MSLE on Validate set: 0.011382784334492364\n"
          ]
        }
      ],
      "source": [
        "# The error in validation set\n",
        "val_mape = mean_absolute_percentage_error(y_val, y_pred_val)\n",
        "val_mse = mean_squared_error(y_val, y_pred_val)\n",
        "val_rmse = np.sqrt(val_mse)\n",
        "val_msle = mean_squared_log_error(y_val, y_pred_val)\n",
        "\n",
        "print(f\"MAPE on Validate set: {val_mape}\")\n",
        "print(f\"RMSE on Validate set: {val_rmse}\")\n",
        "print(f\"MSLE on Validate set: {val_msle}\")"
      ]
    },
    {
      "cell_type": "markdown",
      "metadata": {
        "id": "5mtsTm6EE0Ej"
      },
      "source": [
        "## Predict Close price for 30 next days"
      ]
    },
    {
      "cell_type": "code",
      "execution_count": 36,
      "metadata": {
        "id": "CuOZR3qNE0Ej",
        "outputId": "8fd04cf1-0efa-4ae2-8ea5-cbd514589e47",
        "colab": {
          "base_uri": "https://localhost:8080/"
        }
      },
      "outputs": [
        {
          "output_type": "stream",
          "name": "stdout",
          "text": [
            "1/1 [==============================] - 0s 29ms/step\n",
            "1/1 [==============================] - 0s 27ms/step\n",
            "1/1 [==============================] - 0s 29ms/step\n",
            "1/1 [==============================] - 0s 29ms/step\n",
            "1/1 [==============================] - 0s 28ms/step\n",
            "1/1 [==============================] - 0s 36ms/step\n",
            "1/1 [==============================] - 0s 29ms/step\n",
            "1/1 [==============================] - 0s 30ms/step\n",
            "1/1 [==============================] - 0s 30ms/step\n",
            "1/1 [==============================] - 0s 28ms/step\n",
            "1/1 [==============================] - 0s 32ms/step\n",
            "1/1 [==============================] - 0s 29ms/step\n",
            "1/1 [==============================] - 0s 34ms/step\n",
            "1/1 [==============================] - 0s 30ms/step\n",
            "1/1 [==============================] - 0s 28ms/step\n",
            "1/1 [==============================] - 0s 31ms/step\n",
            "1/1 [==============================] - 0s 29ms/step\n",
            "1/1 [==============================] - 0s 29ms/step\n",
            "1/1 [==============================] - 0s 29ms/step\n",
            "1/1 [==============================] - 0s 28ms/step\n",
            "1/1 [==============================] - 0s 29ms/step\n",
            "1/1 [==============================] - 0s 29ms/step\n",
            "1/1 [==============================] - 0s 31ms/step\n",
            "1/1 [==============================] - 0s 34ms/step\n",
            "1/1 [==============================] - 0s 31ms/step\n",
            "1/1 [==============================] - 0s 28ms/step\n",
            "1/1 [==============================] - 0s 27ms/step\n",
            "1/1 [==============================] - 0s 28ms/step\n",
            "1/1 [==============================] - 0s 30ms/step\n",
            "1/1 [==============================] - 0s 29ms/step\n"
          ]
        }
      ],
      "source": [
        "last_sequence_days = data_scaled[-sequence_length:].reshape(1, -1, 1)\n",
        "y_next_30_days = []\n",
        "\n",
        "for i in range(30):\n",
        "    next_day_pred = model.predict(last_sequence_days)\n",
        "    y_next_30_days.append(next_day_pred[0][0])\n",
        "    last_sequence_days = np.concatenate([last_sequence_days[:, 1:, :], next_day_pred.reshape(1, 1, 1)], axis=1)\n"
      ]
    },
    {
      "cell_type": "code",
      "execution_count": 37,
      "metadata": {
        "id": "bg6mf7a1E0Ej",
        "outputId": "0ef4cb42-f782-4f5a-d34a-48be4919208c",
        "colab": {
          "base_uri": "https://localhost:8080/"
        }
      },
      "outputs": [
        {
          "output_type": "stream",
          "name": "stdout",
          "text": [
            "[3598.0354 3554.6804 3528.3623 3521.4941 3531.4246 3553.089  3581.3\n",
            " 3612.042  3642.8362 3672.527  3700.8403 3727.947  3754.1538 3779.7344\n",
            " 3804.8643 3829.631  3854.0603 3878.1567 3901.9216 3925.3687 3948.5198\n",
            " 3971.4092 3994.076  4016.554  4038.876  4061.0718 4083.1638 4105.1694\n",
            " 4127.1035 4148.979 ]\n"
          ]
        }
      ],
      "source": [
        "# Show the result of predict 30 next days\n",
        "y_next_30_days = scaler.inverse_transform(np.array(y_next_30_days).reshape(-1, 1))\n",
        "print(y_next_30_days.flatten())"
      ]
    },
    {
      "cell_type": "markdown",
      "metadata": {
        "id": "K8VskxMGE0Ek"
      },
      "source": [
        "## Model visualization"
      ]
    },
    {
      "cell_type": "code",
      "execution_count": 38,
      "metadata": {
        "id": "16-6QPWhE0Ek",
        "outputId": "9f747155-c0d4-4c33-8fb3-e9e2aab8ef31",
        "colab": {
          "base_uri": "https://localhost:8080/",
          "height": 451
        }
      },
      "outputs": [
        {
          "output_type": "display_data",
          "data": {
            "text/plain": [
              "<Figure size 1200x500 with 1 Axes>"
            ],
            "image/png": "[encoded data removed]"
          },
          "metadata": {}
        }
      ],
      "source": [
        "# Plot the results\n",
        "plt.figure(figsize=(12, 5))\n",
        "plt.plot(df[:train_size].index, train_data)\n",
        "plt.plot(df[train_size:train_size + val_size].index, val_data)\n",
        "plt.plot(df[train_size:train_size + val_size].index, y_pred_val)\n",
        "plt.plot(df[train_size + val_size:].index, test_data)\n",
        "plt.plot(df[train_size + val_size:].index, y_pred)\n",
        "plt.plot(pd.date_range(start=df.index[-1] + pd.DateOffset(days=1), periods=30), y_next_30_days)\n",
        "plt.legend(['Train', 'Validate', 'Predict Validation', 'Test', 'Predict Test', 'Predict30days'])\n",
        "plt.grid()\n",
        "plt.title(\"AMV Closing Price Data With Ratio 7_1_2\")\n",
        "plt.xlabel(\"Date\")\n",
        "plt.ylabel(\"Close value\")\n",
        "plt.savefig('RNN_712_AMV.png')\n",
        "plt.show()"
      ]
    }
  ],
  "metadata": {
    "kernelspec": {
      "display_name": "user_env",
      "language": "python",
      "name": "python3"
    },
    "language_info": {
      "codemirror_mode": {
        "name": "ipython",
        "version": 3
      },
      "file_extension": ".py",
      "mimetype": "text/x-python",
      "name": "python",
      "nbconvert_exporter": "python",
      "pygments_lexer": "ipython3",
      "version": "3.9.16"
    },
    "orig_nbformat": 4,
    "colab": {
      "provenance": []
    }
  },
  "nbformat": 4,
  "nbformat_minor": 0
}