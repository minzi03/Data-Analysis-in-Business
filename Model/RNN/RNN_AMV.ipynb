{
  "cells": [
    {
      "cell_type": "markdown",
      "metadata": {
        "id": "ZmAUod5iE0Ed"
      },
      "source": [
        "## Import the necessary libraries"
      ]
    },
    {
      "cell_type": "code",
      "execution_count": 9,
      "metadata": {
        "id": "yX_dfgFhE0Ee"
      },
      "outputs": [],
      "source": [
        "import pandas as pd\n",
        "import numpy as np\n",
        "\n",
        "from tensorflow.keras.models import Sequential\n",
        "from tensorflow.keras.layers import Dense, Dropout, LSTM\n",
        "\n",
        "from sklearn.metrics import mean_squared_error, mean_absolute_percentage_error, mean_squared_log_error\n",
        "from sklearn.preprocessing import MinMaxScaler\n",
        "\n",
        "import matplotlib.pyplot as plt\n",
        "%matplotlib inline"
      ]
    },
    {
      "cell_type": "code",
      "execution_count": 12,
      "metadata": {},
      "outputs": [
        {
          "name": "stdout",
          "output_type": "stream",
          "text": [
            "c:\\Users\\trieu\\OneDrive\\Documents\\HK2_2024\\IS403\\IS403_BA\\IS403_O22_HTCL_2\\Model\\RNN\n"
          ]
        }
      ],
      "source": [
        "import os  \n",
        "print(os.getcwd())"
      ]
    },
    {
      "cell_type": "markdown",
      "metadata": {
        "id": "GbGZH3fHE0Ef"
      },
      "source": [
        "## Load data"
      ]
    },
    {
      "cell_type": "code",
      "execution_count": 32,
      "metadata": {
        "colab": {
          "base_uri": "https://localhost:8080/",
          "height": 362
        },
        "id": "692JHIjtE0Eg",
        "outputId": "4ee9a009-639c-4523-d765-a0a8b5e8113d"
      },
      "outputs": [
        {
          "data": {
            "text/html": [
              "<div>\n",
              "<style scoped>\n",
              "    .dataframe tbody tr th:only-of-type {\n",
              "        vertical-align: middle;\n",
              "    }\n",
              "\n",
              "    .dataframe tbody tr th {\n",
              "        vertical-align: top;\n",
              "    }\n",
              "\n",
              "    .dataframe thead th {\n",
              "        text-align: right;\n",
              "    }\n",
              "</style>\n",
              "<table border=\"1\" class=\"dataframe\">\n",
              "  <thead>\n",
              "    <tr style=\"text-align: right;\">\n",
              "      <th></th>\n",
              "      <th>Date</th>\n",
              "      <th>Price</th>\n",
              "      <th>Open</th>\n",
              "      <th>High</th>\n",
              "      <th>Low</th>\n",
              "      <th>Vol.</th>\n",
              "      <th>Change %</th>\n",
              "    </tr>\n",
              "  </thead>\n",
              "  <tbody>\n",
              "    <tr>\n",
              "      <th>0</th>\n",
              "      <td>05/31/2024</td>\n",
              "      <td>3,700.0</td>\n",
              "      <td>3,600.0</td>\n",
              "      <td>3,800.0</td>\n",
              "      <td>3,600.0</td>\n",
              "      <td>1.44M</td>\n",
              "      <td>2.78%</td>\n",
              "    </tr>\n",
              "    <tr>\n",
              "      <th>1</th>\n",
              "      <td>05/30/2024</td>\n",
              "      <td>3,600.0</td>\n",
              "      <td>3,600.0</td>\n",
              "      <td>3,800.0</td>\n",
              "      <td>3,500.0</td>\n",
              "      <td>3.23M</td>\n",
              "      <td>2.86%</td>\n",
              "    </tr>\n",
              "    <tr>\n",
              "      <th>2</th>\n",
              "      <td>05/29/2024</td>\n",
              "      <td>3,500.0</td>\n",
              "      <td>3,500.0</td>\n",
              "      <td>3,600.0</td>\n",
              "      <td>3,500.0</td>\n",
              "      <td>522.68K</td>\n",
              "      <td>0.00%</td>\n",
              "    </tr>\n",
              "    <tr>\n",
              "      <th>3</th>\n",
              "      <td>05/28/2024</td>\n",
              "      <td>3,500.0</td>\n",
              "      <td>3,500.0</td>\n",
              "      <td>3,600.0</td>\n",
              "      <td>3,500.0</td>\n",
              "      <td>452.54K</td>\n",
              "      <td>0.00%</td>\n",
              "    </tr>\n",
              "    <tr>\n",
              "      <th>4</th>\n",
              "      <td>05/27/2024</td>\n",
              "      <td>3,500.0</td>\n",
              "      <td>3,500.0</td>\n",
              "      <td>3,600.0</td>\n",
              "      <td>3,500.0</td>\n",
              "      <td>660.47K</td>\n",
              "      <td>0.00%</td>\n",
              "    </tr>\n",
              "    <tr>\n",
              "      <th>...</th>\n",
              "      <td>...</td>\n",
              "      <td>...</td>\n",
              "      <td>...</td>\n",
              "      <td>...</td>\n",
              "      <td>...</td>\n",
              "      <td>...</td>\n",
              "      <td>...</td>\n",
              "    </tr>\n",
              "    <tr>\n",
              "      <th>1308</th>\n",
              "      <td>03/07/2019</td>\n",
              "      <td>14,144.0</td>\n",
              "      <td>14,594.0</td>\n",
              "      <td>14,594.0</td>\n",
              "      <td>14,144.0</td>\n",
              "      <td>28.81K</td>\n",
              "      <td>-3.08%</td>\n",
              "    </tr>\n",
              "    <tr>\n",
              "      <th>1309</th>\n",
              "      <td>03/06/2019</td>\n",
              "      <td>14,594.0</td>\n",
              "      <td>14,414.0</td>\n",
              "      <td>14,684.0</td>\n",
              "      <td>14,414.0</td>\n",
              "      <td>17.25K</td>\n",
              "      <td>1.25%</td>\n",
              "    </tr>\n",
              "    <tr>\n",
              "      <th>1310</th>\n",
              "      <td>03/05/2019</td>\n",
              "      <td>14,414.0</td>\n",
              "      <td>14,865.0</td>\n",
              "      <td>15,045.0</td>\n",
              "      <td>14,414.0</td>\n",
              "      <td>48.80K</td>\n",
              "      <td>-3.03%</td>\n",
              "    </tr>\n",
              "    <tr>\n",
              "      <th>1311</th>\n",
              "      <td>03/04/2019</td>\n",
              "      <td>14,865.0</td>\n",
              "      <td>15,180.0</td>\n",
              "      <td>15,180.0</td>\n",
              "      <td>14,865.0</td>\n",
              "      <td>19.01K</td>\n",
              "      <td>-2.36%</td>\n",
              "    </tr>\n",
              "    <tr>\n",
              "      <th>1312</th>\n",
              "      <td>03/01/2019</td>\n",
              "      <td>15,225.0</td>\n",
              "      <td>15,270.0</td>\n",
              "      <td>15,315.0</td>\n",
              "      <td>15,180.0</td>\n",
              "      <td>4.70K</td>\n",
              "      <td>-0.29%</td>\n",
              "    </tr>\n",
              "  </tbody>\n",
              "</table>\n",
              "<p>1313 rows × 7 columns</p>\n",
              "</div>"
            ],
            "text/plain": [
              "            Date     Price      Open      High       Low     Vol. Change %\n",
              "0     05/31/2024   3,700.0   3,600.0   3,800.0   3,600.0    1.44M    2.78%\n",
              "1     05/30/2024   3,600.0   3,600.0   3,800.0   3,500.0    3.23M    2.86%\n",
              "2     05/29/2024   3,500.0   3,500.0   3,600.0   3,500.0  522.68K    0.00%\n",
              "3     05/28/2024   3,500.0   3,500.0   3,600.0   3,500.0  452.54K    0.00%\n",
              "4     05/27/2024   3,500.0   3,500.0   3,600.0   3,500.0  660.47K    0.00%\n",
              "...          ...       ...       ...       ...       ...      ...      ...\n",
              "1308  03/07/2019  14,144.0  14,594.0  14,594.0  14,144.0   28.81K   -3.08%\n",
              "1309  03/06/2019  14,594.0  14,414.0  14,684.0  14,414.0   17.25K    1.25%\n",
              "1310  03/05/2019  14,414.0  14,865.0  15,045.0  14,414.0   48.80K   -3.03%\n",
              "1311  03/04/2019  14,865.0  15,180.0  15,180.0  14,865.0   19.01K   -2.36%\n",
              "1312  03/01/2019  15,225.0  15,270.0  15,315.0  15,180.0    4.70K   -0.29%\n",
              "\n",
              "[1313 rows x 7 columns]"
            ]
          },
          "execution_count": 32,
          "metadata": {},
          "output_type": "execute_result"
        }
      ],
      "source": [
        "df = pd.read_csv(r'C:\\Users\\trieu\\OneDrive\\Documents\\HK2_2024\\IS403\\IS403_BA\\IS403_O22_HTCL_2\\Dataset\\AMV Historical Data.csv')\n",
        "df"
      ]
    },
    {
      "cell_type": "markdown",
      "metadata": {
        "id": "v2aUx9TuE0Eg"
      },
      "source": [
        "## Data preprocessing"
      ]
    },
    {
      "cell_type": "code",
      "execution_count": 33,
      "metadata": {
        "id": "cHFj4cMHE0Eh"
      },
      "outputs": [],
      "source": [
        "# Convert the 'Date' column to datetime format\n",
        "df['Date'] = pd.to_datetime(df['Date'])\n",
        "\n",
        "# Sort the data by date in ascending order\n",
        "df = df.sort_values('Date')\n",
        "\n",
        "# Set the 'Date' column as the index value\n",
        "df.set_index('Date', inplace=True)\n",
        "df = df.replace(',', '', regex=True)"
      ]
    },
    {
      "cell_type": "code",
      "execution_count": 34,
      "metadata": {
        "colab": {
          "base_uri": "https://localhost:8080/",
          "height": 455
        },
        "id": "Fo-JXTWSE0Eh",
        "outputId": "2e307ecc-152b-4496-d86f-12146b9560d7"
      },
      "outputs": [
        {
          "data": {
            "text/html": [
              "<div>\n",
              "<style scoped>\n",
              "    .dataframe tbody tr th:only-of-type {\n",
              "        vertical-align: middle;\n",
              "    }\n",
              "\n",
              "    .dataframe tbody tr th {\n",
              "        vertical-align: top;\n",
              "    }\n",
              "\n",
              "    .dataframe thead th {\n",
              "        text-align: right;\n",
              "    }\n",
              "</style>\n",
              "<table border=\"1\" class=\"dataframe\">\n",
              "  <thead>\n",
              "    <tr style=\"text-align: right;\">\n",
              "      <th></th>\n",
              "      <th>Price</th>\n",
              "      <th>Open</th>\n",
              "      <th>High</th>\n",
              "      <th>Low</th>\n",
              "      <th>Vol.</th>\n",
              "      <th>Change %</th>\n",
              "    </tr>\n",
              "    <tr>\n",
              "      <th>Date</th>\n",
              "      <th></th>\n",
              "      <th></th>\n",
              "      <th></th>\n",
              "      <th></th>\n",
              "      <th></th>\n",
              "      <th></th>\n",
              "    </tr>\n",
              "  </thead>\n",
              "  <tbody>\n",
              "    <tr>\n",
              "      <th>2019-03-01</th>\n",
              "      <td>15225.0</td>\n",
              "      <td>15270.0</td>\n",
              "      <td>15315.0</td>\n",
              "      <td>15180.0</td>\n",
              "      <td>4.70K</td>\n",
              "      <td>-0.29%</td>\n",
              "    </tr>\n",
              "    <tr>\n",
              "      <th>2019-03-04</th>\n",
              "      <td>14865.0</td>\n",
              "      <td>15180.0</td>\n",
              "      <td>15180.0</td>\n",
              "      <td>14865.0</td>\n",
              "      <td>19.01K</td>\n",
              "      <td>-2.36%</td>\n",
              "    </tr>\n",
              "    <tr>\n",
              "      <th>2019-03-05</th>\n",
              "      <td>14414.0</td>\n",
              "      <td>14865.0</td>\n",
              "      <td>15045.0</td>\n",
              "      <td>14414.0</td>\n",
              "      <td>48.80K</td>\n",
              "      <td>-3.03%</td>\n",
              "    </tr>\n",
              "    <tr>\n",
              "      <th>2019-03-06</th>\n",
              "      <td>14594.0</td>\n",
              "      <td>14414.0</td>\n",
              "      <td>14684.0</td>\n",
              "      <td>14414.0</td>\n",
              "      <td>17.25K</td>\n",
              "      <td>1.25%</td>\n",
              "    </tr>\n",
              "    <tr>\n",
              "      <th>2019-03-07</th>\n",
              "      <td>14144.0</td>\n",
              "      <td>14594.0</td>\n",
              "      <td>14594.0</td>\n",
              "      <td>14144.0</td>\n",
              "      <td>28.81K</td>\n",
              "      <td>-3.08%</td>\n",
              "    </tr>\n",
              "    <tr>\n",
              "      <th>...</th>\n",
              "      <td>...</td>\n",
              "      <td>...</td>\n",
              "      <td>...</td>\n",
              "      <td>...</td>\n",
              "      <td>...</td>\n",
              "      <td>...</td>\n",
              "    </tr>\n",
              "    <tr>\n",
              "      <th>2024-05-27</th>\n",
              "      <td>3500.0</td>\n",
              "      <td>3500.0</td>\n",
              "      <td>3600.0</td>\n",
              "      <td>3500.0</td>\n",
              "      <td>660.47K</td>\n",
              "      <td>0.00%</td>\n",
              "    </tr>\n",
              "    <tr>\n",
              "      <th>2024-05-28</th>\n",
              "      <td>3500.0</td>\n",
              "      <td>3500.0</td>\n",
              "      <td>3600.0</td>\n",
              "      <td>3500.0</td>\n",
              "      <td>452.54K</td>\n",
              "      <td>0.00%</td>\n",
              "    </tr>\n",
              "    <tr>\n",
              "      <th>2024-05-29</th>\n",
              "      <td>3500.0</td>\n",
              "      <td>3500.0</td>\n",
              "      <td>3600.0</td>\n",
              "      <td>3500.0</td>\n",
              "      <td>522.68K</td>\n",
              "      <td>0.00%</td>\n",
              "    </tr>\n",
              "    <tr>\n",
              "      <th>2024-05-30</th>\n",
              "      <td>3600.0</td>\n",
              "      <td>3600.0</td>\n",
              "      <td>3800.0</td>\n",
              "      <td>3500.0</td>\n",
              "      <td>3.23M</td>\n",
              "      <td>2.86%</td>\n",
              "    </tr>\n",
              "    <tr>\n",
              "      <th>2024-05-31</th>\n",
              "      <td>3700.0</td>\n",
              "      <td>3600.0</td>\n",
              "      <td>3800.0</td>\n",
              "      <td>3600.0</td>\n",
              "      <td>1.44M</td>\n",
              "      <td>2.78%</td>\n",
              "    </tr>\n",
              "  </tbody>\n",
              "</table>\n",
              "<p>1313 rows × 6 columns</p>\n",
              "</div>"
            ],
            "text/plain": [
              "              Price     Open     High      Low     Vol. Change %\n",
              "Date                                                            \n",
              "2019-03-01  15225.0  15270.0  15315.0  15180.0    4.70K   -0.29%\n",
              "2019-03-04  14865.0  15180.0  15180.0  14865.0   19.01K   -2.36%\n",
              "2019-03-05  14414.0  14865.0  15045.0  14414.0   48.80K   -3.03%\n",
              "2019-03-06  14594.0  14414.0  14684.0  14414.0   17.25K    1.25%\n",
              "2019-03-07  14144.0  14594.0  14594.0  14144.0   28.81K   -3.08%\n",
              "...             ...      ...      ...      ...      ...      ...\n",
              "2024-05-27   3500.0   3500.0   3600.0   3500.0  660.47K    0.00%\n",
              "2024-05-28   3500.0   3500.0   3600.0   3500.0  452.54K    0.00%\n",
              "2024-05-29   3500.0   3500.0   3600.0   3500.0  522.68K    0.00%\n",
              "2024-05-30   3600.0   3600.0   3800.0   3500.0    3.23M    2.86%\n",
              "2024-05-31   3700.0   3600.0   3800.0   3600.0    1.44M    2.78%\n",
              "\n",
              "[1313 rows x 6 columns]"
            ]
          },
          "execution_count": 34,
          "metadata": {},
          "output_type": "execute_result"
        }
      ],
      "source": [
        "# Show Dataframe\n",
        "df"
      ]
    },
    {
      "cell_type": "markdown",
      "metadata": {
        "id": "DNOBCzo1E0Eh"
      },
      "source": [
        "## Scale Data"
      ]
    },
    {
      "cell_type": "code",
      "execution_count": 35,
      "metadata": {
        "id": "3KRhs1QjE0Eh"
      },
      "outputs": [],
      "source": [
        "# Select 'Close' column\n",
        "data = df['Price'].values"
      ]
    },
    {
      "cell_type": "code",
      "execution_count": 36,
      "metadata": {
        "id": "92q3xBOmE0Eh"
      },
      "outputs": [],
      "source": [
        "# Scale data\n",
        "scaler = MinMaxScaler(feature_range=(0,1))\n",
        "data_scaled = scaler.fit_transform(data.reshape(-1, 1))"
      ]
    },
    {
      "cell_type": "markdown",
      "metadata": {
        "id": "FrdB7fg3E0Eh"
      },
      "source": [
        "## Split the data into train, validation and test set with a ratio of 7 : 1 : 2"
      ]
    },
    {
      "cell_type": "code",
      "execution_count": 37,
      "metadata": {
        "id": "nAzJQY_gE0Eh"
      },
      "outputs": [],
      "source": [
        "# Define the size of train, validation, test set\n",
        "train_size = int(len(data_scaled) * 0.7)\n",
        "val_size = int(len(data_scaled) * 0.1)\n",
        "test_size = len(data_scaled) - train_size - val_size\n",
        "\n",
        "# Split the data into train, test, and validation sets\n",
        "train_data = data_scaled[:train_size]\n",
        "val_data = data_scaled[train_size:train_size + val_size]\n",
        "test_data = data_scaled[train_size + val_size:]"
      ]
    },
    {
      "cell_type": "markdown",
      "metadata": {
        "id": "E2XoeTTHE0Ei"
      },
      "source": [
        "## Create and add data into X, y"
      ]
    },
    {
      "cell_type": "code",
      "execution_count": 38,
      "metadata": {
        "id": "C64pX_FWE0Ei"
      },
      "outputs": [],
      "source": [
        "# Function to prepare data for LSTM\n",
        "def add_data(data, sequence_length=60):\n",
        "    X, Y = [], []\n",
        "    for i in range(len(data) - sequence_length):\n",
        "        X.append(data[i:(i + sequence_length), 0])\n",
        "        Y.append(data[i + sequence_length, 0])\n",
        "    return np.array(X), np.array(Y)"
      ]
    },
    {
      "cell_type": "code",
      "execution_count": 39,
      "metadata": {
        "id": "Dut6z-llE0Ei"
      },
      "outputs": [],
      "source": [
        "# Prepare sequences\n",
        "sequence_length = 60\n",
        "train_last_windowsize = train_data[-sequence_length:]\n",
        "val_last_windowsize = val_data[-sequence_length:]\n",
        "\n",
        "val_data_extended = np.concatenate((train_last_windowsize, val_data), axis=0)\n",
        "test_data_extended = np.concatenate((val_last_windowsize, test_data), axis=0)\n",
        "\n",
        "X_train, y_train = add_data(train_data, sequence_length)\n",
        "X_val, y_val = add_data(val_data_extended, sequence_length)\n",
        "X_test, y_test = add_data(test_data_extended, sequence_length)"
      ]
    },
    {
      "cell_type": "code",
      "execution_count": 40,
      "metadata": {
        "id": "4N0Xh_TYg01j"
      },
      "outputs": [],
      "source": [
        "# Reshape data for LSTM\n",
        "X_train = X_train.reshape((X_train.shape[0], X_train.shape[1], 1))\n",
        "X_val = X_val.reshape((X_val.shape[0], X_val.shape[1], 1))\n",
        "X_test = X_test.reshape((X_test.shape[0], X_test.shape[1], 1))"
      ]
    },
    {
      "cell_type": "markdown",
      "metadata": {
        "id": "pslsXo7ME0Ei"
      },
      "source": [
        "## Build Model"
      ]
    },
    {
      "cell_type": "code",
      "execution_count": 41,
      "metadata": {
        "id": "QGg-3iw6E0Ei"
      },
      "outputs": [
        {
          "name": "stderr",
          "output_type": "stream",
          "text": [
            "c:\\Python312\\Lib\\site-packages\\keras\\src\\layers\\rnn\\rnn.py:204: UserWarning: Do not pass an `input_shape`/`input_dim` argument to a layer. When using Sequential models, prefer using an `Input(shape)` object as the first layer in the model instead.\n",
            "  super().__init__(**kwargs)\n"
          ]
        }
      ],
      "source": [
        "# Build the LSTM model\n",
        "model = Sequential()\n",
        "model.add(LSTM(units=50, return_sequences=True, input_shape=(X_train.shape[1], 1)))\n",
        "model.add(Dropout(0.2))\n",
        "model.add(LSTM(units=50, return_sequences=True))\n",
        "model.add(Dropout(0.2))\n",
        "model.add(LSTM(units=50, return_sequences=True))\n",
        "model.add(Dropout(0.2))\n",
        "model.add(LSTM(units=50))\n",
        "model.add(Dropout(0.2))\n",
        "model.add(Dense(units=1))\n",
        "\n",
        "# Compile the model\n",
        "model.compile(optimizer='adam', loss='mean_squared_error')"
      ]
    },
    {
      "cell_type": "markdown",
      "metadata": {
        "id": "roOUtRP9E0Ei"
      },
      "source": [
        "## Training Model"
      ]
    },
    {
      "cell_type": "code",
      "execution_count": 42,
      "metadata": {
        "colab": {
          "base_uri": "https://localhost:8080/"
        },
        "id": "0NbTdNGCE0Ei",
        "outputId": "8afc9f2b-9a59-403f-9c0b-285eba85daf4"
      },
      "outputs": [
        {
          "name": "stdout",
          "output_type": "stream",
          "text": [
            "Epoch 1/50\n",
            "27/27 - 7s - 249ms/step - loss: 0.0528 - val_loss: 0.0136\n",
            "Epoch 2/50\n",
            "27/27 - 1s - 49ms/step - loss: 0.0154 - val_loss: 0.0014\n",
            "Epoch 3/50\n",
            "27/27 - 1s - 51ms/step - loss: 0.0121 - val_loss: 6.3581e-04\n",
            "Epoch 4/50\n",
            "27/27 - 1s - 50ms/step - loss: 0.0103 - val_loss: 5.0490e-04\n",
            "Epoch 5/50\n",
            "27/27 - 1s - 53ms/step - loss: 0.0100 - val_loss: 8.4062e-04\n",
            "Epoch 6/50\n",
            "27/27 - 1s - 52ms/step - loss: 0.0088 - val_loss: 4.6530e-04\n",
            "Epoch 7/50\n",
            "27/27 - 1s - 51ms/step - loss: 0.0086 - val_loss: 4.4246e-04\n",
            "Epoch 8/50\n",
            "27/27 - 1s - 53ms/step - loss: 0.0081 - val_loss: 3.6753e-04\n",
            "Epoch 9/50\n",
            "27/27 - 2s - 59ms/step - loss: 0.0073 - val_loss: 3.9673e-04\n",
            "Epoch 10/50\n",
            "27/27 - 2s - 59ms/step - loss: 0.0071 - val_loss: 9.6304e-04\n",
            "Epoch 11/50\n",
            "27/27 - 2s - 60ms/step - loss: 0.0081 - val_loss: 4.5879e-04\n",
            "Epoch 12/50\n",
            "27/27 - 2s - 57ms/step - loss: 0.0068 - val_loss: 4.4191e-04\n",
            "Epoch 13/50\n",
            "27/27 - 1s - 54ms/step - loss: 0.0066 - val_loss: 0.0011\n",
            "Epoch 14/50\n",
            "27/27 - 1s - 52ms/step - loss: 0.0074 - val_loss: 9.5623e-04\n",
            "Epoch 15/50\n",
            "27/27 - 2s - 56ms/step - loss: 0.0079 - val_loss: 5.2775e-04\n",
            "Epoch 16/50\n",
            "27/27 - 2s - 61ms/step - loss: 0.0074 - val_loss: 7.4357e-04\n",
            "Epoch 17/50\n",
            "27/27 - 1s - 53ms/step - loss: 0.0069 - val_loss: 7.3536e-04\n",
            "Epoch 18/50\n",
            "27/27 - 1s - 55ms/step - loss: 0.0059 - val_loss: 0.0031\n",
            "Epoch 19/50\n",
            "27/27 - 2s - 56ms/step - loss: 0.0061 - val_loss: 0.0021\n",
            "Epoch 20/50\n",
            "27/27 - 1s - 54ms/step - loss: 0.0053 - val_loss: 0.0012\n",
            "Epoch 21/50\n",
            "27/27 - 1s - 55ms/step - loss: 0.0054 - val_loss: 0.0013\n",
            "Epoch 22/50\n",
            "27/27 - 1s - 55ms/step - loss: 0.0057 - val_loss: 0.0016\n",
            "Epoch 23/50\n",
            "27/27 - 1s - 54ms/step - loss: 0.0050 - val_loss: 0.0016\n",
            "Epoch 24/50\n",
            "27/27 - 1s - 55ms/step - loss: 0.0058 - val_loss: 0.0012\n",
            "Epoch 25/50\n",
            "27/27 - 2s - 56ms/step - loss: 0.0054 - val_loss: 8.0603e-04\n",
            "Epoch 26/50\n",
            "27/27 - 2s - 56ms/step - loss: 0.0057 - val_loss: 6.5824e-04\n",
            "Epoch 27/50\n",
            "27/27 - 1s - 55ms/step - loss: 0.0055 - val_loss: 0.0035\n",
            "Epoch 28/50\n",
            "27/27 - 2s - 58ms/step - loss: 0.0049 - val_loss: 0.0022\n",
            "Epoch 29/50\n",
            "27/27 - 2s - 56ms/step - loss: 0.0051 - val_loss: 4.5343e-04\n",
            "Epoch 30/50\n",
            "27/27 - 1s - 54ms/step - loss: 0.0045 - val_loss: 9.9762e-04\n",
            "Epoch 31/50\n",
            "27/27 - 2s - 56ms/step - loss: 0.0050 - val_loss: 0.0013\n",
            "Epoch 32/50\n",
            "27/27 - 1s - 55ms/step - loss: 0.0041 - val_loss: 0.0015\n",
            "Epoch 33/50\n",
            "27/27 - 2s - 59ms/step - loss: 0.0046 - val_loss: 4.8086e-04\n",
            "Epoch 34/50\n",
            "27/27 - 1s - 55ms/step - loss: 0.0046 - val_loss: 5.6961e-04\n",
            "Epoch 35/50\n",
            "27/27 - 1s - 55ms/step - loss: 0.0051 - val_loss: 0.0012\n",
            "Epoch 36/50\n",
            "27/27 - 3s - 98ms/step - loss: 0.0047 - val_loss: 5.4083e-04\n",
            "Epoch 37/50\n",
            "27/27 - 1s - 55ms/step - loss: 0.0041 - val_loss: 0.0016\n",
            "Epoch 38/50\n",
            "27/27 - 2s - 58ms/step - loss: 0.0044 - val_loss: 0.0012\n",
            "Epoch 39/50\n",
            "27/27 - 2s - 61ms/step - loss: 0.0039 - val_loss: 6.1599e-04\n",
            "Epoch 40/50\n",
            "27/27 - 2s - 59ms/step - loss: 0.0040 - val_loss: 4.1435e-04\n",
            "Epoch 41/50\n",
            "27/27 - 2s - 59ms/step - loss: 0.0041 - val_loss: 0.0016\n",
            "Epoch 42/50\n",
            "27/27 - 2s - 58ms/step - loss: 0.0041 - val_loss: 0.0011\n",
            "Epoch 43/50\n",
            "27/27 - 2s - 58ms/step - loss: 0.0040 - val_loss: 0.0014\n",
            "Epoch 44/50\n",
            "27/27 - 2s - 59ms/step - loss: 0.0041 - val_loss: 3.2423e-04\n",
            "Epoch 45/50\n",
            "27/27 - 2s - 62ms/step - loss: 0.0040 - val_loss: 0.0020\n",
            "Epoch 46/50\n",
            "27/27 - 6s - 215ms/step - loss: 0.0041 - val_loss: 3.5541e-04\n",
            "Epoch 47/50\n",
            "27/27 - 5s - 187ms/step - loss: 0.0039 - val_loss: 0.0011\n",
            "Epoch 48/50\n",
            "27/27 - 4s - 157ms/step - loss: 0.0038 - val_loss: 0.0010\n",
            "Epoch 49/50\n",
            "27/27 - 4s - 136ms/step - loss: 0.0037 - val_loss: 9.8248e-04\n",
            "Epoch 50/50\n",
            "27/27 - 3s - 129ms/step - loss: 0.0041 - val_loss: 2.0099e-04\n"
          ]
        }
      ],
      "source": [
        "# Train the model\n",
        "history = model.fit(X_train, y_train, validation_data=(X_val, y_val), epochs=50, batch_size=32, verbose=2)"
      ]
    },
    {
      "cell_type": "markdown",
      "metadata": {
        "id": "MLMwS5wEE0Ej"
      },
      "source": [
        "## Predict Close price in test and validation set"
      ]
    },
    {
      "cell_type": "code",
      "execution_count": 43,
      "metadata": {
        "colab": {
          "base_uri": "https://localhost:8080/"
        },
        "id": "cwiDqXgEE0Ej",
        "outputId": "983fde5e-7566-474c-a335-6e81933ac459"
      },
      "outputs": [
        {
          "name": "stdout",
          "output_type": "stream",
          "text": [
            "\u001b[1m9/9\u001b[0m \u001b[32m━━━━━━━━━━━━━━━━━━━━\u001b[0m\u001b[37m\u001b[0m \u001b[1m1s\u001b[0m 64ms/step\n",
            "\u001b[1m5/5\u001b[0m \u001b[32m━━━━━━━━━━━━━━━━━━━━\u001b[0m\u001b[37m\u001b[0m \u001b[1m0s\u001b[0m 13ms/step\n"
          ]
        }
      ],
      "source": [
        "# Make predictions\n",
        "y_pred = model.predict(X_test)\n",
        "y_pred_val = model.predict(X_val)"
      ]
    },
    {
      "cell_type": "markdown",
      "metadata": {
        "id": "LAVBa-2GE0Ej"
      },
      "source": [
        "## Transform data back to the original"
      ]
    },
    {
      "cell_type": "code",
      "execution_count": 44,
      "metadata": {
        "id": "HI5bRr8uE0Ej"
      },
      "outputs": [],
      "source": [
        "# Inverse transform the predictions and actual values\n",
        "y_pred = scaler.inverse_transform(y_pred)\n",
        "y_val = scaler.inverse_transform(y_val.reshape(-1, 1))\n",
        "y_pred_val = scaler.inverse_transform(y_pred_val)\n",
        "train_data = scaler.inverse_transform(train_data)\n",
        "test_data = scaler.inverse_transform(test_data)\n",
        "val_data = scaler.inverse_transform(val_data)"
      ]
    },
    {
      "cell_type": "markdown",
      "metadata": {
        "id": "rW55_P9SE0Ej"
      },
      "source": [
        "## Calculate the error of the model"
      ]
    },
    {
      "cell_type": "code",
      "execution_count": 45,
      "metadata": {
        "colab": {
          "base_uri": "https://localhost:8080/"
        },
        "id": "9V2An6RIE0Ej",
        "outputId": "846b5973-d332-4dab-88de-8ab4cb520ab3"
      },
      "outputs": [
        {
          "name": "stdout",
          "output_type": "stream",
          "text": [
            "MAPE on Test set: 69850.46284770232\n",
            "RMSE on Test set: 4177.914257887448\n",
            "MSLE on Test set: 68.10872636841187\n"
          ]
        }
      ],
      "source": [
        "# Calculate error metrics\n",
        "test_mape = mean_absolute_percentage_error(y_test, y_pred)\n",
        "test_mse = mean_squared_error(y_test, y_pred)\n",
        "test_rmse = np.sqrt(test_mse)\n",
        "test_msle = mean_squared_log_error(y_test, y_pred)\n",
        "\n",
        "print(f\"MAPE on Test set: {test_mape}\")\n",
        "print(f\"RMSE on Test set: {test_rmse}\")\n",
        "print(f\"MSLE on Test set: {test_msle}\")"
      ]
    },
    {
      "cell_type": "code",
      "execution_count": 46,
      "metadata": {
        "colab": {
          "base_uri": "https://localhost:8080/"
        },
        "id": "tjP80YEnE0Ej",
        "outputId": "98b0a2ba-04da-4ecf-d31e-30da3da25fde"
      },
      "outputs": [
        {
          "name": "stdout",
          "output_type": "stream",
          "text": [
            "MAPE on Validate set: 0.06339511787710014\n",
            "RMSE on Validate set: 310.3236818984502\n",
            "MSLE on Validate set: 0.007146190251152854\n"
          ]
        }
      ],
      "source": [
        "# The error in validation set\n",
        "val_mape = mean_absolute_percentage_error(y_val, y_pred_val)\n",
        "val_mse = mean_squared_error(y_val, y_pred_val)\n",
        "val_rmse = np.sqrt(val_mse)\n",
        "val_msle = mean_squared_log_error(y_val, y_pred_val)\n",
        "\n",
        "print(f\"MAPE on Validate set: {val_mape}\")\n",
        "print(f\"RMSE on Validate set: {val_rmse}\")\n",
        "print(f\"MSLE on Validate set: {val_msle}\")"
      ]
    },
    {
      "cell_type": "markdown",
      "metadata": {
        "id": "5mtsTm6EE0Ej"
      },
      "source": [
        "## Predict Close price for 30 next days"
      ]
    },
    {
      "cell_type": "code",
      "execution_count": 47,
      "metadata": {
        "colab": {
          "base_uri": "https://localhost:8080/"
        },
        "id": "CuOZR3qNE0Ej",
        "outputId": "8fd04cf1-0efa-4ae2-8ea5-cbd514589e47"
      },
      "outputs": [
        {
          "name": "stdout",
          "output_type": "stream",
          "text": [
            "\u001b[1m1/1\u001b[0m \u001b[32m━━━━━━━━━━━━━━━━━━━━\u001b[0m\u001b[37m\u001b[0m \u001b[1m0s\u001b[0m 27ms/step\n",
            "\u001b[1m1/1\u001b[0m \u001b[32m━━━━━━━━━━━━━━━━━━━━\u001b[0m\u001b[37m\u001b[0m \u001b[1m0s\u001b[0m 32ms/step\n",
            "\u001b[1m1/1\u001b[0m \u001b[32m━━━━━━━━━━━━━━━━━━━━\u001b[0m\u001b[37m\u001b[0m \u001b[1m0s\u001b[0m 33ms/step\n",
            "\u001b[1m1/1\u001b[0m \u001b[32m━━━━━━━━━━━━━━━━━━━━\u001b[0m\u001b[37m\u001b[0m \u001b[1m0s\u001b[0m 35ms/step\n",
            "\u001b[1m1/1\u001b[0m \u001b[32m━━━━━━━━━━━━━━━━━━━━\u001b[0m\u001b[37m\u001b[0m \u001b[1m0s\u001b[0m 30ms/step\n",
            "\u001b[1m1/1\u001b[0m \u001b[32m━━━━━━━━━━━━━━━━━━━━\u001b[0m\u001b[37m\u001b[0m \u001b[1m0s\u001b[0m 32ms/step\n",
            "\u001b[1m1/1\u001b[0m \u001b[32m━━━━━━━━━━━━━━━━━━━━\u001b[0m\u001b[37m\u001b[0m \u001b[1m0s\u001b[0m 27ms/step\n",
            "\u001b[1m1/1\u001b[0m \u001b[32m━━━━━━━━━━━━━━━━━━━━\u001b[0m\u001b[37m\u001b[0m \u001b[1m0s\u001b[0m 22ms/step\n",
            "\u001b[1m1/1\u001b[0m \u001b[32m━━━━━━━━━━━━━━━━━━━━\u001b[0m\u001b[37m\u001b[0m \u001b[1m0s\u001b[0m 28ms/step\n",
            "\u001b[1m1/1\u001b[0m \u001b[32m━━━━━━━━━━━━━━━━━━━━\u001b[0m\u001b[37m\u001b[0m \u001b[1m0s\u001b[0m 29ms/step\n",
            "\u001b[1m1/1\u001b[0m \u001b[32m━━━━━━━━━━━━━━━━━━━━\u001b[0m\u001b[37m\u001b[0m \u001b[1m0s\u001b[0m 27ms/step\n",
            "\u001b[1m1/1\u001b[0m \u001b[32m━━━━━━━━━━━━━━━━━━━━\u001b[0m\u001b[37m\u001b[0m \u001b[1m0s\u001b[0m 27ms/step\n",
            "\u001b[1m1/1\u001b[0m \u001b[32m━━━━━━━━━━━━━━━━━━━━\u001b[0m\u001b[37m\u001b[0m \u001b[1m0s\u001b[0m 25ms/step\n",
            "\u001b[1m1/1\u001b[0m \u001b[32m━━━━━━━━━━━━━━━━━━━━\u001b[0m\u001b[37m\u001b[0m \u001b[1m0s\u001b[0m 31ms/step\n",
            "\u001b[1m1/1\u001b[0m \u001b[32m━━━━━━━━━━━━━━━━━━━━\u001b[0m\u001b[37m\u001b[0m \u001b[1m0s\u001b[0m 29ms/step\n",
            "\u001b[1m1/1\u001b[0m \u001b[32m━━━━━━━━━━━━━━━━━━━━\u001b[0m\u001b[37m\u001b[0m \u001b[1m0s\u001b[0m 24ms/step\n",
            "\u001b[1m1/1\u001b[0m \u001b[32m━━━━━━━━━━━━━━━━━━━━\u001b[0m\u001b[37m\u001b[0m \u001b[1m0s\u001b[0m 26ms/step\n",
            "\u001b[1m1/1\u001b[0m \u001b[32m━━━━━━━━━━━━━━━━━━━━\u001b[0m\u001b[37m\u001b[0m \u001b[1m0s\u001b[0m 25ms/step\n",
            "\u001b[1m1/1\u001b[0m \u001b[32m━━━━━━━━━━━━━━━━━━━━\u001b[0m\u001b[37m\u001b[0m \u001b[1m0s\u001b[0m 28ms/step\n",
            "\u001b[1m1/1\u001b[0m \u001b[32m━━━━━━━━━━━━━━━━━━━━\u001b[0m\u001b[37m\u001b[0m \u001b[1m0s\u001b[0m 70ms/step\n",
            "\u001b[1m1/1\u001b[0m \u001b[32m━━━━━━━━━━━━━━━━━━━━\u001b[0m\u001b[37m\u001b[0m \u001b[1m0s\u001b[0m 24ms/step\n",
            "\u001b[1m1/1\u001b[0m \u001b[32m━━━━━━━━━━━━━━━━━━━━\u001b[0m\u001b[37m\u001b[0m \u001b[1m0s\u001b[0m 28ms/step\n",
            "\u001b[1m1/1\u001b[0m \u001b[32m━━━━━━━━━━━━━━━━━━━━\u001b[0m\u001b[37m\u001b[0m \u001b[1m0s\u001b[0m 24ms/step\n",
            "\u001b[1m1/1\u001b[0m \u001b[32m━━━━━━━━━━━━━━━━━━━━\u001b[0m\u001b[37m\u001b[0m \u001b[1m0s\u001b[0m 25ms/step\n",
            "\u001b[1m1/1\u001b[0m \u001b[32m━━━━━━━━━━━━━━━━━━━━\u001b[0m\u001b[37m\u001b[0m \u001b[1m0s\u001b[0m 27ms/step\n",
            "\u001b[1m1/1\u001b[0m \u001b[32m━━━━━━━━━━━━━━━━━━━━\u001b[0m\u001b[37m\u001b[0m \u001b[1m0s\u001b[0m 26ms/step\n",
            "\u001b[1m1/1\u001b[0m \u001b[32m━━━━━━━━━━━━━━━━━━━━\u001b[0m\u001b[37m\u001b[0m \u001b[1m0s\u001b[0m 26ms/step\n",
            "\u001b[1m1/1\u001b[0m \u001b[32m━━━━━━━━━━━━━━━━━━━━\u001b[0m\u001b[37m\u001b[0m \u001b[1m0s\u001b[0m 25ms/step\n",
            "\u001b[1m1/1\u001b[0m \u001b[32m━━━━━━━━━━━━━━━━━━━━\u001b[0m\u001b[37m\u001b[0m \u001b[1m0s\u001b[0m 24ms/step\n",
            "\u001b[1m1/1\u001b[0m \u001b[32m━━━━━━━━━━━━━━━━━━━━\u001b[0m\u001b[37m\u001b[0m \u001b[1m0s\u001b[0m 26ms/step\n"
          ]
        }
      ],
      "source": [
        "last_sequence_days = data_scaled[-sequence_length:].reshape(1, -1, 1)\n",
        "y_next_30_days = []\n",
        "\n",
        "for i in range(30):\n",
        "    next_day_pred = model.predict(last_sequence_days)\n",
        "    y_next_30_days.append(next_day_pred[0][0])\n",
        "    last_sequence_days = np.concatenate([last_sequence_days[:, 1:, :], next_day_pred.reshape(1, 1, 1)], axis=1)\n"
      ]
    },
    {
      "cell_type": "code",
      "execution_count": 48,
      "metadata": {
        "colab": {
          "base_uri": "https://localhost:8080/"
        },
        "id": "bg6mf7a1E0Ej",
        "outputId": "0ef4cb42-f782-4f5a-d34a-48be4919208c"
      },
      "outputs": [
        {
          "name": "stdout",
          "output_type": "stream",
          "text": [
            "[3431.7993 3443.7698 3449.2922 3445.1687 3431.9226 3412.2505 3389.304\n",
            " 3365.5513 3342.3845 3320.2434 3298.976  3278.2021 3257.553  3236.7998\n",
            " 3215.8464 3194.694  3173.3782 3151.9585 3130.46   3108.886  3087.218\n",
            " 3065.4346 3043.5137 3021.4338 2999.1863 2976.752  2954.1238 2931.2898\n",
            " 2908.2427 2884.9731]\n"
          ]
        }
      ],
      "source": [
        "# Show the result of predict 30 next days\n",
        "y_next_30_days = scaler.inverse_transform(np.array(y_next_30_days).reshape(-1, 1))\n",
        "print(y_next_30_days.flatten())"
      ]
    },
    {
      "cell_type": "markdown",
      "metadata": {
        "id": "K8VskxMGE0Ek"
      },
      "source": [
        "## Model visualization"
      ]
    },
    {
      "cell_type": "code",
      "execution_count": 49,
      "metadata": {
        "colab": {
          "base_uri": "https://localhost:8080/",
          "height": 451
        },
        "id": "16-6QPWhE0Ek",
        "outputId": "9f747155-c0d4-4c33-8fb3-e9e2aab8ef31"
      },
      "outputs": [
        {
          "data": {
            "image/png": "[encoded data removed]",
            "text/plain": [
              "<Figure size 1200x500 with 1 Axes>"
            ]
          },
          "metadata": {},
          "output_type": "display_data"
        }
      ],
      "source": [
        "# Plot the results\n",
        "plt.figure(figsize=(12, 5))\n",
        "plt.plot(df[:train_size].index, train_data)\n",
        "plt.plot(df[train_size:train_size + val_size].index, val_data)\n",
        "plt.plot(df[train_size:train_size + val_size].index, y_pred_val)\n",
        "plt.plot(df[train_size + val_size:].index, test_data)\n",
        "plt.plot(df[train_size + val_size:].index, y_pred)\n",
        "plt.plot(pd.date_range(start=df.index[-1] + pd.DateOffset(days=1), periods=30), y_next_30_days)\n",
        "plt.legend(['Train', 'Validate', 'Predict Validation', 'Test', 'Predict Test', 'Predict30days'])\n",
        "plt.grid()\n",
        "plt.title(\"AMV Closing Price Data With Ratio 7_1_2\")\n",
        "plt.xlabel(\"Date\")\n",
        "plt.ylabel(\"Close value\")\n",
        "plt.savefig('RNN_712_AMV.png')\n",
        "plt.show()"
      ]
    }
  ],
  "metadata": {
    "colab": {
      "provenance": []
    },
    "kernelspec": {
      "display_name": "user_env",
      "language": "python",
      "name": "python3"
    },
    "language_info": {
      "codemirror_mode": {
        "name": "ipython",
        "version": 3
      },
      "file_extension": ".py",
      "mimetype": "text/x-python",
      "name": "python",
      "nbconvert_exporter": "python",
      "pygments_lexer": "ipython3",
      "version": "3.12.2"
    },
    "orig_nbformat": 4
  },
  "nbformat": 4,
  "nbformat_minor": 0
}
