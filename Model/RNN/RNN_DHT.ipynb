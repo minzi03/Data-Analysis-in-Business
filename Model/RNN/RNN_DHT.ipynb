{
  "cells": [
    {
      "cell_type": "markdown",
      "metadata": {
        "id": "view-in-github",
        "colab_type": "text"
      },
      "source": [
        "<a href=\"https://colab.research.google.com/github/khanc26/IS403_O22_HTCL_2/blob/week6_buidinhtrieu/Model/RNN/RNN_DHT.ipynb\" target=\"_parent\"><img src=\"https://colab.research.google.com/assets/colab-badge.svg\" alt=\"Open In Colab\"/></a>"
      ]
    },
    {
      "cell_type": "markdown",
      "metadata": {
        "id": "ZmAUod5iE0Ed"
      },
      "source": [
        "## Import the necessary libraries"
      ]
    },
    {
      "cell_type": "code",
      "execution_count": 2,
      "metadata": {
        "id": "yX_dfgFhE0Ee"
      },
      "outputs": [],
      "source": [
        "import pandas as pd\n",
        "import numpy as np\n",
        "\n",
        "from tensorflow.keras.models import Sequential\n",
        "from tensorflow.keras.layers import Dense, Dropout, LSTM\n",
        "\n",
        "from sklearn.metrics import mean_squared_error, mean_absolute_percentage_error, mean_squared_log_error\n",
        "from sklearn.preprocessing import MinMaxScaler\n",
        "\n",
        "import matplotlib.pyplot as plt\n",
        "%matplotlib inline"
      ]
    },
    {
      "cell_type": "markdown",
      "metadata": {
        "id": "GbGZH3fHE0Ef"
      },
      "source": [
        "## Load data"
      ]
    },
    {
      "cell_type": "code",
      "execution_count": null,
      "metadata": {
        "id": "692JHIjtE0Eg",
        "outputId": "33ab74fd-6c0a-48d5-e011-7499818c1d5c",
        "colab": {
          "base_uri": "https://localhost:8080/",
          "height": 362
        }
      },
      "outputs": [
        {
          "output_type": "execute_result",
          "data": {
            "text/plain": [
              "         Date     Price      Open      High       Low     Vol. Change %\n",
              "0  04/17/2024  26,700.0  26,600.0  27,200.0  26,500.0  104.91K    1.14%\n",
              "1  04/16/2024  26,400.0  26,300.0  26,800.0  26,100.0   69.69K   -1.49%\n",
              "2  04/15/2024  26,800.0  26,900.0  27,400.0  26,500.0   51.17K   -0.37%\n",
              "3  04/12/2024  26,900.0  26,800.0  27,200.0  26,500.0   29.56K    1.51%\n",
              "4  04/11/2024  26,500.0  26,500.0  27,000.0  26,100.0   56.40K   -0.38%\n",
              "5  04/10/2024  26,600.0  26,800.0  26,900.0  26,500.0   27.07K   -0.37%\n",
              "6  04/09/2024  26,700.0  26,300.0  27,200.0  26,300.0   45.80K   -0.74%\n",
              "7  04/08/2024  26,900.0  26,800.0  27,100.0  26,500.0   23.60K    0.37%\n",
              "8  04/05/2024  26,800.0  27,200.0  27,300.0  24,600.0  173.17K   -1.83%\n",
              "9  04/04/2024  27,300.0  27,300.0  27,700.0  26,800.0  155.52K   -0.36%"
            ],
            "text/html": [
              "\n",
              "  <div id=\"df-a45ecd80-f7c2-43ce-a7cb-822c3f5d184b\" class=\"colab-df-container\">\n",
              "    <div>\n",
              "<style scoped>\n",
              "    .dataframe tbody tr th:only-of-type {\n",
              "        vertical-align: middle;\n",
              "    }\n",
              "\n",
              "    .dataframe tbody tr th {\n",
              "        vertical-align: top;\n",
              "    }\n",
              "\n",
              "    .dataframe thead th {\n",
              "        text-align: right;\n",
              "    }\n",
              "</style>\n",
              "<table border=\"1\" class=\"dataframe\">\n",
              "  <thead>\n",
              "    <tr style=\"text-align: right;\">\n",
              "      <th></th>\n",
              "      <th>Date</th>\n",
              "      <th>Price</th>\n",
              "      <th>Open</th>\n",
              "      <th>High</th>\n",
              "      <th>Low</th>\n",
              "      <th>Vol.</th>\n",
              "      <th>Change %</th>\n",
              "    </tr>\n",
              "  </thead>\n",
              "  <tbody>\n",
              "    <tr>\n",
              "      <th>0</th>\n",
              "      <td>04/17/2024</td>\n",
              "      <td>26,700.0</td>\n",
              "      <td>26,600.0</td>\n",
              "      <td>27,200.0</td>\n",
              "      <td>26,500.0</td>\n",
              "      <td>104.91K</td>\n",
              "      <td>1.14%</td>\n",
              "    </tr>\n",
              "    <tr>\n",
              "      <th>1</th>\n",
              "      <td>04/16/2024</td>\n",
              "      <td>26,400.0</td>\n",
              "      <td>26,300.0</td>\n",
              "      <td>26,800.0</td>\n",
              "      <td>26,100.0</td>\n",
              "      <td>69.69K</td>\n",
              "      <td>-1.49%</td>\n",
              "    </tr>\n",
              "    <tr>\n",
              "      <th>2</th>\n",
              "      <td>04/15/2024</td>\n",
              "      <td>26,800.0</td>\n",
              "      <td>26,900.0</td>\n",
              "      <td>27,400.0</td>\n",
              "      <td>26,500.0</td>\n",
              "      <td>51.17K</td>\n",
              "      <td>-0.37%</td>\n",
              "    </tr>\n",
              "    <tr>\n",
              "      <th>3</th>\n",
              "      <td>04/12/2024</td>\n",
              "      <td>26,900.0</td>\n",
              "      <td>26,800.0</td>\n",
              "      <td>27,200.0</td>\n",
              "      <td>26,500.0</td>\n",
              "      <td>29.56K</td>\n",
              "      <td>1.51%</td>\n",
              "    </tr>\n",
              "    <tr>\n",
              "      <th>4</th>\n",
              "      <td>04/11/2024</td>\n",
              "      <td>26,500.0</td>\n",
              "      <td>26,500.0</td>\n",
              "      <td>27,000.0</td>\n",
              "      <td>26,100.0</td>\n",
              "      <td>56.40K</td>\n",
              "      <td>-0.38%</td>\n",
              "    </tr>\n",
              "    <tr>\n",
              "      <th>5</th>\n",
              "      <td>04/10/2024</td>\n",
              "      <td>26,600.0</td>\n",
              "      <td>26,800.0</td>\n",
              "      <td>26,900.0</td>\n",
              "      <td>26,500.0</td>\n",
              "      <td>27.07K</td>\n",
              "      <td>-0.37%</td>\n",
              "    </tr>\n",
              "    <tr>\n",
              "      <th>6</th>\n",
              "      <td>04/09/2024</td>\n",
              "      <td>26,700.0</td>\n",
              "      <td>26,300.0</td>\n",
              "      <td>27,200.0</td>\n",
              "      <td>26,300.0</td>\n",
              "      <td>45.80K</td>\n",
              "      <td>-0.74%</td>\n",
              "    </tr>\n",
              "    <tr>\n",
              "      <th>7</th>\n",
              "      <td>04/08/2024</td>\n",
              "      <td>26,900.0</td>\n",
              "      <td>26,800.0</td>\n",
              "      <td>27,100.0</td>\n",
              "      <td>26,500.0</td>\n",
              "      <td>23.60K</td>\n",
              "      <td>0.37%</td>\n",
              "    </tr>\n",
              "    <tr>\n",
              "      <th>8</th>\n",
              "      <td>04/05/2024</td>\n",
              "      <td>26,800.0</td>\n",
              "      <td>27,200.0</td>\n",
              "      <td>27,300.0</td>\n",
              "      <td>24,600.0</td>\n",
              "      <td>173.17K</td>\n",
              "      <td>-1.83%</td>\n",
              "    </tr>\n",
              "    <tr>\n",
              "      <th>9</th>\n",
              "      <td>04/04/2024</td>\n",
              "      <td>27,300.0</td>\n",
              "      <td>27,300.0</td>\n",
              "      <td>27,700.0</td>\n",
              "      <td>26,800.0</td>\n",
              "      <td>155.52K</td>\n",
              "      <td>-0.36%</td>\n",
              "    </tr>\n",
              "  </tbody>\n",
              "</table>\n",
              "</div>\n",
              "    <div class=\"colab-df-buttons\">\n",
              "\n",
              "  <div class=\"colab-df-container\">\n",
              "    <button class=\"colab-df-convert\" onclick=\"convertToInteractive('df-a45ecd80-f7c2-43ce-a7cb-822c3f5d184b')\"\n",
              "            title=\"Convert this dataframe to an interactive table.\"\n",
              "            style=\"display:none;\">\n",
              "\n",
              "  <svg xmlns=\"http://www.w3.org/2000/svg\" height=\"24px\" viewBox=\"0 -960 960 960\">\n",
              "    <path d=\"M120-120v-720h720v720H120Zm60-500h600v-160H180v160Zm220 220h160v-160H400v160Zm0 220h160v-160H400v160ZM180-400h160v-160H180v160Zm440 0h160v-160H620v160ZM180-180h160v-160H180v160Zm440 0h160v-160H620v160Z\"/>\n",
              "  </svg>\n",
              "    </button>\n",
              "\n",
              "  <style>\n",
              "    .colab-df-container {\n",
              "      display:flex;\n",
              "      gap: 12px;\n",
              "    }\n",
              "\n",
              "    .colab-df-convert {\n",
              "      background-color: #E8F0FE;\n",
              "      border: none;\n",
              "      border-radius: 50%;\n",
              "      cursor: pointer;\n",
              "      display: none;\n",
              "      fill: #1967D2;\n",
              "      height: 32px;\n",
              "      padding: 0 0 0 0;\n",
              "      width: 32px;\n",
              "    }\n",
              "\n",
              "    .colab-df-convert:hover {\n",
              "      background-color: #E2EBFA;\n",
              "      box-shadow: 0px 1px 2px rgba(60, 64, 67, 0.3), 0px 1px 3px 1px rgba(60, 64, 67, 0.15);\n",
              "      fill: #174EA6;\n",
              "    }\n",
              "\n",
              "    .colab-df-buttons div {\n",
              "      margin-bottom: 4px;\n",
              "    }\n",
              "\n",
              "    [theme=dark] .colab-df-convert {\n",
              "      background-color: #3B4455;\n",
              "      fill: #D2E3FC;\n",
              "    }\n",
              "\n",
              "    [theme=dark] .colab-df-convert:hover {\n",
              "      background-color: #434B5C;\n",
              "      box-shadow: 0px 1px 3px 1px rgba(0, 0, 0, 0.15);\n",
              "      filter: drop-shadow(0px 1px 2px rgba(0, 0, 0, 0.3));\n",
              "      fill: #FFFFFF;\n",
              "    }\n",
              "  </style>\n",
              "\n",
              "    <script>\n",
              "      const buttonEl =\n",
              "        document.querySelector('#df-a45ecd80-f7c2-43ce-a7cb-822c3f5d184b button.colab-df-convert');\n",
              "      buttonEl.style.display =\n",
              "        google.colab.kernel.accessAllowed ? 'block' : 'none';\n",
              "\n",
              "      async function convertToInteractive(key) {\n",
              "        const element = document.querySelector('#df-a45ecd80-f7c2-43ce-a7cb-822c3f5d184b');\n",
              "        const dataTable =\n",
              "          await google.colab.kernel.invokeFunction('convertToInteractive',\n",
              "                                                    [key], {});\n",
              "        if (!dataTable) return;\n",
              "\n",
              "        const docLinkHtml = 'Like what you see? Visit the ' +\n",
              "          '<a target=\"_blank\" href=https://colab.research.google.com/notebooks/data_table.ipynb>data table notebook</a>'\n",
              "          + ' to learn more about interactive tables.';\n",
              "        element.innerHTML = '';\n",
              "        dataTable['output_type'] = 'display_data';\n",
              "        await google.colab.output.renderOutput(dataTable, element);\n",
              "        const docLink = document.createElement('div');\n",
              "        docLink.innerHTML = docLinkHtml;\n",
              "        element.appendChild(docLink);\n",
              "      }\n",
              "    </script>\n",
              "  </div>\n",
              "\n",
              "\n",
              "<div id=\"df-5766b385-780b-436b-a98e-089536a01767\">\n",
              "  <button class=\"colab-df-quickchart\" onclick=\"quickchart('df-5766b385-780b-436b-a98e-089536a01767')\"\n",
              "            title=\"Suggest charts\"\n",
              "            style=\"display:none;\">\n",
              "\n",
              "<svg xmlns=\"http://www.w3.org/2000/svg\" height=\"24px\"viewBox=\"0 0 24 24\"\n",
              "     width=\"24px\">\n",
              "    <g>\n",
              "        <path d=\"M19 3H5c-1.1 0-2 .9-2 2v14c0 1.1.9 2 2 2h14c1.1 0 2-.9 2-2V5c0-1.1-.9-2-2-2zM9 17H7v-7h2v7zm4 0h-2V7h2v10zm4 0h-2v-4h2v4z\"/>\n",
              "    </g>\n",
              "</svg>\n",
              "  </button>\n",
              "\n",
              "<style>\n",
              "  .colab-df-quickchart {\n",
              "      --bg-color: #E8F0FE;\n",
              "      --fill-color: #1967D2;\n",
              "      --hover-bg-color: #E2EBFA;\n",
              "      --hover-fill-color: #174EA6;\n",
              "      --disabled-fill-color: #AAA;\n",
              "      --disabled-bg-color: #DDD;\n",
              "  }\n",
              "\n",
              "  [theme=dark] .colab-df-quickchart {\n",
              "      --bg-color: #3B4455;\n",
              "      --fill-color: #D2E3FC;\n",
              "      --hover-bg-color: #434B5C;\n",
              "      --hover-fill-color: #FFFFFF;\n",
              "      --disabled-bg-color: #3B4455;\n",
              "      --disabled-fill-color: #666;\n",
              "  }\n",
              "\n",
              "  .colab-df-quickchart {\n",
              "    background-color: var(--bg-color);\n",
              "    border: none;\n",
              "    border-radius: 50%;\n",
              "    cursor: pointer;\n",
              "    display: none;\n",
              "    fill: var(--fill-color);\n",
              "    height: 32px;\n",
              "    padding: 0;\n",
              "    width: 32px;\n",
              "  }\n",
              "\n",
              "  .colab-df-quickchart:hover {\n",
              "    background-color: var(--hover-bg-color);\n",
              "    box-shadow: 0 1px 2px rgba(60, 64, 67, 0.3), 0 1px 3px 1px rgba(60, 64, 67, 0.15);\n",
              "    fill: var(--button-hover-fill-color);\n",
              "  }\n",
              "\n",
              "  .colab-df-quickchart-complete:disabled,\n",
              "  .colab-df-quickchart-complete:disabled:hover {\n",
              "    background-color: var(--disabled-bg-color);\n",
              "    fill: var(--disabled-fill-color);\n",
              "    box-shadow: none;\n",
              "  }\n",
              "\n",
              "  .colab-df-spinner {\n",
              "    border: 2px solid var(--fill-color);\n",
              "    border-color: transparent;\n",
              "    border-bottom-color: var(--fill-color);\n",
              "    animation:\n",
              "      spin 1s steps(1) infinite;\n",
              "  }\n",
              "\n",
              "  @keyframes spin {\n",
              "    0% {\n",
              "      border-color: transparent;\n",
              "      border-bottom-color: var(--fill-color);\n",
              "      border-left-color: var(--fill-color);\n",
              "    }\n",
              "    20% {\n",
              "      border-color: transparent;\n",
              "      border-left-color: var(--fill-color);\n",
              "      border-top-color: var(--fill-color);\n",
              "    }\n",
              "    30% {\n",
              "      border-color: transparent;\n",
              "      border-left-color: var(--fill-color);\n",
              "      border-top-color: var(--fill-color);\n",
              "      border-right-color: var(--fill-color);\n",
              "    }\n",
              "    40% {\n",
              "      border-color: transparent;\n",
              "      border-right-color: var(--fill-color);\n",
              "      border-top-color: var(--fill-color);\n",
              "    }\n",
              "    60% {\n",
              "      border-color: transparent;\n",
              "      border-right-color: var(--fill-color);\n",
              "    }\n",
              "    80% {\n",
              "      border-color: transparent;\n",
              "      border-right-color: var(--fill-color);\n",
              "      border-bottom-color: var(--fill-color);\n",
              "    }\n",
              "    90% {\n",
              "      border-color: transparent;\n",
              "      border-bottom-color: var(--fill-color);\n",
              "    }\n",
              "  }\n",
              "</style>\n",
              "\n",
              "  <script>\n",
              "    async function quickchart(key) {\n",
              "      const quickchartButtonEl =\n",
              "        document.querySelector('#' + key + ' button');\n",
              "      quickchartButtonEl.disabled = true;  // To prevent multiple clicks.\n",
              "      quickchartButtonEl.classList.add('colab-df-spinner');\n",
              "      try {\n",
              "        const charts = await google.colab.kernel.invokeFunction(\n",
              "            'suggestCharts', [key], {});\n",
              "      } catch (error) {\n",
              "        console.error('Error during call to suggestCharts:', error);\n",
              "      }\n",
              "      quickchartButtonEl.classList.remove('colab-df-spinner');\n",
              "      quickchartButtonEl.classList.add('colab-df-quickchart-complete');\n",
              "    }\n",
              "    (() => {\n",
              "      let quickchartButtonEl =\n",
              "        document.querySelector('#df-5766b385-780b-436b-a98e-089536a01767 button');\n",
              "      quickchartButtonEl.style.display =\n",
              "        google.colab.kernel.accessAllowed ? 'block' : 'none';\n",
              "    })();\n",
              "  </script>\n",
              "</div>\n",
              "    </div>\n",
              "  </div>\n"
            ],
            "application/vnd.google.colaboratory.intrinsic+json": {
              "type": "dataframe",
              "variable_name": "df",
              "summary": "{\n  \"name\": \"df\",\n  \"rows\": 1320,\n  \"fields\": [\n    {\n      \"column\": \"Date\",\n      \"properties\": {\n        \"dtype\": \"object\",\n        \"num_unique_values\": 1320,\n        \"samples\": [\n          \"07/29/2021\",\n          \"07/08/2021\",\n          \"11/04/2021\"\n        ],\n        \"semantic_type\": \"\",\n        \"description\": \"\"\n      }\n    },\n    {\n      \"column\": \"Price\",\n      \"properties\": {\n        \"dtype\": \"category\",\n        \"num_unique_values\": 506,\n        \"samples\": [\n          \"14,719.8\",\n          \"18,070.8\",\n          \"10,916.2\"\n        ],\n        \"semantic_type\": \"\",\n        \"description\": \"\"\n      }\n    },\n    {\n      \"column\": \"Open\",\n      \"properties\": {\n        \"dtype\": \"category\",\n        \"num_unique_values\": 518,\n        \"samples\": [\n          \"14,476.2\",\n          \"13,857.1\",\n          \"27,300.0\"\n        ],\n        \"semantic_type\": \"\",\n        \"description\": \"\"\n      }\n    },\n    {\n      \"column\": \"High\",\n      \"properties\": {\n        \"dtype\": \"category\",\n        \"num_unique_values\": 519,\n        \"samples\": [\n          \"18,338.0\",\n          \"18,535.7\",\n          \"27,300.0\"\n        ],\n        \"semantic_type\": \"\",\n        \"description\": \"\"\n      }\n    },\n    {\n      \"column\": \"Low\",\n      \"properties\": {\n        \"dtype\": \"category\",\n        \"num_unique_values\": 488,\n        \"samples\": [\n          \"27,900.0\",\n          \"17,962.6\",\n          \"9,630.9\"\n        ],\n        \"semantic_type\": \"\",\n        \"description\": \"\"\n      }\n    },\n    {\n      \"column\": \"Vol.\",\n      \"properties\": {\n        \"dtype\": \"string\",\n        \"num_unique_values\": 1036,\n        \"samples\": [\n          \"12.88K\",\n          \"150.04K\",\n          \"30.70K\"\n        ],\n        \"semantic_type\": \"\",\n        \"description\": \"\"\n      }\n    },\n    {\n      \"column\": \"Change %\",\n      \"properties\": {\n        \"dtype\": \"category\",\n        \"num_unique_values\": 459,\n        \"samples\": [\n          \"1.21%\",\n          \"3.01%\",\n          \"-4.07%\"\n        ],\n        \"semantic_type\": \"\",\n        \"description\": \"\"\n      }\n    }\n  ]\n}"
            }
          },
          "metadata": {},
          "execution_count": 2
        }
      ],
      "source": [
        "df = pd.read_csv('DHT Historical Data.csv')\n",
        "df.head(10)"
      ]
    },
    {
      "cell_type": "markdown",
      "metadata": {
        "id": "v2aUx9TuE0Eg"
      },
      "source": [
        "## Data preprocessing"
      ]
    },
    {
      "cell_type": "code",
      "execution_count": null,
      "metadata": {
        "id": "cHFj4cMHE0Eh"
      },
      "outputs": [],
      "source": [
        "# Convert the 'Date' column to datetime format\n",
        "df['Date'] = pd.to_datetime(df['Date'])\n",
        "\n",
        "# Sort the data by date in ascending order\n",
        "df = df.sort_values('Date')\n",
        "\n",
        "# Set the 'Date' column as the index value\n",
        "df.set_index('Date', inplace=True)\n",
        "df = df.replace(',', '', regex=True)"
      ]
    },
    {
      "cell_type": "code",
      "execution_count": null,
      "metadata": {
        "id": "Fo-JXTWSE0Eh",
        "outputId": "7648e6c0-5671-44a1-b0f9-79fba2ce3e89",
        "colab": {
          "base_uri": "https://localhost:8080/",
          "height": 455
        }
      },
      "outputs": [
        {
          "output_type": "execute_result",
          "data": {
            "text/plain": [
              "              Price     Open     High      Low     Vol. Change %\n",
              "Date                                                            \n",
              "2019-01-03  11842.2  11224.9  11982.5  11224.9   40.97K   -0.24%\n",
              "2019-01-04  11393.2  12207.0  12207.0  11393.2    0.92K   -3.79%\n",
              "2019-01-07  11421.3  11786.1  11786.1  11252.9   44.97K    0.25%\n",
              "2019-01-08  11421.3  11645.8  11645.8  11224.9   10.47K    0.00%\n",
              "2019-01-09  11421.3  11758.0  11758.0  11224.9    8.62K    0.00%\n",
              "...             ...      ...      ...      ...      ...      ...\n",
              "2024-04-11  26500.0  26500.0  27000.0  26100.0   56.40K   -0.38%\n",
              "2024-04-12  26900.0  26800.0  27200.0  26500.0   29.56K    1.51%\n",
              "2024-04-15  26800.0  26900.0  27400.0  26500.0   51.17K   -0.37%\n",
              "2024-04-16  26400.0  26300.0  26800.0  26100.0   69.69K   -1.49%\n",
              "2024-04-17  26700.0  26600.0  27200.0  26500.0  104.91K    1.14%\n",
              "\n",
              "[1320 rows x 6 columns]"
            ],
            "text/html": [
              "\n",
              "  <div id=\"df-d8285884-beb0-4967-a432-a9d19de5b55d\" class=\"colab-df-container\">\n",
              "    <div>\n",
              "<style scoped>\n",
              "    .dataframe tbody tr th:only-of-type {\n",
              "        vertical-align: middle;\n",
              "    }\n",
              "\n",
              "    .dataframe tbody tr th {\n",
              "        vertical-align: top;\n",
              "    }\n",
              "\n",
              "    .dataframe thead th {\n",
              "        text-align: right;\n",
              "    }\n",
              "</style>\n",
              "<table border=\"1\" class=\"dataframe\">\n",
              "  <thead>\n",
              "    <tr style=\"text-align: right;\">\n",
              "      <th></th>\n",
              "      <th>Price</th>\n",
              "      <th>Open</th>\n",
              "      <th>High</th>\n",
              "      <th>Low</th>\n",
              "      <th>Vol.</th>\n",
              "      <th>Change %</th>\n",
              "    </tr>\n",
              "    <tr>\n",
              "      <th>Date</th>\n",
              "      <th></th>\n",
              "      <th></th>\n",
              "      <th></th>\n",
              "      <th></th>\n",
              "      <th></th>\n",
              "      <th></th>\n",
              "    </tr>\n",
              "  </thead>\n",
              "  <tbody>\n",
              "    <tr>\n",
              "      <th>2019-01-03</th>\n",
              "      <td>11842.2</td>\n",
              "      <td>11224.9</td>\n",
              "      <td>11982.5</td>\n",
              "      <td>11224.9</td>\n",
              "      <td>40.97K</td>\n",
              "      <td>-0.24%</td>\n",
              "    </tr>\n",
              "    <tr>\n",
              "      <th>2019-01-04</th>\n",
              "      <td>11393.2</td>\n",
              "      <td>12207.0</td>\n",
              "      <td>12207.0</td>\n",
              "      <td>11393.2</td>\n",
              "      <td>0.92K</td>\n",
              "      <td>-3.79%</td>\n",
              "    </tr>\n",
              "    <tr>\n",
              "      <th>2019-01-07</th>\n",
              "      <td>11421.3</td>\n",
              "      <td>11786.1</td>\n",
              "      <td>11786.1</td>\n",
              "      <td>11252.9</td>\n",
              "      <td>44.97K</td>\n",
              "      <td>0.25%</td>\n",
              "    </tr>\n",
              "    <tr>\n",
              "      <th>2019-01-08</th>\n",
              "      <td>11421.3</td>\n",
              "      <td>11645.8</td>\n",
              "      <td>11645.8</td>\n",
              "      <td>11224.9</td>\n",
              "      <td>10.47K</td>\n",
              "      <td>0.00%</td>\n",
              "    </tr>\n",
              "    <tr>\n",
              "      <th>2019-01-09</th>\n",
              "      <td>11421.3</td>\n",
              "      <td>11758.0</td>\n",
              "      <td>11758.0</td>\n",
              "      <td>11224.9</td>\n",
              "      <td>8.62K</td>\n",
              "      <td>0.00%</td>\n",
              "    </tr>\n",
              "    <tr>\n",
              "      <th>...</th>\n",
              "      <td>...</td>\n",
              "      <td>...</td>\n",
              "      <td>...</td>\n",
              "      <td>...</td>\n",
              "      <td>...</td>\n",
              "      <td>...</td>\n",
              "    </tr>\n",
              "    <tr>\n",
              "      <th>2024-04-11</th>\n",
              "      <td>26500.0</td>\n",
              "      <td>26500.0</td>\n",
              "      <td>27000.0</td>\n",
              "      <td>26100.0</td>\n",
              "      <td>56.40K</td>\n",
              "      <td>-0.38%</td>\n",
              "    </tr>\n",
              "    <tr>\n",
              "      <th>2024-04-12</th>\n",
              "      <td>26900.0</td>\n",
              "      <td>26800.0</td>\n",
              "      <td>27200.0</td>\n",
              "      <td>26500.0</td>\n",
              "      <td>29.56K</td>\n",
              "      <td>1.51%</td>\n",
              "    </tr>\n",
              "    <tr>\n",
              "      <th>2024-04-15</th>\n",
              "      <td>26800.0</td>\n",
              "      <td>26900.0</td>\n",
              "      <td>27400.0</td>\n",
              "      <td>26500.0</td>\n",
              "      <td>51.17K</td>\n",
              "      <td>-0.37%</td>\n",
              "    </tr>\n",
              "    <tr>\n",
              "      <th>2024-04-16</th>\n",
              "      <td>26400.0</td>\n",
              "      <td>26300.0</td>\n",
              "      <td>26800.0</td>\n",
              "      <td>26100.0</td>\n",
              "      <td>69.69K</td>\n",
              "      <td>-1.49%</td>\n",
              "    </tr>\n",
              "    <tr>\n",
              "      <th>2024-04-17</th>\n",
              "      <td>26700.0</td>\n",
              "      <td>26600.0</td>\n",
              "      <td>27200.0</td>\n",
              "      <td>26500.0</td>\n",
              "      <td>104.91K</td>\n",
              "      <td>1.14%</td>\n",
              "    </tr>\n",
              "  </tbody>\n",
              "</table>\n",
              "<p>1320 rows × 6 columns</p>\n",
              "</div>\n",
              "    <div class=\"colab-df-buttons\">\n",
              "\n",
              "  <div class=\"colab-df-container\">\n",
              "    <button class=\"colab-df-convert\" onclick=\"convertToInteractive('df-d8285884-beb0-4967-a432-a9d19de5b55d')\"\n",
              "            title=\"Convert this dataframe to an interactive table.\"\n",
              "            style=\"display:none;\">\n",
              "\n",
              "  <svg xmlns=\"http://www.w3.org/2000/svg\" height=\"24px\" viewBox=\"0 -960 960 960\">\n",
              "    <path d=\"M120-120v-720h720v720H120Zm60-500h600v-160H180v160Zm220 220h160v-160H400v160Zm0 220h160v-160H400v160ZM180-400h160v-160H180v160Zm440 0h160v-160H620v160ZM180-180h160v-160H180v160Zm440 0h160v-160H620v160Z\"/>\n",
              "  </svg>\n",
              "    </button>\n",
              "\n",
              "  <style>\n",
              "    .colab-df-container {\n",
              "      display:flex;\n",
              "      gap: 12px;\n",
              "    }\n",
              "\n",
              "    .colab-df-convert {\n",
              "      background-color: #E8F0FE;\n",
              "      border: none;\n",
              "      border-radius: 50%;\n",
              "      cursor: pointer;\n",
              "      display: none;\n",
              "      fill: #1967D2;\n",
              "      height: 32px;\n",
              "      padding: 0 0 0 0;\n",
              "      width: 32px;\n",
              "    }\n",
              "\n",
              "    .colab-df-convert:hover {\n",
              "      background-color: #E2EBFA;\n",
              "      box-shadow: 0px 1px 2px rgba(60, 64, 67, 0.3), 0px 1px 3px 1px rgba(60, 64, 67, 0.15);\n",
              "      fill: #174EA6;\n",
              "    }\n",
              "\n",
              "    .colab-df-buttons div {\n",
              "      margin-bottom: 4px;\n",
              "    }\n",
              "\n",
              "    [theme=dark] .colab-df-convert {\n",
              "      background-color: #3B4455;\n",
              "      fill: #D2E3FC;\n",
              "    }\n",
              "\n",
              "    [theme=dark] .colab-df-convert:hover {\n",
              "      background-color: #434B5C;\n",
              "      box-shadow: 0px 1px 3px 1px rgba(0, 0, 0, 0.15);\n",
              "      filter: drop-shadow(0px 1px 2px rgba(0, 0, 0, 0.3));\n",
              "      fill: #FFFFFF;\n",
              "    }\n",
              "  </style>\n",
              "\n",
              "    <script>\n",
              "      const buttonEl =\n",
              "        document.querySelector('#df-d8285884-beb0-4967-a432-a9d19de5b55d button.colab-df-convert');\n",
              "      buttonEl.style.display =\n",
              "        google.colab.kernel.accessAllowed ? 'block' : 'none';\n",
              "\n",
              "      async function convertToInteractive(key) {\n",
              "        const element = document.querySelector('#df-d8285884-beb0-4967-a432-a9d19de5b55d');\n",
              "        const dataTable =\n",
              "          await google.colab.kernel.invokeFunction('convertToInteractive',\n",
              "                                                    [key], {});\n",
              "        if (!dataTable) return;\n",
              "\n",
              "        const docLinkHtml = 'Like what you see? Visit the ' +\n",
              "          '<a target=\"_blank\" href=https://colab.research.google.com/notebooks/data_table.ipynb>data table notebook</a>'\n",
              "          + ' to learn more about interactive tables.';\n",
              "        element.innerHTML = '';\n",
              "        dataTable['output_type'] = 'display_data';\n",
              "        await google.colab.output.renderOutput(dataTable, element);\n",
              "        const docLink = document.createElement('div');\n",
              "        docLink.innerHTML = docLinkHtml;\n",
              "        element.appendChild(docLink);\n",
              "      }\n",
              "    </script>\n",
              "  </div>\n",
              "\n",
              "\n",
              "<div id=\"df-87166611-a180-44fc-8f4e-3cdc746da7f0\">\n",
              "  <button class=\"colab-df-quickchart\" onclick=\"quickchart('df-87166611-a180-44fc-8f4e-3cdc746da7f0')\"\n",
              "            title=\"Suggest charts\"\n",
              "            style=\"display:none;\">\n",
              "\n",
              "<svg xmlns=\"http://www.w3.org/2000/svg\" height=\"24px\"viewBox=\"0 0 24 24\"\n",
              "     width=\"24px\">\n",
              "    <g>\n",
              "        <path d=\"M19 3H5c-1.1 0-2 .9-2 2v14c0 1.1.9 2 2 2h14c1.1 0 2-.9 2-2V5c0-1.1-.9-2-2-2zM9 17H7v-7h2v7zm4 0h-2V7h2v10zm4 0h-2v-4h2v4z\"/>\n",
              "    </g>\n",
              "</svg>\n",
              "  </button>\n",
              "\n",
              "<style>\n",
              "  .colab-df-quickchart {\n",
              "      --bg-color: #E8F0FE;\n",
              "      --fill-color: #1967D2;\n",
              "      --hover-bg-color: #E2EBFA;\n",
              "      --hover-fill-color: #174EA6;\n",
              "      --disabled-fill-color: #AAA;\n",
              "      --disabled-bg-color: #DDD;\n",
              "  }\n",
              "\n",
              "  [theme=dark] .colab-df-quickchart {\n",
              "      --bg-color: #3B4455;\n",
              "      --fill-color: #D2E3FC;\n",
              "      --hover-bg-color: #434B5C;\n",
              "      --hover-fill-color: #FFFFFF;\n",
              "      --disabled-bg-color: #3B4455;\n",
              "      --disabled-fill-color: #666;\n",
              "  }\n",
              "\n",
              "  .colab-df-quickchart {\n",
              "    background-color: var(--bg-color);\n",
              "    border: none;\n",
              "    border-radius: 50%;\n",
              "    cursor: pointer;\n",
              "    display: none;\n",
              "    fill: var(--fill-color);\n",
              "    height: 32px;\n",
              "    padding: 0;\n",
              "    width: 32px;\n",
              "  }\n",
              "\n",
              "  .colab-df-quickchart:hover {\n",
              "    background-color: var(--hover-bg-color);\n",
              "    box-shadow: 0 1px 2px rgba(60, 64, 67, 0.3), 0 1px 3px 1px rgba(60, 64, 67, 0.15);\n",
              "    fill: var(--button-hover-fill-color);\n",
              "  }\n",
              "\n",
              "  .colab-df-quickchart-complete:disabled,\n",
              "  .colab-df-quickchart-complete:disabled:hover {\n",
              "    background-color: var(--disabled-bg-color);\n",
              "    fill: var(--disabled-fill-color);\n",
              "    box-shadow: none;\n",
              "  }\n",
              "\n",
              "  .colab-df-spinner {\n",
              "    border: 2px solid var(--fill-color);\n",
              "    border-color: transparent;\n",
              "    border-bottom-color: var(--fill-color);\n",
              "    animation:\n",
              "      spin 1s steps(1) infinite;\n",
              "  }\n",
              "\n",
              "  @keyframes spin {\n",
              "    0% {\n",
              "      border-color: transparent;\n",
              "      border-bottom-color: var(--fill-color);\n",
              "      border-left-color: var(--fill-color);\n",
              "    }\n",
              "    20% {\n",
              "      border-color: transparent;\n",
              "      border-left-color: var(--fill-color);\n",
              "      border-top-color: var(--fill-color);\n",
              "    }\n",
              "    30% {\n",
              "      border-color: transparent;\n",
              "      border-left-color: var(--fill-color);\n",
              "      border-top-color: var(--fill-color);\n",
              "      border-right-color: var(--fill-color);\n",
              "    }\n",
              "    40% {\n",
              "      border-color: transparent;\n",
              "      border-right-color: var(--fill-color);\n",
              "      border-top-color: var(--fill-color);\n",
              "    }\n",
              "    60% {\n",
              "      border-color: transparent;\n",
              "      border-right-color: var(--fill-color);\n",
              "    }\n",
              "    80% {\n",
              "      border-color: transparent;\n",
              "      border-right-color: var(--fill-color);\n",
              "      border-bottom-color: var(--fill-color);\n",
              "    }\n",
              "    90% {\n",
              "      border-color: transparent;\n",
              "      border-bottom-color: var(--fill-color);\n",
              "    }\n",
              "  }\n",
              "</style>\n",
              "\n",
              "  <script>\n",
              "    async function quickchart(key) {\n",
              "      const quickchartButtonEl =\n",
              "        document.querySelector('#' + key + ' button');\n",
              "      quickchartButtonEl.disabled = true;  // To prevent multiple clicks.\n",
              "      quickchartButtonEl.classList.add('colab-df-spinner');\n",
              "      try {\n",
              "        const charts = await google.colab.kernel.invokeFunction(\n",
              "            'suggestCharts', [key], {});\n",
              "      } catch (error) {\n",
              "        console.error('Error during call to suggestCharts:', error);\n",
              "      }\n",
              "      quickchartButtonEl.classList.remove('colab-df-spinner');\n",
              "      quickchartButtonEl.classList.add('colab-df-quickchart-complete');\n",
              "    }\n",
              "    (() => {\n",
              "      let quickchartButtonEl =\n",
              "        document.querySelector('#df-87166611-a180-44fc-8f4e-3cdc746da7f0 button');\n",
              "      quickchartButtonEl.style.display =\n",
              "        google.colab.kernel.accessAllowed ? 'block' : 'none';\n",
              "    })();\n",
              "  </script>\n",
              "</div>\n",
              "    </div>\n",
              "  </div>\n"
            ],
            "application/vnd.google.colaboratory.intrinsic+json": {
              "type": "dataframe",
              "variable_name": "df",
              "summary": "{\n  \"name\": \"df\",\n  \"rows\": 1320,\n  \"fields\": [\n    {\n      \"column\": \"Date\",\n      \"properties\": {\n        \"dtype\": \"date\",\n        \"min\": \"2019-01-03 00:00:00\",\n        \"max\": \"2024-04-17 00:00:00\",\n        \"num_unique_values\": 1320,\n        \"samples\": [\n          \"2021-09-22 00:00:00\",\n          \"2021-10-13 00:00:00\",\n          \"2021-06-16 00:00:00\"\n        ],\n        \"semantic_type\": \"\",\n        \"description\": \"\"\n      }\n    },\n    {\n      \"column\": \"Price\",\n      \"properties\": {\n        \"dtype\": \"category\",\n        \"num_unique_values\": 506,\n        \"samples\": [\n          \"15031.2\",\n          \"17350.2\",\n          \"24200.0\"\n        ],\n        \"semantic_type\": \"\",\n        \"description\": \"\"\n      }\n    },\n    {\n      \"column\": \"Open\",\n      \"properties\": {\n        \"dtype\": \"category\",\n        \"num_unique_values\": 518,\n        \"samples\": [\n          \"15599.0\",\n          \"16753.8\",\n          \"11337.1\"\n        ],\n        \"semantic_type\": \"\",\n        \"description\": \"\"\n      }\n    },\n    {\n      \"column\": \"High\",\n      \"properties\": {\n        \"dtype\": \"category\",\n        \"num_unique_values\": 519,\n        \"samples\": [\n          \"17894.6\",\n          \"13023.5\",\n          \"11477.4\"\n        ],\n        \"semantic_type\": \"\",\n        \"description\": \"\"\n      }\n    },\n    {\n      \"column\": \"Low\",\n      \"properties\": {\n        \"dtype\": \"category\",\n        \"num_unique_values\": 488,\n        \"samples\": [\n          \"12859.9\",\n          \"18064.7\",\n          \"27400.0\"\n        ],\n        \"semantic_type\": \"\",\n        \"description\": \"\"\n      }\n    },\n    {\n      \"column\": \"Vol.\",\n      \"properties\": {\n        \"dtype\": \"string\",\n        \"num_unique_values\": 1036,\n        \"samples\": [\n          \"22.46K\",\n          \"24.08K\",\n          \"21.40K\"\n        ],\n        \"semantic_type\": \"\",\n        \"description\": \"\"\n      }\n    },\n    {\n      \"column\": \"Change %\",\n      \"properties\": {\n        \"dtype\": \"category\",\n        \"num_unique_values\": 459,\n        \"samples\": [\n          \"3.82%\",\n          \"3.36%\",\n          \"0.45%\"\n        ],\n        \"semantic_type\": \"\",\n        \"description\": \"\"\n      }\n    }\n  ]\n}"
            }
          },
          "metadata": {},
          "execution_count": 4
        }
      ],
      "source": [
        "# Show Dataframe\n",
        "df"
      ]
    },
    {
      "cell_type": "markdown",
      "metadata": {
        "id": "DNOBCzo1E0Eh"
      },
      "source": [
        "## Scale Data"
      ]
    },
    {
      "cell_type": "code",
      "execution_count": null,
      "metadata": {
        "id": "3KRhs1QjE0Eh"
      },
      "outputs": [],
      "source": [
        "# Select 'Close' column\n",
        "data = df['Price'].values"
      ]
    },
    {
      "cell_type": "code",
      "execution_count": null,
      "metadata": {
        "id": "92q3xBOmE0Eh"
      },
      "outputs": [],
      "source": [
        "# Scale data\n",
        "scaler = MinMaxScaler(feature_range=(0,1))\n",
        "data_scaled = scaler.fit_transform(data.reshape(-1, 1))"
      ]
    },
    {
      "cell_type": "markdown",
      "metadata": {
        "id": "FrdB7fg3E0Eh"
      },
      "source": [
        "## Split the data into train, validation and test set with a ratio of 7 : 1 : 2"
      ]
    },
    {
      "cell_type": "code",
      "execution_count": null,
      "metadata": {
        "id": "nAzJQY_gE0Eh"
      },
      "outputs": [],
      "source": [
        "# Define the size of train, validation, test set\n",
        "train_size = int(len(data_scaled) * 0.7)\n",
        "val_size = int(len(data_scaled) * 0.1)\n",
        "test_size = len(data_scaled) - train_size - val_size\n",
        "\n",
        "# Split the data into train, test, and validation sets\n",
        "train_data = data_scaled[:train_size]\n",
        "val_data = data_scaled[train_size:train_size + val_size]\n",
        "test_data = data_scaled[train_size + val_size:]"
      ]
    },
    {
      "cell_type": "markdown",
      "metadata": {
        "id": "E2XoeTTHE0Ei"
      },
      "source": [
        "## Create and add data into X, y"
      ]
    },
    {
      "cell_type": "code",
      "execution_count": null,
      "metadata": {
        "id": "C64pX_FWE0Ei"
      },
      "outputs": [],
      "source": [
        "# Function to prepare data for LSTM\n",
        "def add_data(data, sequence_length=60):\n",
        "    X, Y = [], []\n",
        "    for i in range(len(data) - sequence_length):\n",
        "        X.append(data[i:(i + sequence_length), 0])\n",
        "        Y.append(data[i + sequence_length, 0])\n",
        "    return np.array(X), np.array(Y)"
      ]
    },
    {
      "cell_type": "code",
      "execution_count": null,
      "metadata": {
        "id": "Dut6z-llE0Ei"
      },
      "outputs": [],
      "source": [
        "# Prepare sequences\n",
        "sequence_length = 60\n",
        "train_last_windowsize = train_data[-sequence_length:]\n",
        "val_last_windowsize = val_data[-sequence_length:]\n",
        "\n",
        "val_data_extended = np.concatenate((train_last_windowsize, val_data), axis=0)\n",
        "test_data_extended = np.concatenate((val_last_windowsize, test_data), axis=0)\n",
        "\n",
        "X_train, y_train = add_data(train_data, sequence_length)\n",
        "X_val, y_val = add_data(val_data_extended, sequence_length)\n",
        "X_test, y_test = add_data(test_data_extended, sequence_length)"
      ]
    },
    {
      "cell_type": "code",
      "source": [
        "# Reshape data for LSTM\n",
        "X_train = X_train.reshape((X_train.shape[0], X_train.shape[1], 1))\n",
        "X_val = X_val.reshape((X_val.shape[0], X_val.shape[1], 1))\n",
        "X_test = X_test.reshape((X_test.shape[0], X_test.shape[1], 1))"
      ],
      "metadata": {
        "id": "4N0Xh_TYg01j"
      },
      "execution_count": null,
      "outputs": []
    },
    {
      "cell_type": "markdown",
      "metadata": {
        "id": "pslsXo7ME0Ei"
      },
      "source": [
        "## Build Model"
      ]
    },
    {
      "cell_type": "code",
      "execution_count": null,
      "metadata": {
        "id": "QGg-3iw6E0Ei"
      },
      "outputs": [],
      "source": [
        "# Build the LSTM model\n",
        "model = Sequential()\n",
        "model.add(LSTM(units=50, return_sequences=True, input_shape=(X_train.shape[1], 1)))\n",
        "model.add(Dropout(0.2))\n",
        "model.add(LSTM(units=50, return_sequences=True))\n",
        "model.add(Dropout(0.2))\n",
        "model.add(LSTM(units=50, return_sequences=True))\n",
        "model.add(Dropout(0.2))\n",
        "model.add(LSTM(units=50))\n",
        "model.add(Dropout(0.2))\n",
        "model.add(Dense(units=1))\n",
        "\n",
        "# Compile the model\n",
        "model.compile(optimizer='adam', loss='mean_squared_error')"
      ]
    },
    {
      "cell_type": "markdown",
      "metadata": {
        "id": "roOUtRP9E0Ei"
      },
      "source": [
        "## Training Model"
      ]
    },
    {
      "cell_type": "code",
      "execution_count": null,
      "metadata": {
        "id": "0NbTdNGCE0Ei",
        "outputId": "e3c7d25c-7840-4d4f-8a91-b4739664ada9",
        "colab": {
          "base_uri": "https://localhost:8080/"
        }
      },
      "outputs": [
        {
          "output_type": "stream",
          "name": "stdout",
          "text": [
            "Epoch 1/50\n",
            "27/27 - 11s - loss: 0.0171 - val_loss: 2.9503e-04 - 11s/epoch - 424ms/step\n",
            "Epoch 2/50\n",
            "27/27 - 4s - loss: 0.0036 - val_loss: 3.4065e-04 - 4s/epoch - 157ms/step\n",
            "Epoch 3/50\n",
            "27/27 - 3s - loss: 0.0025 - val_loss: 3.0608e-04 - 3s/epoch - 98ms/step\n",
            "Epoch 4/50\n",
            "27/27 - 3s - loss: 0.0023 - val_loss: 2.9105e-04 - 3s/epoch - 99ms/step\n",
            "Epoch 5/50\n",
            "27/27 - 3s - loss: 0.0024 - val_loss: 6.4849e-04 - 3s/epoch - 101ms/step\n",
            "Epoch 6/50\n",
            "27/27 - 4s - loss: 0.0026 - val_loss: 2.8949e-04 - 4s/epoch - 147ms/step\n",
            "Epoch 7/50\n",
            "27/27 - 3s - loss: 0.0022 - val_loss: 2.5886e-04 - 3s/epoch - 97ms/step\n",
            "Epoch 8/50\n",
            "27/27 - 3s - loss: 0.0021 - val_loss: 4.9988e-04 - 3s/epoch - 98ms/step\n",
            "Epoch 9/50\n",
            "27/27 - 3s - loss: 0.0020 - val_loss: 2.7039e-04 - 3s/epoch - 96ms/step\n",
            "Epoch 10/50\n",
            "27/27 - 3s - loss: 0.0020 - val_loss: 3.6831e-04 - 3s/epoch - 109ms/step\n",
            "Epoch 11/50\n",
            "27/27 - 4s - loss: 0.0017 - val_loss: 7.0344e-04 - 4s/epoch - 140ms/step\n",
            "Epoch 12/50\n",
            "27/27 - 3s - loss: 0.0019 - val_loss: 3.2960e-04 - 3s/epoch - 100ms/step\n",
            "Epoch 13/50\n",
            "27/27 - 3s - loss: 0.0015 - val_loss: 3.2264e-04 - 3s/epoch - 102ms/step\n",
            "Epoch 14/50\n",
            "27/27 - 3s - loss: 0.0017 - val_loss: 2.8503e-04 - 3s/epoch - 100ms/step\n",
            "Epoch 15/50\n",
            "27/27 - 4s - loss: 0.0015 - val_loss: 2.1678e-04 - 4s/epoch - 144ms/step\n",
            "Epoch 16/50\n",
            "27/27 - 3s - loss: 0.0015 - val_loss: 2.5223e-04 - 3s/epoch - 106ms/step\n",
            "Epoch 17/50\n",
            "27/27 - 3s - loss: 0.0016 - val_loss: 2.0944e-04 - 3s/epoch - 102ms/step\n",
            "Epoch 18/50\n",
            "27/27 - 3s - loss: 0.0017 - val_loss: 3.3314e-04 - 3s/epoch - 100ms/step\n",
            "Epoch 19/50\n",
            "27/27 - 3s - loss: 0.0016 - val_loss: 4.6581e-04 - 3s/epoch - 120ms/step\n",
            "Epoch 20/50\n",
            "27/27 - 3s - loss: 0.0015 - val_loss: 4.2629e-04 - 3s/epoch - 128ms/step\n",
            "Epoch 21/50\n",
            "27/27 - 3s - loss: 0.0014 - val_loss: 2.5635e-04 - 3s/epoch - 100ms/step\n",
            "Epoch 22/50\n",
            "27/27 - 3s - loss: 0.0013 - val_loss: 2.3065e-04 - 3s/epoch - 98ms/step\n",
            "Epoch 23/50\n",
            "27/27 - 3s - loss: 0.0015 - val_loss: 2.2869e-04 - 3s/epoch - 99ms/step\n",
            "Epoch 24/50\n",
            "27/27 - 4s - loss: 0.0014 - val_loss: 3.7424e-04 - 4s/epoch - 146ms/step\n",
            "Epoch 25/50\n",
            "27/27 - 3s - loss: 0.0014 - val_loss: 2.6016e-04 - 3s/epoch - 97ms/step\n",
            "Epoch 26/50\n",
            "27/27 - 3s - loss: 0.0014 - val_loss: 1.8506e-04 - 3s/epoch - 99ms/step\n",
            "Epoch 27/50\n",
            "27/27 - 3s - loss: 0.0012 - val_loss: 3.1111e-04 - 3s/epoch - 95ms/step\n",
            "Epoch 28/50\n",
            "27/27 - 3s - loss: 0.0013 - val_loss: 1.7916e-04 - 3s/epoch - 112ms/step\n",
            "Epoch 29/50\n",
            "27/27 - 3s - loss: 0.0012 - val_loss: 2.0134e-04 - 3s/epoch - 127ms/step\n",
            "Epoch 30/50\n",
            "27/27 - 3s - loss: 0.0012 - val_loss: 1.6470e-04 - 3s/epoch - 94ms/step\n",
            "Epoch 31/50\n",
            "27/27 - 3s - loss: 0.0012 - val_loss: 2.8685e-04 - 3s/epoch - 96ms/step\n",
            "Epoch 32/50\n",
            "27/27 - 3s - loss: 0.0013 - val_loss: 1.9210e-04 - 3s/epoch - 99ms/step\n",
            "Epoch 33/50\n",
            "27/27 - 4s - loss: 0.0015 - val_loss: 2.7996e-04 - 4s/epoch - 154ms/step\n",
            "Epoch 34/50\n",
            "27/27 - 3s - loss: 0.0011 - val_loss: 2.6091e-04 - 3s/epoch - 96ms/step\n",
            "Epoch 35/50\n",
            "27/27 - 3s - loss: 0.0011 - val_loss: 1.7440e-04 - 3s/epoch - 95ms/step\n",
            "Epoch 36/50\n",
            "27/27 - 2s - loss: 0.0011 - val_loss: 2.3823e-04 - 2s/epoch - 93ms/step\n",
            "Epoch 37/50\n",
            "27/27 - 3s - loss: 0.0012 - val_loss: 1.7479e-04 - 3s/epoch - 106ms/step\n",
            "Epoch 38/50\n",
            "27/27 - 4s - loss: 0.0012 - val_loss: 1.6639e-04 - 4s/epoch - 142ms/step\n",
            "Epoch 39/50\n",
            "27/27 - 3s - loss: 0.0011 - val_loss: 1.4430e-04 - 3s/epoch - 97ms/step\n",
            "Epoch 40/50\n",
            "27/27 - 3s - loss: 0.0011 - val_loss: 1.4015e-04 - 3s/epoch - 96ms/step\n",
            "Epoch 41/50\n",
            "27/27 - 3s - loss: 0.0011 - val_loss: 3.7679e-04 - 3s/epoch - 94ms/step\n",
            "Epoch 42/50\n",
            "27/27 - 3s - loss: 0.0010 - val_loss: 1.4625e-04 - 3s/epoch - 122ms/step\n",
            "Epoch 43/50\n",
            "27/27 - 3s - loss: 0.0011 - val_loss: 1.4275e-04 - 3s/epoch - 121ms/step\n",
            "Epoch 44/50\n",
            "27/27 - 3s - loss: 0.0010 - val_loss: 3.1255e-04 - 3s/epoch - 94ms/step\n",
            "Epoch 45/50\n",
            "27/27 - 3s - loss: 0.0010 - val_loss: 1.3782e-04 - 3s/epoch - 101ms/step\n",
            "Epoch 46/50\n",
            "27/27 - 3s - loss: 0.0010 - val_loss: 1.4477e-04 - 3s/epoch - 98ms/step\n",
            "Epoch 47/50\n",
            "27/27 - 4s - loss: 0.0010 - val_loss: 1.6590e-04 - 4s/epoch - 154ms/step\n",
            "Epoch 48/50\n",
            "27/27 - 3s - loss: 0.0011 - val_loss: 2.0029e-04 - 3s/epoch - 96ms/step\n",
            "Epoch 49/50\n",
            "27/27 - 3s - loss: 0.0010 - val_loss: 1.6754e-04 - 3s/epoch - 97ms/step\n",
            "Epoch 50/50\n",
            "27/27 - 3s - loss: 9.7662e-04 - val_loss: 1.3718e-04 - 3s/epoch - 99ms/step\n"
          ]
        }
      ],
      "source": [
        "# Train the model\n",
        "history = model.fit(X_train, y_train, validation_data=(X_val, y_val), epochs=50, batch_size=32, verbose=2)"
      ]
    },
    {
      "cell_type": "markdown",
      "metadata": {
        "id": "MLMwS5wEE0Ej"
      },
      "source": [
        "## Predict Close price in test and validation set"
      ]
    },
    {
      "cell_type": "code",
      "execution_count": null,
      "metadata": {
        "id": "cwiDqXgEE0Ej",
        "outputId": "cc5f0f74-c13c-45c6-9a77-80a05894e99c",
        "colab": {
          "base_uri": "https://localhost:8080/"
        }
      },
      "outputs": [
        {
          "output_type": "stream",
          "name": "stdout",
          "text": [
            "9/9 [==============================] - 3s 102ms/step\n",
            "5/5 [==============================] - 0s 33ms/step\n"
          ]
        }
      ],
      "source": [
        "# Make predictions\n",
        "y_pred = model.predict(X_test)\n",
        "y_pred_val = model.predict(X_val)"
      ]
    },
    {
      "cell_type": "markdown",
      "metadata": {
        "id": "LAVBa-2GE0Ej"
      },
      "source": [
        "## Transform data back to the original"
      ]
    },
    {
      "cell_type": "code",
      "execution_count": null,
      "metadata": {
        "id": "HI5bRr8uE0Ej"
      },
      "outputs": [],
      "source": [
        "# Inverse transform the predictions and actual values\n",
        "y_pred = scaler.inverse_transform(y_pred)\n",
        "y_val = scaler.inverse_transform(y_val.reshape(-1, 1))\n",
        "y_pred_val = scaler.inverse_transform(y_pred_val)\n",
        "train_data = scaler.inverse_transform(train_data)\n",
        "test_data = scaler.inverse_transform(test_data)\n",
        "val_data = scaler.inverse_transform(val_data)"
      ]
    },
    {
      "cell_type": "markdown",
      "metadata": {
        "id": "rW55_P9SE0Ej"
      },
      "source": [
        "## Calculate the error of the model"
      ]
    },
    {
      "cell_type": "code",
      "execution_count": null,
      "metadata": {
        "id": "9V2An6RIE0Ej",
        "outputId": "64b39741-48ab-455a-a4b5-1142f8405db2",
        "colab": {
          "base_uri": "https://localhost:8080/"
        }
      },
      "outputs": [
        {
          "output_type": "stream",
          "name": "stdout",
          "text": [
            "MAPE on Test set: 34378.06756673839\n",
            "RMSE on Test set: 21687.203520800533\n",
            "MSLE on Test set: 89.36967664352555\n"
          ]
        }
      ],
      "source": [
        "# Calculate error metrics\n",
        "test_mape = mean_absolute_percentage_error(y_test, y_pred)\n",
        "test_mse = mean_squared_error(y_test, y_pred)\n",
        "test_rmse = np.sqrt(test_mse)\n",
        "test_msle = mean_squared_log_error(y_test, y_pred)\n",
        "\n",
        "print(f\"MAPE on Test set: {test_mape}\")\n",
        "print(f\"RMSE on Test set: {test_rmse}\")\n",
        "print(f\"MSLE on Test set: {test_msle}\")"
      ]
    },
    {
      "cell_type": "code",
      "execution_count": null,
      "metadata": {
        "id": "tjP80YEnE0Ej",
        "outputId": "de4bad49-49df-44fd-afa6-94f17966d75f",
        "colab": {
          "base_uri": "https://localhost:8080/"
        }
      },
      "outputs": [
        {
          "output_type": "stream",
          "name": "stdout",
          "text": [
            "MAPE on Validate set: 0.01302560184460679\n",
            "RMSE on Validate set: 234.43642474085644\n",
            "MSLE on Validate set: 0.00028297932548316325\n"
          ]
        }
      ],
      "source": [
        "# The error in validation set\n",
        "val_mape = mean_absolute_percentage_error(y_val, y_pred_val)\n",
        "val_mse = mean_squared_error(y_val, y_pred_val)\n",
        "val_rmse = np.sqrt(val_mse)\n",
        "val_msle = mean_squared_log_error(y_val, y_pred_val)\n",
        "\n",
        "print(f\"MAPE on Validate set: {val_mape}\")\n",
        "print(f\"RMSE on Validate set: {val_rmse}\")\n",
        "print(f\"MSLE on Validate set: {val_msle}\")"
      ]
    },
    {
      "cell_type": "markdown",
      "metadata": {
        "id": "5mtsTm6EE0Ej"
      },
      "source": [
        "## Predict Close price for 30 next days"
      ]
    },
    {
      "cell_type": "code",
      "execution_count": null,
      "metadata": {
        "id": "CuOZR3qNE0Ej",
        "outputId": "bda6b968-6886-4231-9f22-77825b4a0802",
        "colab": {
          "base_uri": "https://localhost:8080/"
        }
      },
      "outputs": [
        {
          "output_type": "stream",
          "name": "stdout",
          "text": [
            "1/1 [==============================] - 0s 42ms/step\n",
            "1/1 [==============================] - 0s 42ms/step\n",
            "1/1 [==============================] - 0s 27ms/step\n",
            "1/1 [==============================] - 0s 28ms/step\n",
            "1/1 [==============================] - 0s 27ms/step\n",
            "1/1 [==============================] - 0s 28ms/step\n",
            "1/1 [==============================] - 0s 26ms/step\n",
            "1/1 [==============================] - 0s 28ms/step\n",
            "1/1 [==============================] - 0s 31ms/step\n",
            "1/1 [==============================] - 0s 37ms/step\n",
            "1/1 [==============================] - 0s 43ms/step\n",
            "1/1 [==============================] - 0s 25ms/step\n",
            "1/1 [==============================] - 0s 26ms/step\n",
            "1/1 [==============================] - 0s 32ms/step\n",
            "1/1 [==============================] - 0s 26ms/step\n",
            "1/1 [==============================] - 0s 26ms/step\n",
            "1/1 [==============================] - 0s 43ms/step\n",
            "1/1 [==============================] - 0s 41ms/step\n",
            "1/1 [==============================] - 0s 40ms/step\n",
            "1/1 [==============================] - 0s 43ms/step\n",
            "1/1 [==============================] - 0s 38ms/step\n",
            "1/1 [==============================] - 0s 38ms/step\n",
            "1/1 [==============================] - 0s 47ms/step\n",
            "1/1 [==============================] - 0s 51ms/step\n",
            "1/1 [==============================] - 0s 52ms/step\n",
            "1/1 [==============================] - 0s 51ms/step\n",
            "1/1 [==============================] - 0s 48ms/step\n",
            "1/1 [==============================] - 0s 43ms/step\n",
            "1/1 [==============================] - 0s 42ms/step\n",
            "1/1 [==============================] - 0s 40ms/step\n"
          ]
        }
      ],
      "source": [
        "last_sequence_days = data_scaled[-sequence_length:].reshape(1, -1, 1)\n",
        "y_next_30_days = []\n",
        "\n",
        "for i in range(30):\n",
        "    next_day_pred = model.predict(last_sequence_days)\n",
        "    y_next_30_days.append(next_day_pred[0][0])\n",
        "    last_sequence_days = np.concatenate([last_sequence_days[:, 1:, :], next_day_pred.reshape(1, 1, 1)], axis=1)\n"
      ]
    },
    {
      "cell_type": "code",
      "execution_count": null,
      "metadata": {
        "id": "bg6mf7a1E0Ej",
        "outputId": "a3114b97-4646-464f-ae24-a3ed7c2d9a6c",
        "colab": {
          "base_uri": "https://localhost:8080/"
        }
      },
      "outputs": [
        {
          "output_type": "stream",
          "name": "stdout",
          "text": [
            "[24935.184 24863.3   24746.621 24584.984 24388.389 24170.29  23943.102\n",
            " 23716.072 23494.912 23282.406 23079.326 22885.271 22699.365 22520.64\n",
            " 22348.242 22181.482 22019.865 21863.01  21710.639 21562.516 21418.434\n",
            " 21278.217 21141.69  21008.7   20879.09  20752.732 20629.502 20509.285\n",
            " 20391.979 20277.486]\n"
          ]
        }
      ],
      "source": [
        "# Show the result of predict 30 next days\n",
        "y_next_30_days = scaler.inverse_transform(np.array(y_next_30_days).reshape(-1, 1))\n",
        "print(y_next_30_days.flatten())"
      ]
    },
    {
      "cell_type": "markdown",
      "metadata": {
        "id": "K8VskxMGE0Ek"
      },
      "source": [
        "## Model visualization"
      ]
    },
    {
      "cell_type": "code",
      "execution_count": null,
      "metadata": {
        "id": "16-6QPWhE0Ek",
        "outputId": "3326b30c-09e8-4c8f-cc9e-be93eaf65450",
        "colab": {
          "base_uri": "https://localhost:8080/",
          "height": 451
        }
      },
      "outputs": [
        {
          "output_type": "display_data",
          "data": {
            "text/plain": [
              "<Figure size 1200x500 with 1 Axes>"
            ],
            "image/png": "[encoded data removed]"
          },
          "metadata": {}
        }
      ],
      "source": [
        "# Plot the results\n",
        "plt.figure(figsize=(12, 5))\n",
        "plt.plot(df[:train_size].index, train_data)\n",
        "plt.plot(df[train_size:train_size + val_size].index, val_data)\n",
        "plt.plot(df[train_size:train_size + val_size].index, y_pred_val)\n",
        "plt.plot(df[train_size + val_size:].index, test_data)\n",
        "plt.plot(df[train_size + val_size:].index, y_pred)\n",
        "plt.plot(pd.date_range(start=df.index[-1] + pd.DateOffset(days=1), periods=30), y_next_30_days)\n",
        "plt.legend(['Train', 'Validate', 'Predict Validation', 'Test', 'Predict Test', 'Predict30days'])\n",
        "plt.grid()\n",
        "plt.title(\"DHT Closing Price Data With Ratio 7_1_2\")\n",
        "plt.xlabel(\"Date\")\n",
        "plt.ylabel(\"Close value\")\n",
        "plt.savefig('RNN_712_DHT.png')\n",
        "plt.show()"
      ]
    }
  ],
  "metadata": {
    "kernelspec": {
      "display_name": "user_env",
      "language": "python",
      "name": "python3"
    },
    "language_info": {
      "codemirror_mode": {
        "name": "ipython",
        "version": 3
      },
      "file_extension": ".py",
      "mimetype": "text/x-python",
      "name": "python",
      "nbconvert_exporter": "python",
      "pygments_lexer": "ipython3",
      "version": "3.9.16"
    },
    "orig_nbformat": 4,
    "colab": {
      "provenance": [],
      "include_colab_link": true
    }
  },
  "nbformat": 4,
  "nbformat_minor": 0
}