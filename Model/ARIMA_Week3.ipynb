{
 "cells": [
  {
   "cell_type": "code",
   "execution_count": 1,
   "id": "a1eb9456-78d4-497d-afdd-a57637349eed",
   "metadata": {},
   "outputs": [],
   "source": [
    "import pandas as pd\n",
    "import matplotlib.pyplot as plt\n",
    "from statsmodels.tsa.arima.model import ARIMA\n",
    "import numpy as np\n",
    "from pmdarima import auto_arima"
   ]
  },
  {
   "cell_type": "code",
   "execution_count": 2,
   "id": "6512bb9a-0af5-459e-888c-be0faf0dad62",
   "metadata": {},
   "outputs": [
    {
     "data": {
      "text/plain": [
       "0      2024-04-17\n",
       "1      2024-04-16\n",
       "2      2024-04-15\n",
       "3      2024-04-12\n",
       "4      2024-04-11\n",
       "          ...    \n",
       "1317   2019-01-08\n",
       "1318   2019-01-07\n",
       "1319   2019-01-04\n",
       "1320   2019-01-03\n",
       "1321   2019-01-02\n",
       "Name: Date, Length: 1322, dtype: datetime64[ns]"
      ]
     },
     "execution_count": 2,
     "metadata": {},
     "output_type": "execute_result"
    }
   ],
   "source": [
    "data = pd.read_csv(\"AMV Historical Data.csv\")\n",
    "\n",
    "data['Price'] = data['Price'].str.replace(',', '').astype(float)\n",
    "data['Date'] = pd.to_datetime(data['Date'])\n",
    "data['Date']"
   ]
  },
  {
   "cell_type": "code",
   "execution_count": 3,
   "id": "edbd21b8-4279-48e6-8ca0-00b1b8a3e2ae",
   "metadata": {},
   "outputs": [
    {
     "data": {
      "text/html": [
       "<div>\n",
       "<style scoped>\n",
       "    .dataframe tbody tr th:only-of-type {\n",
       "        vertical-align: middle;\n",
       "    }\n",
       "\n",
       "    .dataframe tbody tr th {\n",
       "        vertical-align: top;\n",
       "    }\n",
       "\n",
       "    .dataframe thead th {\n",
       "        text-align: right;\n",
       "    }\n",
       "</style>\n",
       "<table border=\"1\" class=\"dataframe\">\n",
       "  <thead>\n",
       "    <tr style=\"text-align: right;\">\n",
       "      <th></th>\n",
       "      <th>Price</th>\n",
       "    </tr>\n",
       "    <tr>\n",
       "      <th>Date</th>\n",
       "      <th></th>\n",
       "    </tr>\n",
       "  </thead>\n",
       "  <tbody>\n",
       "    <tr>\n",
       "      <th>2019-01-02</th>\n",
       "      <td>17072.0</td>\n",
       "    </tr>\n",
       "    <tr>\n",
       "      <th>2019-01-03</th>\n",
       "      <td>16982.0</td>\n",
       "    </tr>\n",
       "    <tr>\n",
       "      <th>2019-01-04</th>\n",
       "      <td>16666.0</td>\n",
       "    </tr>\n",
       "    <tr>\n",
       "      <th>2019-01-07</th>\n",
       "      <td>16171.0</td>\n",
       "    </tr>\n",
       "    <tr>\n",
       "      <th>2019-01-08</th>\n",
       "      <td>16171.0</td>\n",
       "    </tr>\n",
       "    <tr>\n",
       "      <th>...</th>\n",
       "      <td>...</td>\n",
       "    </tr>\n",
       "    <tr>\n",
       "      <th>2024-04-11</th>\n",
       "      <td>3500.0</td>\n",
       "    </tr>\n",
       "    <tr>\n",
       "      <th>2024-04-12</th>\n",
       "      <td>3500.0</td>\n",
       "    </tr>\n",
       "    <tr>\n",
       "      <th>2024-04-15</th>\n",
       "      <td>3300.0</td>\n",
       "    </tr>\n",
       "    <tr>\n",
       "      <th>2024-04-16</th>\n",
       "      <td>3300.0</td>\n",
       "    </tr>\n",
       "    <tr>\n",
       "      <th>2024-04-17</th>\n",
       "      <td>3200.0</td>\n",
       "    </tr>\n",
       "  </tbody>\n",
       "</table>\n",
       "<p>1322 rows × 1 columns</p>\n",
       "</div>"
      ],
      "text/plain": [
       "              Price\n",
       "Date               \n",
       "2019-01-02  17072.0\n",
       "2019-01-03  16982.0\n",
       "2019-01-04  16666.0\n",
       "2019-01-07  16171.0\n",
       "2019-01-08  16171.0\n",
       "...             ...\n",
       "2024-04-11   3500.0\n",
       "2024-04-12   3500.0\n",
       "2024-04-15   3300.0\n",
       "2024-04-16   3300.0\n",
       "2024-04-17   3200.0\n",
       "\n",
       "[1322 rows x 1 columns]"
      ]
     },
     "execution_count": 3,
     "metadata": {},
     "output_type": "execute_result"
    }
   ],
   "source": [
    "time_series = pd.DataFrame({'Date': data['Date'], 'Price': data['Price']})\n",
    "time_series['Date'] = pd.to_datetime(time_series['Date'])\n",
    "time_series['Price'] = time_series['Price'].astype(float)\n",
    "time_series.set_index('Date', inplace=True)\n",
    "time_series.sort_index(inplace=True)\n",
    "\n",
    "time_series"
   ]
  },
  {
   "cell_type": "code",
   "execution_count": 4,
   "id": "6bf16298-4b9c-46a9-958d-865646e866e8",
   "metadata": {},
   "outputs": [],
   "source": [
    "train_data = time_series[:int(0.8* len(time_series))]\n",
    "test_data = time_series[int(0.8*len(time_series)):]"
   ]
  },
  {
   "cell_type": "code",
   "execution_count": null,
   "id": "7bf2ed69-c9f4-49c8-9cdf-a16742a60e78",
   "metadata": {},
   "outputs": [
    {
     "name": "stdout",
     "output_type": "stream",
     "text": [
      "Performing stepwise search to minimize aic\n",
      " ARIMA(1,1,1)(0,1,1)[12]             : AIC=inf, Time=4.07 sec\n",
      " ARIMA(0,1,0)(0,1,0)[12]             : AIC=17028.209, Time=0.05 sec\n",
      " ARIMA(1,1,0)(1,1,0)[12]             : AIC=16770.023, Time=1.28 sec\n",
      " ARIMA(0,1,1)(0,1,1)[12]             : AIC=inf, Time=1.59 sec\n",
      " ARIMA(1,1,0)(0,1,0)[12]             : AIC=17029.804, Time=0.05 sec\n",
      " ARIMA(1,1,0)(2,1,0)[12]             : AIC=16639.860, Time=2.54 sec\n"
     ]
    }
   ],
   "source": [
    "model = auto_arima(train_data, start_p=1, start_q=1,\n",
    "                   max_p=5, max_q=5, m=12,\n",
    "                   start_P=0, seasonal=True,\n",
    "                   d=1, D=1, trace=True,\n",
    "                   error_action='ignore',\n",
    "                   suppress_warnings=True,\n",
    "                   stepwise=True)"
   ]
  },
  {
   "cell_type": "code",
   "execution_count": null,
   "id": "dbd3148c-a3e0-4bb9-8d7b-b807cde02174",
   "metadata": {},
   "outputs": [],
   "source": [
    "# Extract the best parameters from auto_arima\n",
    "order = model.get_params()['order']"
   ]
  },
  {
   "cell_type": "code",
   "execution_count": null,
   "id": "9935babd-52cf-4627-b322-00cd4e8417b5",
   "metadata": {},
   "outputs": [],
   "source": [
    "# Fit ARIMA model\n",
    "arima_model = ARIMA(train_data, order=order)\n",
    "arima_result = arima_model.fit()"
   ]
  },
  {
   "cell_type": "code",
   "execution_count": null,
   "id": "335ac7e7-c903-409f-9e6a-6af2ff495ab2",
   "metadata": {},
   "outputs": [],
   "source": [
    "predictions = arima_result.predict(start=len(train_data), end=len(train_data)+len(test_data)-1, dynamic=False)"
   ]
  },
  {
   "cell_type": "code",
   "execution_count": null,
   "id": "f199bb20-1065-4174-b590-0f4d726c58af",
   "metadata": {},
   "outputs": [],
   "source": [
    "# Visualize the results\n",
    "plt.figure(figsize=(12, 6))\n",
    "plt.plot(train_data, label='Training Data')\n",
    "plt.plot(test_data.index, test_data, label='Actual Data')\n",
    "plt.plot(test_data.index, predictions, label='Predictions')\n",
    "plt.title('AMV Time Series Forecast')\n",
    "plt.xlabel('Date')\n",
    "plt.ylabel('Closing Price')\n",
    "plt.legend()\n",
    "plt.show()"
   ]
  },
  {
   "cell_type": "code",
   "execution_count": null,
   "id": "0f72beca-f412-4215-bf19-79e3b59f8338",
   "metadata": {},
   "outputs": [],
   "source": [
    "data = pd.read_csv(\"DHT Historical Data.csv\")\n",
    "\n",
    "data['Price'] = data['Price'].str.replace(',', '').astype(float)\n",
    "data['Date'] = pd.to_datetime(data['Date'])\n",
    "\n",
    "time_series = pd.DataFrame({'Date': data['Date'], 'Price': data['Price']})\n",
    "time_series['Date'] = pd.to_datetime(time_series['Date'])\n",
    "time_series['Price'] = time_series['Price'].astype(float)\n",
    "time_series.set_index('Date', inplace=True)\n",
    "time_series.sort_index(inplace=True)\n",
    "\n",
    "time_series"
   ]
  },
  {
   "cell_type": "code",
   "execution_count": null,
   "id": "db16ff50-4349-4b18-9196-f085b301a8a0",
   "metadata": {},
   "outputs": [],
   "source": [
    "train_data = time_series[:int(0.8*len(time_series))]\n",
    "test_data = time_series[int(0.8*len(time_series)):]"
   ]
  },
  {
   "cell_type": "code",
   "execution_count": null,
   "id": "e018d7d1-1780-4064-b5e9-dda022c820ca",
   "metadata": {},
   "outputs": [],
   "source": [
    "model = auto_arima(train_data, start_p=1, start_q=1,\n",
    "                   max_p=5, max_q=5, m=12,\n",
    "                   start_P=0, seasonal=True,\n",
    "                   d=1, D=1, trace=True,\n",
    "                   error_action='ignore',\n",
    "                   suppress_warnings=True,\n",
    "                   stepwise=True)"
   ]
  },
  {
   "cell_type": "code",
   "execution_count": null,
   "id": "da80e907-3565-4bf1-896e-24a33e898355",
   "metadata": {},
   "outputs": [],
   "source": [
    "# Extract the best parameters from auto_arima\n",
    "order = model.get_params()['order']"
   ]
  },
  {
   "cell_type": "code",
   "execution_count": null,
   "id": "47ceec8f-65d4-465f-a698-45a10faeb436",
   "metadata": {},
   "outputs": [],
   "source": [
    "# Fit ARIMA model\n",
    "arima_model = ARIMA(train_data, order=order)\n",
    "arima_result = arima_model.fit()"
   ]
  },
  {
   "cell_type": "code",
   "execution_count": null,
   "id": "9182d163-fcf9-4027-bdf4-f507e9143bc0",
   "metadata": {},
   "outputs": [],
   "source": [
    "predictions = arima_result.predict(start=len(train_data), end=len(train_data)+len(test_data)-1, dynamic=False)"
   ]
  },
  {
   "cell_type": "code",
   "execution_count": null,
   "id": "63d828ca-8f45-47cd-b6ff-7684cdc2da08",
   "metadata": {},
   "outputs": [],
   "source": [
    "# Visualize the results\n",
    "plt.figure(figsize=(12, 6))\n",
    "plt.plot(train_data, label='Training Data')\n",
    "plt.plot(test_data.index, test_data, label='Actual Data')\n",
    "plt.plot(test_data.index, predictions, label='Predictions')\n",
    "plt.title('DHT Time Series Forecast')\n",
    "plt.xlabel('Date')\n",
    "plt.ylabel('Closing Price')\n",
    "plt.legend()\n",
    "plt.show()"
   ]
  },
  {
   "cell_type": "code",
   "execution_count": null,
   "id": "fbfdc4d7-f5ba-4307-ac08-dec790d15c4c",
   "metadata": {},
   "outputs": [],
   "source": [
    "data = pd.read_csv(\"DP3 Historical Data (1).csv\")\n",
    "\n",
    "data['Price'] = data['Price'].str.replace(',', '').astype(float)\n",
    "data['Date'] = pd.to_datetime(data['Date'])\n",
    "\n",
    "time_series = pd.DataFrame({'Date': data['Date'], 'Price': data['Price']})\n",
    "time_series['Date'] = pd.to_datetime(time_series['Date'])\n",
    "time_series['Price'] = time_series['Price'].astype(float)\n",
    "time_series.set_index('Date', inplace=True)\n",
    "time_series.sort_index(inplace=True)\n",
    "\n",
    "time_series"
   ]
  },
  {
   "cell_type": "code",
   "execution_count": null,
   "id": "f9d6f039-86ff-4586-95f4-f1dbe5d0eeb6",
   "metadata": {},
   "outputs": [],
   "source": [
    "train_data = time_series[:int(0.8*len(time_series))]\n",
    "test_data = time_series[int(0.8*len(time_series)):]"
   ]
  },
  {
   "cell_type": "code",
   "execution_count": null,
   "id": "011efeb8-c1c3-44b0-a6d1-d3edd5724b78",
   "metadata": {},
   "outputs": [],
   "source": [
    "model = auto_arima(train_data, start_p=1, start_q=1,\n",
    "                   max_p=5, max_q=5, m=12,\n",
    "                   start_P=0, seasonal=True,\n",
    "                   d=1, D=1, trace=True,\n",
    "                   error_action='ignore',\n",
    "                   suppress_warnings=True,\n",
    "                   stepwise=True)"
   ]
  },
  {
   "cell_type": "code",
   "execution_count": null,
   "id": "a451f15b-0136-453c-9be2-ac51d27e1ae9",
   "metadata": {},
   "outputs": [],
   "source": [
    "# Extract the best parameters from auto_arima\n",
    "order = model.get_params()['order']"
   ]
  },
  {
   "cell_type": "code",
   "execution_count": null,
   "id": "a978ceaa-f510-419e-aa38-c9678c669627",
   "metadata": {},
   "outputs": [],
   "source": [
    "# Fit ARIMA model\n",
    "arima_model = ARIMA(train_data, order=order)\n",
    "arima_result = arima_model.fit()"
   ]
  },
  {
   "cell_type": "code",
   "execution_count": null,
   "id": "e7e017f0-28bc-48c7-b0bc-cc8466a6f95c",
   "metadata": {},
   "outputs": [],
   "source": [
    "predictions = arima_result.predict(start=len(train_data), end=len(train_data)+len(test_data)-1, dynamic=False)"
   ]
  },
  {
   "cell_type": "code",
   "execution_count": null,
   "id": "65c09c69-faa1-4d32-9cac-4ea03f37d6f6",
   "metadata": {},
   "outputs": [],
   "source": [
    "# Visualize the results\n",
    "plt.figure(figsize=(12, 6))\n",
    "plt.plot(train_data, label='Training Data')\n",
    "plt.plot(test_data.index, test_data, label='Actual Data')\n",
    "plt.plot(test_data.index, predictions, label='Predictions')\n",
    "plt.title('DP3 Time Series Forecast')\n",
    "plt.xlabel('Date')\n",
    "plt.ylabel('Closing Price')\n",
    "plt.legend()\n",
    "plt.show()"
   ]
  }
 ],
 "metadata": {
  "kernelspec": {
   "display_name": "Python 3 (ipykernel)",
   "language": "python",
   "name": "python3"
  },
  "language_info": {
   "codemirror_mode": {
    "name": "ipython",
    "version": 3
   },
   "file_extension": ".py",
   "mimetype": "text/x-python",
   "name": "python",
   "nbconvert_exporter": "python",
   "pygments_lexer": "ipython3",
   "version": "3.11.8"
  }
 },
 "nbformat": 4,
 "nbformat_minor": 5
}
