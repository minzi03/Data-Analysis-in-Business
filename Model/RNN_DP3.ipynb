{
  "cells": [
    {
      "cell_type": "markdown",
      "metadata": {
        "id": "ZmAUod5iE0Ed"
      },
      "source": [
        "## Import the necessary libraries"
      ]
    },
    {
      "cell_type": "code",
      "execution_count": 69,
      "metadata": {
        "id": "yX_dfgFhE0Ee"
      },
      "outputs": [],
      "source": [
        "import pandas as pd\n",
        "import numpy as np\n",
        "\n",
        "from tensorflow.keras.models import Sequential\n",
        "from tensorflow.keras.layers import Dense, Dropout, LSTM\n",
        "\n",
        "from sklearn.metrics import mean_squared_error, mean_absolute_percentage_error, mean_squared_log_error\n",
        "from sklearn.preprocessing import MinMaxScaler\n",
        "\n",
        "import matplotlib.pyplot as plt\n",
        "%matplotlib inline"
      ]
    },
    {
      "cell_type": "markdown",
      "metadata": {
        "id": "GbGZH3fHE0Ef"
      },
      "source": [
        "## Load data"
      ]
    },
    {
      "cell_type": "code",
      "execution_count": 70,
      "metadata": {
        "id": "692JHIjtE0Eg",
        "outputId": "6e27cd34-cee3-4c72-fe5f-364b1973cb26",
        "colab": {
          "base_uri": "https://localhost:8080/",
          "height": 362
        }
      },
      "outputs": [
        {
          "output_type": "execute_result",
          "data": {
            "text/plain": [
              "         Date   Price    Open    High     Low    Vol. Change %\n",
              "0  04/17/2024  68,000  68,000  68,300  68,000   8.91K    0.00%\n",
              "1  04/16/2024  68,000  68,600  68,600  66,900  10.76K   -0.73%\n",
              "2  04/15/2024  68,500  69,300  69,300  68,000  14.22K   -1.15%\n",
              "3  04/12/2024  69,300  68,900  69,300  68,900   3.01K    0.58%\n",
              "4  04/11/2024  68,900  69,500  69,500  68,200   5.36K   -0.86%\n",
              "5  04/10/2024  69,500  69,500  69,500  69,500   2.30K    0.58%\n",
              "6  04/09/2024  69,100  70,500  70,500  69,100   2.47K   -1.14%\n",
              "7  04/08/2024  69,900  70,000  70,000  68,000   6.30K   -0.14%\n",
              "8  04/05/2024  70,000  70,000  70,000  67,500  10.25K    0.00%\n",
              "9  04/04/2024  70,000  70,400  70,700  70,000   2.80K   -0.57%"
            ],
            "text/html": [
              "\n",
              "  <div id=\"df-1fc30914-3f7d-4a22-98f5-8ed87f0996d2\" class=\"colab-df-container\">\n",
              "    <div>\n",
              "<style scoped>\n",
              "    .dataframe tbody tr th:only-of-type {\n",
              "        vertical-align: middle;\n",
              "    }\n",
              "\n",
              "    .dataframe tbody tr th {\n",
              "        vertical-align: top;\n",
              "    }\n",
              "\n",
              "    .dataframe thead th {\n",
              "        text-align: right;\n",
              "    }\n",
              "</style>\n",
              "<table border=\"1\" class=\"dataframe\">\n",
              "  <thead>\n",
              "    <tr style=\"text-align: right;\">\n",
              "      <th></th>\n",
              "      <th>Date</th>\n",
              "      <th>Price</th>\n",
              "      <th>Open</th>\n",
              "      <th>High</th>\n",
              "      <th>Low</th>\n",
              "      <th>Vol.</th>\n",
              "      <th>Change %</th>\n",
              "    </tr>\n",
              "  </thead>\n",
              "  <tbody>\n",
              "    <tr>\n",
              "      <th>0</th>\n",
              "      <td>04/17/2024</td>\n",
              "      <td>68,000</td>\n",
              "      <td>68,000</td>\n",
              "      <td>68,300</td>\n",
              "      <td>68,000</td>\n",
              "      <td>8.91K</td>\n",
              "      <td>0.00%</td>\n",
              "    </tr>\n",
              "    <tr>\n",
              "      <th>1</th>\n",
              "      <td>04/16/2024</td>\n",
              "      <td>68,000</td>\n",
              "      <td>68,600</td>\n",
              "      <td>68,600</td>\n",
              "      <td>66,900</td>\n",
              "      <td>10.76K</td>\n",
              "      <td>-0.73%</td>\n",
              "    </tr>\n",
              "    <tr>\n",
              "      <th>2</th>\n",
              "      <td>04/15/2024</td>\n",
              "      <td>68,500</td>\n",
              "      <td>69,300</td>\n",
              "      <td>69,300</td>\n",
              "      <td>68,000</td>\n",
              "      <td>14.22K</td>\n",
              "      <td>-1.15%</td>\n",
              "    </tr>\n",
              "    <tr>\n",
              "      <th>3</th>\n",
              "      <td>04/12/2024</td>\n",
              "      <td>69,300</td>\n",
              "      <td>68,900</td>\n",
              "      <td>69,300</td>\n",
              "      <td>68,900</td>\n",
              "      <td>3.01K</td>\n",
              "      <td>0.58%</td>\n",
              "    </tr>\n",
              "    <tr>\n",
              "      <th>4</th>\n",
              "      <td>04/11/2024</td>\n",
              "      <td>68,900</td>\n",
              "      <td>69,500</td>\n",
              "      <td>69,500</td>\n",
              "      <td>68,200</td>\n",
              "      <td>5.36K</td>\n",
              "      <td>-0.86%</td>\n",
              "    </tr>\n",
              "    <tr>\n",
              "      <th>5</th>\n",
              "      <td>04/10/2024</td>\n",
              "      <td>69,500</td>\n",
              "      <td>69,500</td>\n",
              "      <td>69,500</td>\n",
              "      <td>69,500</td>\n",
              "      <td>2.30K</td>\n",
              "      <td>0.58%</td>\n",
              "    </tr>\n",
              "    <tr>\n",
              "      <th>6</th>\n",
              "      <td>04/09/2024</td>\n",
              "      <td>69,100</td>\n",
              "      <td>70,500</td>\n",
              "      <td>70,500</td>\n",
              "      <td>69,100</td>\n",
              "      <td>2.47K</td>\n",
              "      <td>-1.14%</td>\n",
              "    </tr>\n",
              "    <tr>\n",
              "      <th>7</th>\n",
              "      <td>04/08/2024</td>\n",
              "      <td>69,900</td>\n",
              "      <td>70,000</td>\n",
              "      <td>70,000</td>\n",
              "      <td>68,000</td>\n",
              "      <td>6.30K</td>\n",
              "      <td>-0.14%</td>\n",
              "    </tr>\n",
              "    <tr>\n",
              "      <th>8</th>\n",
              "      <td>04/05/2024</td>\n",
              "      <td>70,000</td>\n",
              "      <td>70,000</td>\n",
              "      <td>70,000</td>\n",
              "      <td>67,500</td>\n",
              "      <td>10.25K</td>\n",
              "      <td>0.00%</td>\n",
              "    </tr>\n",
              "    <tr>\n",
              "      <th>9</th>\n",
              "      <td>04/04/2024</td>\n",
              "      <td>70,000</td>\n",
              "      <td>70,400</td>\n",
              "      <td>70,700</td>\n",
              "      <td>70,000</td>\n",
              "      <td>2.80K</td>\n",
              "      <td>-0.57%</td>\n",
              "    </tr>\n",
              "  </tbody>\n",
              "</table>\n",
              "</div>\n",
              "    <div class=\"colab-df-buttons\">\n",
              "\n",
              "  <div class=\"colab-df-container\">\n",
              "    <button class=\"colab-df-convert\" onclick=\"convertToInteractive('df-1fc30914-3f7d-4a22-98f5-8ed87f0996d2')\"\n",
              "            title=\"Convert this dataframe to an interactive table.\"\n",
              "            style=\"display:none;\">\n",
              "\n",
              "  <svg xmlns=\"http://www.w3.org/2000/svg\" height=\"24px\" viewBox=\"0 -960 960 960\">\n",
              "    <path d=\"M120-120v-720h720v720H120Zm60-500h600v-160H180v160Zm220 220h160v-160H400v160Zm0 220h160v-160H400v160ZM180-400h160v-160H180v160Zm440 0h160v-160H620v160ZM180-180h160v-160H180v160Zm440 0h160v-160H620v160Z\"/>\n",
              "  </svg>\n",
              "    </button>\n",
              "\n",
              "  <style>\n",
              "    .colab-df-container {\n",
              "      display:flex;\n",
              "      gap: 12px;\n",
              "    }\n",
              "\n",
              "    .colab-df-convert {\n",
              "      background-color: #E8F0FE;\n",
              "      border: none;\n",
              "      border-radius: 50%;\n",
              "      cursor: pointer;\n",
              "      display: none;\n",
              "      fill: #1967D2;\n",
              "      height: 32px;\n",
              "      padding: 0 0 0 0;\n",
              "      width: 32px;\n",
              "    }\n",
              "\n",
              "    .colab-df-convert:hover {\n",
              "      background-color: #E2EBFA;\n",
              "      box-shadow: 0px 1px 2px rgba(60, 64, 67, 0.3), 0px 1px 3px 1px rgba(60, 64, 67, 0.15);\n",
              "      fill: #174EA6;\n",
              "    }\n",
              "\n",
              "    .colab-df-buttons div {\n",
              "      margin-bottom: 4px;\n",
              "    }\n",
              "\n",
              "    [theme=dark] .colab-df-convert {\n",
              "      background-color: #3B4455;\n",
              "      fill: #D2E3FC;\n",
              "    }\n",
              "\n",
              "    [theme=dark] .colab-df-convert:hover {\n",
              "      background-color: #434B5C;\n",
              "      box-shadow: 0px 1px 3px 1px rgba(0, 0, 0, 0.15);\n",
              "      filter: drop-shadow(0px 1px 2px rgba(0, 0, 0, 0.3));\n",
              "      fill: #FFFFFF;\n",
              "    }\n",
              "  </style>\n",
              "\n",
              "    <script>\n",
              "      const buttonEl =\n",
              "        document.querySelector('#df-1fc30914-3f7d-4a22-98f5-8ed87f0996d2 button.colab-df-convert');\n",
              "      buttonEl.style.display =\n",
              "        google.colab.kernel.accessAllowed ? 'block' : 'none';\n",
              "\n",
              "      async function convertToInteractive(key) {\n",
              "        const element = document.querySelector('#df-1fc30914-3f7d-4a22-98f5-8ed87f0996d2');\n",
              "        const dataTable =\n",
              "          await google.colab.kernel.invokeFunction('convertToInteractive',\n",
              "                                                    [key], {});\n",
              "        if (!dataTable) return;\n",
              "\n",
              "        const docLinkHtml = 'Like what you see? Visit the ' +\n",
              "          '<a target=\"_blank\" href=https://colab.research.google.com/notebooks/data_table.ipynb>data table notebook</a>'\n",
              "          + ' to learn more about interactive tables.';\n",
              "        element.innerHTML = '';\n",
              "        dataTable['output_type'] = 'display_data';\n",
              "        await google.colab.output.renderOutput(dataTable, element);\n",
              "        const docLink = document.createElement('div');\n",
              "        docLink.innerHTML = docLinkHtml;\n",
              "        element.appendChild(docLink);\n",
              "      }\n",
              "    </script>\n",
              "  </div>\n",
              "\n",
              "\n",
              "<div id=\"df-5f6a5861-7353-4e02-aea0-789cd8b1a01f\">\n",
              "  <button class=\"colab-df-quickchart\" onclick=\"quickchart('df-5f6a5861-7353-4e02-aea0-789cd8b1a01f')\"\n",
              "            title=\"Suggest charts\"\n",
              "            style=\"display:none;\">\n",
              "\n",
              "<svg xmlns=\"http://www.w3.org/2000/svg\" height=\"24px\"viewBox=\"0 0 24 24\"\n",
              "     width=\"24px\">\n",
              "    <g>\n",
              "        <path d=\"M19 3H5c-1.1 0-2 .9-2 2v14c0 1.1.9 2 2 2h14c1.1 0 2-.9 2-2V5c0-1.1-.9-2-2-2zM9 17H7v-7h2v7zm4 0h-2V7h2v10zm4 0h-2v-4h2v4z\"/>\n",
              "    </g>\n",
              "</svg>\n",
              "  </button>\n",
              "\n",
              "<style>\n",
              "  .colab-df-quickchart {\n",
              "      --bg-color: #E8F0FE;\n",
              "      --fill-color: #1967D2;\n",
              "      --hover-bg-color: #E2EBFA;\n",
              "      --hover-fill-color: #174EA6;\n",
              "      --disabled-fill-color: #AAA;\n",
              "      --disabled-bg-color: #DDD;\n",
              "  }\n",
              "\n",
              "  [theme=dark] .colab-df-quickchart {\n",
              "      --bg-color: #3B4455;\n",
              "      --fill-color: #D2E3FC;\n",
              "      --hover-bg-color: #434B5C;\n",
              "      --hover-fill-color: #FFFFFF;\n",
              "      --disabled-bg-color: #3B4455;\n",
              "      --disabled-fill-color: #666;\n",
              "  }\n",
              "\n",
              "  .colab-df-quickchart {\n",
              "    background-color: var(--bg-color);\n",
              "    border: none;\n",
              "    border-radius: 50%;\n",
              "    cursor: pointer;\n",
              "    display: none;\n",
              "    fill: var(--fill-color);\n",
              "    height: 32px;\n",
              "    padding: 0;\n",
              "    width: 32px;\n",
              "  }\n",
              "\n",
              "  .colab-df-quickchart:hover {\n",
              "    background-color: var(--hover-bg-color);\n",
              "    box-shadow: 0 1px 2px rgba(60, 64, 67, 0.3), 0 1px 3px 1px rgba(60, 64, 67, 0.15);\n",
              "    fill: var(--button-hover-fill-color);\n",
              "  }\n",
              "\n",
              "  .colab-df-quickchart-complete:disabled,\n",
              "  .colab-df-quickchart-complete:disabled:hover {\n",
              "    background-color: var(--disabled-bg-color);\n",
              "    fill: var(--disabled-fill-color);\n",
              "    box-shadow: none;\n",
              "  }\n",
              "\n",
              "  .colab-df-spinner {\n",
              "    border: 2px solid var(--fill-color);\n",
              "    border-color: transparent;\n",
              "    border-bottom-color: var(--fill-color);\n",
              "    animation:\n",
              "      spin 1s steps(1) infinite;\n",
              "  }\n",
              "\n",
              "  @keyframes spin {\n",
              "    0% {\n",
              "      border-color: transparent;\n",
              "      border-bottom-color: var(--fill-color);\n",
              "      border-left-color: var(--fill-color);\n",
              "    }\n",
              "    20% {\n",
              "      border-color: transparent;\n",
              "      border-left-color: var(--fill-color);\n",
              "      border-top-color: var(--fill-color);\n",
              "    }\n",
              "    30% {\n",
              "      border-color: transparent;\n",
              "      border-left-color: var(--fill-color);\n",
              "      border-top-color: var(--fill-color);\n",
              "      border-right-color: var(--fill-color);\n",
              "    }\n",
              "    40% {\n",
              "      border-color: transparent;\n",
              "      border-right-color: var(--fill-color);\n",
              "      border-top-color: var(--fill-color);\n",
              "    }\n",
              "    60% {\n",
              "      border-color: transparent;\n",
              "      border-right-color: var(--fill-color);\n",
              "    }\n",
              "    80% {\n",
              "      border-color: transparent;\n",
              "      border-right-color: var(--fill-color);\n",
              "      border-bottom-color: var(--fill-color);\n",
              "    }\n",
              "    90% {\n",
              "      border-color: transparent;\n",
              "      border-bottom-color: var(--fill-color);\n",
              "    }\n",
              "  }\n",
              "</style>\n",
              "\n",
              "  <script>\n",
              "    async function quickchart(key) {\n",
              "      const quickchartButtonEl =\n",
              "        document.querySelector('#' + key + ' button');\n",
              "      quickchartButtonEl.disabled = true;  // To prevent multiple clicks.\n",
              "      quickchartButtonEl.classList.add('colab-df-spinner');\n",
              "      try {\n",
              "        const charts = await google.colab.kernel.invokeFunction(\n",
              "            'suggestCharts', [key], {});\n",
              "      } catch (error) {\n",
              "        console.error('Error during call to suggestCharts:', error);\n",
              "      }\n",
              "      quickchartButtonEl.classList.remove('colab-df-spinner');\n",
              "      quickchartButtonEl.classList.add('colab-df-quickchart-complete');\n",
              "    }\n",
              "    (() => {\n",
              "      let quickchartButtonEl =\n",
              "        document.querySelector('#df-5f6a5861-7353-4e02-aea0-789cd8b1a01f button');\n",
              "      quickchartButtonEl.style.display =\n",
              "        google.colab.kernel.accessAllowed ? 'block' : 'none';\n",
              "    })();\n",
              "  </script>\n",
              "</div>\n",
              "    </div>\n",
              "  </div>\n"
            ],
            "application/vnd.google.colaboratory.intrinsic+json": {
              "type": "dataframe",
              "variable_name": "df",
              "summary": "{\n  \"name\": \"df\",\n  \"rows\": 1146,\n  \"fields\": [\n    {\n      \"column\": \"Date\",\n      \"properties\": {\n        \"dtype\": \"object\",\n        \"num_unique_values\": 1146,\n        \"samples\": [\n          \"06/02/2023\",\n          \"07/07/2020\",\n          \"11/16/2021\"\n        ],\n        \"semantic_type\": \"\",\n        \"description\": \"\"\n      }\n    },\n    {\n      \"column\": \"Price\",\n      \"properties\": {\n        \"dtype\": \"category\",\n        \"num_unique_values\": 377,\n        \"samples\": [\n          \"84,500\",\n          \"137,400\",\n          \"139,400\"\n        ],\n        \"semantic_type\": \"\",\n        \"description\": \"\"\n      }\n    },\n    {\n      \"column\": \"Open\",\n      \"properties\": {\n        \"dtype\": \"category\",\n        \"num_unique_values\": 372,\n        \"samples\": [\n          \"65,900\",\n          \"71,300\",\n          \"74,300\"\n        ],\n        \"semantic_type\": \"\",\n        \"description\": \"\"\n      }\n    },\n    {\n      \"column\": \"High\",\n      \"properties\": {\n        \"dtype\": \"category\",\n        \"num_unique_values\": 381,\n        \"samples\": [\n          \"130,000\",\n          \"98,600\",\n          \"65,000\"\n        ],\n        \"semantic_type\": \"\",\n        \"description\": \"\"\n      }\n    },\n    {\n      \"column\": \"Low\",\n      \"properties\": {\n        \"dtype\": \"category\",\n        \"num_unique_values\": 360,\n        \"samples\": [\n          \"117,400\",\n          \"65,000\",\n          \"81,600\"\n        ],\n        \"semantic_type\": \"\",\n        \"description\": \"\"\n      }\n    },\n    {\n      \"column\": \"Vol.\",\n      \"properties\": {\n        \"dtype\": \"category\",\n        \"num_unique_values\": 528,\n        \"samples\": [\n          \"5.30K\",\n          \"13.26K\",\n          \"2.47K\"\n        ],\n        \"semantic_type\": \"\",\n        \"description\": \"\"\n      }\n    },\n    {\n      \"column\": \"Change %\",\n      \"properties\": {\n        \"dtype\": \"category\",\n        \"num_unique_values\": 532,\n        \"samples\": [\n          \"-0.14%\",\n          \"-1.26%\",\n          \"5.87%\"\n        ],\n        \"semantic_type\": \"\",\n        \"description\": \"\"\n      }\n    }\n  ]\n}"
            }
          },
          "metadata": {},
          "execution_count": 70
        }
      ],
      "source": [
        "df = pd.read_csv('DP3 Historical Data.csv')\n",
        "df.head(10)"
      ]
    },
    {
      "cell_type": "markdown",
      "metadata": {
        "id": "v2aUx9TuE0Eg"
      },
      "source": [
        "## Data preprocessing"
      ]
    },
    {
      "cell_type": "code",
      "execution_count": 71,
      "metadata": {
        "id": "cHFj4cMHE0Eh"
      },
      "outputs": [],
      "source": [
        "# Convert the 'Date' column to datetime format\n",
        "df['Date'] = pd.to_datetime(df['Date'])\n",
        "\n",
        "# Sort the data by date in ascending order\n",
        "df = df.sort_values('Date')\n",
        "\n",
        "# Set the 'Date' column as the index value\n",
        "df.set_index('Date', inplace=True)\n",
        "df = df.replace(',', '', regex=True)"
      ]
    },
    {
      "cell_type": "code",
      "execution_count": 72,
      "metadata": {
        "id": "Fo-JXTWSE0Eh",
        "outputId": "1b715554-cb57-4153-d919-44f828f12c7c",
        "colab": {
          "base_uri": "https://localhost:8080/",
          "height": 455
        }
      },
      "outputs": [
        {
          "output_type": "execute_result",
          "data": {
            "text/plain": [
              "            Price   Open   High    Low    Vol. Change %\n",
              "Date                                                   \n",
              "2019-01-02  85500  85000  92000  85000  12.70K    0.59%\n",
              "2019-01-03  86500  85100  87900  85100   6.40K    1.17%\n",
              "2019-01-04  87900  86700  88000  86600   4.87K    1.62%\n",
              "2019-01-07  87900  86700  87900  86700   5.10K    0.00%\n",
              "2019-01-08  91800  88000  92000  88000  19.40K    4.44%\n",
              "...           ...    ...    ...    ...     ...      ...\n",
              "2024-04-11  68900  69500  69500  68200   5.36K   -0.86%\n",
              "2024-04-12  69300  68900  69300  68900   3.01K    0.58%\n",
              "2024-04-15  68500  69300  69300  68000  14.22K   -1.15%\n",
              "2024-04-16  68000  68600  68600  66900  10.76K   -0.73%\n",
              "2024-04-17  68000  68000  68300  68000   8.91K    0.00%\n",
              "\n",
              "[1146 rows x 6 columns]"
            ],
            "text/html": [
              "\n",
              "  <div id=\"df-00a66f88-d002-419a-b899-f65fedc01561\" class=\"colab-df-container\">\n",
              "    <div>\n",
              "<style scoped>\n",
              "    .dataframe tbody tr th:only-of-type {\n",
              "        vertical-align: middle;\n",
              "    }\n",
              "\n",
              "    .dataframe tbody tr th {\n",
              "        vertical-align: top;\n",
              "    }\n",
              "\n",
              "    .dataframe thead th {\n",
              "        text-align: right;\n",
              "    }\n",
              "</style>\n",
              "<table border=\"1\" class=\"dataframe\">\n",
              "  <thead>\n",
              "    <tr style=\"text-align: right;\">\n",
              "      <th></th>\n",
              "      <th>Price</th>\n",
              "      <th>Open</th>\n",
              "      <th>High</th>\n",
              "      <th>Low</th>\n",
              "      <th>Vol.</th>\n",
              "      <th>Change %</th>\n",
              "    </tr>\n",
              "    <tr>\n",
              "      <th>Date</th>\n",
              "      <th></th>\n",
              "      <th></th>\n",
              "      <th></th>\n",
              "      <th></th>\n",
              "      <th></th>\n",
              "      <th></th>\n",
              "    </tr>\n",
              "  </thead>\n",
              "  <tbody>\n",
              "    <tr>\n",
              "      <th>2019-01-02</th>\n",
              "      <td>85500</td>\n",
              "      <td>85000</td>\n",
              "      <td>92000</td>\n",
              "      <td>85000</td>\n",
              "      <td>12.70K</td>\n",
              "      <td>0.59%</td>\n",
              "    </tr>\n",
              "    <tr>\n",
              "      <th>2019-01-03</th>\n",
              "      <td>86500</td>\n",
              "      <td>85100</td>\n",
              "      <td>87900</td>\n",
              "      <td>85100</td>\n",
              "      <td>6.40K</td>\n",
              "      <td>1.17%</td>\n",
              "    </tr>\n",
              "    <tr>\n",
              "      <th>2019-01-04</th>\n",
              "      <td>87900</td>\n",
              "      <td>86700</td>\n",
              "      <td>88000</td>\n",
              "      <td>86600</td>\n",
              "      <td>4.87K</td>\n",
              "      <td>1.62%</td>\n",
              "    </tr>\n",
              "    <tr>\n",
              "      <th>2019-01-07</th>\n",
              "      <td>87900</td>\n",
              "      <td>86700</td>\n",
              "      <td>87900</td>\n",
              "      <td>86700</td>\n",
              "      <td>5.10K</td>\n",
              "      <td>0.00%</td>\n",
              "    </tr>\n",
              "    <tr>\n",
              "      <th>2019-01-08</th>\n",
              "      <td>91800</td>\n",
              "      <td>88000</td>\n",
              "      <td>92000</td>\n",
              "      <td>88000</td>\n",
              "      <td>19.40K</td>\n",
              "      <td>4.44%</td>\n",
              "    </tr>\n",
              "    <tr>\n",
              "      <th>...</th>\n",
              "      <td>...</td>\n",
              "      <td>...</td>\n",
              "      <td>...</td>\n",
              "      <td>...</td>\n",
              "      <td>...</td>\n",
              "      <td>...</td>\n",
              "    </tr>\n",
              "    <tr>\n",
              "      <th>2024-04-11</th>\n",
              "      <td>68900</td>\n",
              "      <td>69500</td>\n",
              "      <td>69500</td>\n",
              "      <td>68200</td>\n",
              "      <td>5.36K</td>\n",
              "      <td>-0.86%</td>\n",
              "    </tr>\n",
              "    <tr>\n",
              "      <th>2024-04-12</th>\n",
              "      <td>69300</td>\n",
              "      <td>68900</td>\n",
              "      <td>69300</td>\n",
              "      <td>68900</td>\n",
              "      <td>3.01K</td>\n",
              "      <td>0.58%</td>\n",
              "    </tr>\n",
              "    <tr>\n",
              "      <th>2024-04-15</th>\n",
              "      <td>68500</td>\n",
              "      <td>69300</td>\n",
              "      <td>69300</td>\n",
              "      <td>68000</td>\n",
              "      <td>14.22K</td>\n",
              "      <td>-1.15%</td>\n",
              "    </tr>\n",
              "    <tr>\n",
              "      <th>2024-04-16</th>\n",
              "      <td>68000</td>\n",
              "      <td>68600</td>\n",
              "      <td>68600</td>\n",
              "      <td>66900</td>\n",
              "      <td>10.76K</td>\n",
              "      <td>-0.73%</td>\n",
              "    </tr>\n",
              "    <tr>\n",
              "      <th>2024-04-17</th>\n",
              "      <td>68000</td>\n",
              "      <td>68000</td>\n",
              "      <td>68300</td>\n",
              "      <td>68000</td>\n",
              "      <td>8.91K</td>\n",
              "      <td>0.00%</td>\n",
              "    </tr>\n",
              "  </tbody>\n",
              "</table>\n",
              "<p>1146 rows × 6 columns</p>\n",
              "</div>\n",
              "    <div class=\"colab-df-buttons\">\n",
              "\n",
              "  <div class=\"colab-df-container\">\n",
              "    <button class=\"colab-df-convert\" onclick=\"convertToInteractive('df-00a66f88-d002-419a-b899-f65fedc01561')\"\n",
              "            title=\"Convert this dataframe to an interactive table.\"\n",
              "            style=\"display:none;\">\n",
              "\n",
              "  <svg xmlns=\"http://www.w3.org/2000/svg\" height=\"24px\" viewBox=\"0 -960 960 960\">\n",
              "    <path d=\"M120-120v-720h720v720H120Zm60-500h600v-160H180v160Zm220 220h160v-160H400v160Zm0 220h160v-160H400v160ZM180-400h160v-160H180v160Zm440 0h160v-160H620v160ZM180-180h160v-160H180v160Zm440 0h160v-160H620v160Z\"/>\n",
              "  </svg>\n",
              "    </button>\n",
              "\n",
              "  <style>\n",
              "    .colab-df-container {\n",
              "      display:flex;\n",
              "      gap: 12px;\n",
              "    }\n",
              "\n",
              "    .colab-df-convert {\n",
              "      background-color: #E8F0FE;\n",
              "      border: none;\n",
              "      border-radius: 50%;\n",
              "      cursor: pointer;\n",
              "      display: none;\n",
              "      fill: #1967D2;\n",
              "      height: 32px;\n",
              "      padding: 0 0 0 0;\n",
              "      width: 32px;\n",
              "    }\n",
              "\n",
              "    .colab-df-convert:hover {\n",
              "      background-color: #E2EBFA;\n",
              "      box-shadow: 0px 1px 2px rgba(60, 64, 67, 0.3), 0px 1px 3px 1px rgba(60, 64, 67, 0.15);\n",
              "      fill: #174EA6;\n",
              "    }\n",
              "\n",
              "    .colab-df-buttons div {\n",
              "      margin-bottom: 4px;\n",
              "    }\n",
              "\n",
              "    [theme=dark] .colab-df-convert {\n",
              "      background-color: #3B4455;\n",
              "      fill: #D2E3FC;\n",
              "    }\n",
              "\n",
              "    [theme=dark] .colab-df-convert:hover {\n",
              "      background-color: #434B5C;\n",
              "      box-shadow: 0px 1px 3px 1px rgba(0, 0, 0, 0.15);\n",
              "      filter: drop-shadow(0px 1px 2px rgba(0, 0, 0, 0.3));\n",
              "      fill: #FFFFFF;\n",
              "    }\n",
              "  </style>\n",
              "\n",
              "    <script>\n",
              "      const buttonEl =\n",
              "        document.querySelector('#df-00a66f88-d002-419a-b899-f65fedc01561 button.colab-df-convert');\n",
              "      buttonEl.style.display =\n",
              "        google.colab.kernel.accessAllowed ? 'block' : 'none';\n",
              "\n",
              "      async function convertToInteractive(key) {\n",
              "        const element = document.querySelector('#df-00a66f88-d002-419a-b899-f65fedc01561');\n",
              "        const dataTable =\n",
              "          await google.colab.kernel.invokeFunction('convertToInteractive',\n",
              "                                                    [key], {});\n",
              "        if (!dataTable) return;\n",
              "\n",
              "        const docLinkHtml = 'Like what you see? Visit the ' +\n",
              "          '<a target=\"_blank\" href=https://colab.research.google.com/notebooks/data_table.ipynb>data table notebook</a>'\n",
              "          + ' to learn more about interactive tables.';\n",
              "        element.innerHTML = '';\n",
              "        dataTable['output_type'] = 'display_data';\n",
              "        await google.colab.output.renderOutput(dataTable, element);\n",
              "        const docLink = document.createElement('div');\n",
              "        docLink.innerHTML = docLinkHtml;\n",
              "        element.appendChild(docLink);\n",
              "      }\n",
              "    </script>\n",
              "  </div>\n",
              "\n",
              "\n",
              "<div id=\"df-fd0eb5f3-c362-469a-bd40-6bfa3676d012\">\n",
              "  <button class=\"colab-df-quickchart\" onclick=\"quickchart('df-fd0eb5f3-c362-469a-bd40-6bfa3676d012')\"\n",
              "            title=\"Suggest charts\"\n",
              "            style=\"display:none;\">\n",
              "\n",
              "<svg xmlns=\"http://www.w3.org/2000/svg\" height=\"24px\"viewBox=\"0 0 24 24\"\n",
              "     width=\"24px\">\n",
              "    <g>\n",
              "        <path d=\"M19 3H5c-1.1 0-2 .9-2 2v14c0 1.1.9 2 2 2h14c1.1 0 2-.9 2-2V5c0-1.1-.9-2-2-2zM9 17H7v-7h2v7zm4 0h-2V7h2v10zm4 0h-2v-4h2v4z\"/>\n",
              "    </g>\n",
              "</svg>\n",
              "  </button>\n",
              "\n",
              "<style>\n",
              "  .colab-df-quickchart {\n",
              "      --bg-color: #E8F0FE;\n",
              "      --fill-color: #1967D2;\n",
              "      --hover-bg-color: #E2EBFA;\n",
              "      --hover-fill-color: #174EA6;\n",
              "      --disabled-fill-color: #AAA;\n",
              "      --disabled-bg-color: #DDD;\n",
              "  }\n",
              "\n",
              "  [theme=dark] .colab-df-quickchart {\n",
              "      --bg-color: #3B4455;\n",
              "      --fill-color: #D2E3FC;\n",
              "      --hover-bg-color: #434B5C;\n",
              "      --hover-fill-color: #FFFFFF;\n",
              "      --disabled-bg-color: #3B4455;\n",
              "      --disabled-fill-color: #666;\n",
              "  }\n",
              "\n",
              "  .colab-df-quickchart {\n",
              "    background-color: var(--bg-color);\n",
              "    border: none;\n",
              "    border-radius: 50%;\n",
              "    cursor: pointer;\n",
              "    display: none;\n",
              "    fill: var(--fill-color);\n",
              "    height: 32px;\n",
              "    padding: 0;\n",
              "    width: 32px;\n",
              "  }\n",
              "\n",
              "  .colab-df-quickchart:hover {\n",
              "    background-color: var(--hover-bg-color);\n",
              "    box-shadow: 0 1px 2px rgba(60, 64, 67, 0.3), 0 1px 3px 1px rgba(60, 64, 67, 0.15);\n",
              "    fill: var(--button-hover-fill-color);\n",
              "  }\n",
              "\n",
              "  .colab-df-quickchart-complete:disabled,\n",
              "  .colab-df-quickchart-complete:disabled:hover {\n",
              "    background-color: var(--disabled-bg-color);\n",
              "    fill: var(--disabled-fill-color);\n",
              "    box-shadow: none;\n",
              "  }\n",
              "\n",
              "  .colab-df-spinner {\n",
              "    border: 2px solid var(--fill-color);\n",
              "    border-color: transparent;\n",
              "    border-bottom-color: var(--fill-color);\n",
              "    animation:\n",
              "      spin 1s steps(1) infinite;\n",
              "  }\n",
              "\n",
              "  @keyframes spin {\n",
              "    0% {\n",
              "      border-color: transparent;\n",
              "      border-bottom-color: var(--fill-color);\n",
              "      border-left-color: var(--fill-color);\n",
              "    }\n",
              "    20% {\n",
              "      border-color: transparent;\n",
              "      border-left-color: var(--fill-color);\n",
              "      border-top-color: var(--fill-color);\n",
              "    }\n",
              "    30% {\n",
              "      border-color: transparent;\n",
              "      border-left-color: var(--fill-color);\n",
              "      border-top-color: var(--fill-color);\n",
              "      border-right-color: var(--fill-color);\n",
              "    }\n",
              "    40% {\n",
              "      border-color: transparent;\n",
              "      border-right-color: var(--fill-color);\n",
              "      border-top-color: var(--fill-color);\n",
              "    }\n",
              "    60% {\n",
              "      border-color: transparent;\n",
              "      border-right-color: var(--fill-color);\n",
              "    }\n",
              "    80% {\n",
              "      border-color: transparent;\n",
              "      border-right-color: var(--fill-color);\n",
              "      border-bottom-color: var(--fill-color);\n",
              "    }\n",
              "    90% {\n",
              "      border-color: transparent;\n",
              "      border-bottom-color: var(--fill-color);\n",
              "    }\n",
              "  }\n",
              "</style>\n",
              "\n",
              "  <script>\n",
              "    async function quickchart(key) {\n",
              "      const quickchartButtonEl =\n",
              "        document.querySelector('#' + key + ' button');\n",
              "      quickchartButtonEl.disabled = true;  // To prevent multiple clicks.\n",
              "      quickchartButtonEl.classList.add('colab-df-spinner');\n",
              "      try {\n",
              "        const charts = await google.colab.kernel.invokeFunction(\n",
              "            'suggestCharts', [key], {});\n",
              "      } catch (error) {\n",
              "        console.error('Error during call to suggestCharts:', error);\n",
              "      }\n",
              "      quickchartButtonEl.classList.remove('colab-df-spinner');\n",
              "      quickchartButtonEl.classList.add('colab-df-quickchart-complete');\n",
              "    }\n",
              "    (() => {\n",
              "      let quickchartButtonEl =\n",
              "        document.querySelector('#df-fd0eb5f3-c362-469a-bd40-6bfa3676d012 button');\n",
              "      quickchartButtonEl.style.display =\n",
              "        google.colab.kernel.accessAllowed ? 'block' : 'none';\n",
              "    })();\n",
              "  </script>\n",
              "</div>\n",
              "    </div>\n",
              "  </div>\n"
            ],
            "application/vnd.google.colaboratory.intrinsic+json": {
              "type": "dataframe",
              "variable_name": "df",
              "summary": "{\n  \"name\": \"df\",\n  \"rows\": 1146,\n  \"fields\": [\n    {\n      \"column\": \"Date\",\n      \"properties\": {\n        \"dtype\": \"date\",\n        \"min\": \"2019-01-02 00:00:00\",\n        \"max\": \"2024-04-17 00:00:00\",\n        \"num_unique_values\": 1146,\n        \"samples\": [\n          \"2019-12-02 00:00:00\",\n          \"2022-09-19 00:00:00\",\n          \"2021-03-26 00:00:00\"\n        ],\n        \"semantic_type\": \"\",\n        \"description\": \"\"\n      }\n    },\n    {\n      \"column\": \"Price\",\n      \"properties\": {\n        \"dtype\": \"category\",\n        \"num_unique_values\": 377,\n        \"samples\": [\n          \"89700\",\n          \"110300\",\n          \"110100\"\n        ],\n        \"semantic_type\": \"\",\n        \"description\": \"\"\n      }\n    },\n    {\n      \"column\": \"Open\",\n      \"properties\": {\n        \"dtype\": \"category\",\n        \"num_unique_values\": 372,\n        \"samples\": [\n          \"80800\",\n          \"74100\",\n          \"66450\"\n        ],\n        \"semantic_type\": \"\",\n        \"description\": \"\"\n      }\n    },\n    {\n      \"column\": \"High\",\n      \"properties\": {\n        \"dtype\": \"category\",\n        \"num_unique_values\": 381,\n        \"samples\": [\n          \"99800\",\n          \"129100\",\n          \"71727\"\n        ],\n        \"semantic_type\": \"\",\n        \"description\": \"\"\n      }\n    },\n    {\n      \"column\": \"Low\",\n      \"properties\": {\n        \"dtype\": \"category\",\n        \"num_unique_values\": 360,\n        \"samples\": [\n          \"110700\",\n          \"75500\",\n          \"95500\"\n        ],\n        \"semantic_type\": \"\",\n        \"description\": \"\"\n      }\n    },\n    {\n      \"column\": \"Vol.\",\n      \"properties\": {\n        \"dtype\": \"category\",\n        \"num_unique_values\": 528,\n        \"samples\": [\n          \"3.31K\",\n          \"30.77K\",\n          \"8.90K\"\n        ],\n        \"semantic_type\": \"\",\n        \"description\": \"\"\n      }\n    },\n    {\n      \"column\": \"Change %\",\n      \"properties\": {\n        \"dtype\": \"category\",\n        \"num_unique_values\": 532,\n        \"samples\": [\n          \"-3.19%\",\n          \"-1.35%\",\n          \"-0.32%\"\n        ],\n        \"semantic_type\": \"\",\n        \"description\": \"\"\n      }\n    }\n  ]\n}"
            }
          },
          "metadata": {},
          "execution_count": 72
        }
      ],
      "source": [
        "# Show Dataframe\n",
        "df"
      ]
    },
    {
      "cell_type": "markdown",
      "metadata": {
        "id": "DNOBCzo1E0Eh"
      },
      "source": [
        "## Scale Data"
      ]
    },
    {
      "cell_type": "code",
      "execution_count": 73,
      "metadata": {
        "id": "3KRhs1QjE0Eh"
      },
      "outputs": [],
      "source": [
        "# Select 'Close' column\n",
        "data = df['Price'].values"
      ]
    },
    {
      "cell_type": "code",
      "execution_count": 74,
      "metadata": {
        "id": "92q3xBOmE0Eh"
      },
      "outputs": [],
      "source": [
        "# Scale data\n",
        "scaler = MinMaxScaler(feature_range=(0,1))\n",
        "data_scaled = scaler.fit_transform(data.reshape(-1, 1))"
      ]
    },
    {
      "cell_type": "markdown",
      "metadata": {
        "id": "FrdB7fg3E0Eh"
      },
      "source": [
        "## Split the data into train, validation and test set with a ratio of 7 : 1 : 2"
      ]
    },
    {
      "cell_type": "code",
      "execution_count": 75,
      "metadata": {
        "id": "nAzJQY_gE0Eh"
      },
      "outputs": [],
      "source": [
        "# Define the size of train, validation, test set\n",
        "train_size = int(len(data_scaled) * 0.7)\n",
        "val_size = int(len(data_scaled) * 0.1)\n",
        "test_size = len(data_scaled) - train_size - val_size\n",
        "\n",
        "# Split the data into train, test, and validation sets\n",
        "train_data = data_scaled[:train_size]\n",
        "val_data = data_scaled[train_size:train_size + val_size]\n",
        "test_data = data_scaled[train_size + val_size:]"
      ]
    },
    {
      "cell_type": "markdown",
      "metadata": {
        "id": "E2XoeTTHE0Ei"
      },
      "source": [
        "## Create and add data into X, y"
      ]
    },
    {
      "cell_type": "code",
      "execution_count": 76,
      "metadata": {
        "id": "C64pX_FWE0Ei"
      },
      "outputs": [],
      "source": [
        "# Function to prepare data for LSTM\n",
        "def add_data(data, sequence_length=60):\n",
        "    X, Y = [], []\n",
        "    for i in range(len(data) - sequence_length):\n",
        "        X.append(data[i:(i + sequence_length), 0])\n",
        "        Y.append(data[i + sequence_length, 0])\n",
        "    return np.array(X), np.array(Y)"
      ]
    },
    {
      "cell_type": "code",
      "execution_count": 77,
      "metadata": {
        "id": "Dut6z-llE0Ei"
      },
      "outputs": [],
      "source": [
        "# Prepare sequences\n",
        "sequence_length = 60\n",
        "train_last_windowsize = train_data[-sequence_length:]\n",
        "val_last_windowsize = val_data[-sequence_length:]\n",
        "\n",
        "val_data_extended = np.concatenate((train_last_windowsize, val_data), axis=0)\n",
        "test_data_extended = np.concatenate((val_last_windowsize, test_data), axis=0)\n",
        "\n",
        "X_train, y_train = add_data(train_data, sequence_length)\n",
        "X_val, y_val = add_data(val_data_extended, sequence_length)\n",
        "X_test, y_test = add_data(test_data_extended, sequence_length)"
      ]
    },
    {
      "cell_type": "code",
      "source": [
        "# Reshape data for LSTM\n",
        "X_train = X_train.reshape((X_train.shape[0], X_train.shape[1], 1))\n",
        "X_val = X_val.reshape((X_val.shape[0], X_val.shape[1], 1))\n",
        "X_test = X_test.reshape((X_test.shape[0], X_test.shape[1], 1))"
      ],
      "metadata": {
        "id": "4N0Xh_TYg01j"
      },
      "execution_count": 78,
      "outputs": []
    },
    {
      "cell_type": "markdown",
      "metadata": {
        "id": "pslsXo7ME0Ei"
      },
      "source": [
        "## Build Model"
      ]
    },
    {
      "cell_type": "code",
      "execution_count": 79,
      "metadata": {
        "id": "QGg-3iw6E0Ei"
      },
      "outputs": [],
      "source": [
        "# Build the LSTM model\n",
        "model = Sequential()\n",
        "model.add(LSTM(units=50, return_sequences=True, input_shape=(X_train.shape[1], 1)))\n",
        "model.add(Dropout(0.2))\n",
        "model.add(LSTM(units=50, return_sequences=True))\n",
        "model.add(Dropout(0.2))\n",
        "model.add(LSTM(units=50, return_sequences=True))\n",
        "model.add(Dropout(0.2))\n",
        "model.add(LSTM(units=50))\n",
        "model.add(Dropout(0.2))\n",
        "model.add(Dense(units=1))\n",
        "\n",
        "# Compile the model\n",
        "model.compile(optimizer='adam', loss='mean_squared_error')"
      ]
    },
    {
      "cell_type": "markdown",
      "metadata": {
        "id": "roOUtRP9E0Ei"
      },
      "source": [
        "## Training Model"
      ]
    },
    {
      "cell_type": "code",
      "execution_count": 80,
      "metadata": {
        "id": "0NbTdNGCE0Ei",
        "outputId": "34fc8982-a5b5-4295-bcef-960e1324ee04",
        "colab": {
          "base_uri": "https://localhost:8080/"
        }
      },
      "outputs": [
        {
          "output_type": "stream",
          "name": "stdout",
          "text": [
            "Epoch 1/50\n",
            "24/24 - 13s - loss: 0.0380 - val_loss: 0.0026 - 13s/epoch - 557ms/step\n",
            "Epoch 2/50\n",
            "24/24 - 4s - loss: 0.0074 - val_loss: 0.0017 - 4s/epoch - 174ms/step\n",
            "Epoch 3/50\n",
            "24/24 - 3s - loss: 0.0061 - val_loss: 0.0021 - 3s/epoch - 115ms/step\n",
            "Epoch 4/50\n",
            "24/24 - 3s - loss: 0.0058 - val_loss: 0.0014 - 3s/epoch - 109ms/step\n",
            "Epoch 5/50\n",
            "24/24 - 3s - loss: 0.0061 - val_loss: 0.0018 - 3s/epoch - 111ms/step\n",
            "Epoch 6/50\n",
            "24/24 - 3s - loss: 0.0051 - val_loss: 0.0017 - 3s/epoch - 128ms/step\n",
            "Epoch 7/50\n",
            "24/24 - 4s - loss: 0.0049 - val_loss: 0.0013 - 4s/epoch - 158ms/step\n",
            "Epoch 8/50\n",
            "24/24 - 3s - loss: 0.0040 - val_loss: 0.0012 - 3s/epoch - 111ms/step\n",
            "Epoch 9/50\n",
            "24/24 - 3s - loss: 0.0041 - val_loss: 0.0015 - 3s/epoch - 109ms/step\n",
            "Epoch 10/50\n",
            "24/24 - 3s - loss: 0.0040 - val_loss: 0.0012 - 3s/epoch - 113ms/step\n",
            "Epoch 11/50\n",
            "24/24 - 4s - loss: 0.0036 - val_loss: 0.0011 - 4s/epoch - 165ms/step\n",
            "Epoch 12/50\n",
            "24/24 - 3s - loss: 0.0039 - val_loss: 0.0024 - 3s/epoch - 120ms/step\n",
            "Epoch 13/50\n",
            "24/24 - 3s - loss: 0.0039 - val_loss: 0.0011 - 3s/epoch - 113ms/step\n",
            "Epoch 14/50\n",
            "24/24 - 3s - loss: 0.0038 - val_loss: 0.0028 - 3s/epoch - 112ms/step\n",
            "Epoch 15/50\n",
            "24/24 - 3s - loss: 0.0042 - val_loss: 0.0012 - 3s/epoch - 133ms/step\n",
            "Epoch 16/50\n",
            "24/24 - 4s - loss: 0.0035 - val_loss: 0.0018 - 4s/epoch - 159ms/step\n",
            "Epoch 17/50\n",
            "24/24 - 3s - loss: 0.0045 - val_loss: 0.0019 - 3s/epoch - 111ms/step\n",
            "Epoch 18/50\n",
            "24/24 - 3s - loss: 0.0033 - val_loss: 0.0015 - 3s/epoch - 111ms/step\n",
            "Epoch 19/50\n",
            "24/24 - 3s - loss: 0.0032 - val_loss: 0.0013 - 3s/epoch - 110ms/step\n",
            "Epoch 20/50\n",
            "24/24 - 4s - loss: 0.0028 - val_loss: 0.0011 - 4s/epoch - 169ms/step\n",
            "Epoch 21/50\n",
            "24/24 - 3s - loss: 0.0028 - val_loss: 0.0012 - 3s/epoch - 118ms/step\n",
            "Epoch 22/50\n",
            "24/24 - 3s - loss: 0.0029 - val_loss: 0.0011 - 3s/epoch - 113ms/step\n",
            "Epoch 23/50\n",
            "24/24 - 3s - loss: 0.0029 - val_loss: 0.0013 - 3s/epoch - 113ms/step\n",
            "Epoch 24/50\n",
            "24/24 - 3s - loss: 0.0028 - val_loss: 0.0011 - 3s/epoch - 133ms/step\n",
            "Epoch 25/50\n",
            "24/24 - 4s - loss: 0.0029 - val_loss: 0.0011 - 4s/epoch - 158ms/step\n",
            "Epoch 26/50\n",
            "24/24 - 3s - loss: 0.0034 - val_loss: 0.0016 - 3s/epoch - 110ms/step\n",
            "Epoch 27/50\n",
            "24/24 - 3s - loss: 0.0026 - val_loss: 0.0011 - 3s/epoch - 112ms/step\n",
            "Epoch 28/50\n",
            "24/24 - 4s - loss: 0.0024 - val_loss: 0.0011 - 4s/epoch - 151ms/step\n",
            "Epoch 29/50\n",
            "24/24 - 5s - loss: 0.0023 - val_loss: 0.0011 - 5s/epoch - 204ms/step\n",
            "Epoch 30/50\n",
            "24/24 - 3s - loss: 0.0030 - val_loss: 0.0020 - 3s/epoch - 110ms/step\n",
            "Epoch 31/50\n",
            "24/24 - 3s - loss: 0.0024 - val_loss: 0.0013 - 3s/epoch - 113ms/step\n",
            "Epoch 32/50\n",
            "24/24 - 3s - loss: 0.0025 - val_loss: 0.0011 - 3s/epoch - 112ms/step\n",
            "Epoch 33/50\n",
            "24/24 - 3s - loss: 0.0024 - val_loss: 0.0011 - 3s/epoch - 140ms/step\n",
            "Epoch 34/50\n",
            "24/24 - 4s - loss: 0.0023 - val_loss: 0.0011 - 4s/epoch - 153ms/step\n",
            "Epoch 35/50\n",
            "24/24 - 3s - loss: 0.0026 - val_loss: 0.0012 - 3s/epoch - 111ms/step\n",
            "Epoch 36/50\n",
            "24/24 - 3s - loss: 0.0024 - val_loss: 0.0013 - 3s/epoch - 111ms/step\n",
            "Epoch 37/50\n",
            "24/24 - 3s - loss: 0.0023 - val_loss: 0.0011 - 3s/epoch - 111ms/step\n",
            "Epoch 38/50\n",
            "24/24 - 4s - loss: 0.0024 - val_loss: 0.0011 - 4s/epoch - 174ms/step\n",
            "Epoch 39/50\n",
            "24/24 - 3s - loss: 0.0023 - val_loss: 0.0011 - 3s/epoch - 115ms/step\n",
            "Epoch 40/50\n",
            "24/24 - 3s - loss: 0.0027 - val_loss: 0.0016 - 3s/epoch - 111ms/step\n",
            "Epoch 41/50\n",
            "24/24 - 3s - loss: 0.0023 - val_loss: 0.0011 - 3s/epoch - 111ms/step\n",
            "Epoch 42/50\n",
            "24/24 - 3s - loss: 0.0021 - val_loss: 0.0011 - 3s/epoch - 129ms/step\n",
            "Epoch 43/50\n",
            "24/24 - 4s - loss: 0.0022 - val_loss: 0.0011 - 4s/epoch - 162ms/step\n",
            "Epoch 44/50\n",
            "24/24 - 3s - loss: 0.0023 - val_loss: 0.0015 - 3s/epoch - 110ms/step\n",
            "Epoch 45/50\n",
            "24/24 - 3s - loss: 0.0023 - val_loss: 0.0013 - 3s/epoch - 111ms/step\n",
            "Epoch 46/50\n",
            "24/24 - 3s - loss: 0.0024 - val_loss: 0.0014 - 3s/epoch - 111ms/step\n",
            "Epoch 47/50\n",
            "24/24 - 4s - loss: 0.0022 - val_loss: 0.0011 - 4s/epoch - 156ms/step\n",
            "Epoch 48/50\n",
            "24/24 - 3s - loss: 0.0022 - val_loss: 0.0011 - 3s/epoch - 126ms/step\n",
            "Epoch 49/50\n",
            "24/24 - 3s - loss: 0.0022 - val_loss: 0.0012 - 3s/epoch - 111ms/step\n",
            "Epoch 50/50\n",
            "24/24 - 3s - loss: 0.0021 - val_loss: 0.0013 - 3s/epoch - 111ms/step\n"
          ]
        }
      ],
      "source": [
        "# Train the model\n",
        "history = model.fit(X_train, y_train, validation_data=(X_val, y_val), epochs=50, batch_size=32, verbose=2)"
      ]
    },
    {
      "cell_type": "markdown",
      "metadata": {
        "id": "MLMwS5wEE0Ej"
      },
      "source": [
        "## Predict Close price in test and validation set"
      ]
    },
    {
      "cell_type": "code",
      "execution_count": 81,
      "metadata": {
        "id": "cwiDqXgEE0Ej",
        "outputId": "19aac51e-b8be-4bd7-ed30-12c15d4cb68b",
        "colab": {
          "base_uri": "https://localhost:8080/"
        }
      },
      "outputs": [
        {
          "output_type": "stream",
          "name": "stdout",
          "text": [
            "8/8 [==============================] - 3s 42ms/step\n",
            "4/4 [==============================] - 0s 31ms/step\n"
          ]
        }
      ],
      "source": [
        "# Make predictions\n",
        "y_pred = model.predict(X_test)\n",
        "y_pred_val = model.predict(X_val)"
      ]
    },
    {
      "cell_type": "markdown",
      "metadata": {
        "id": "LAVBa-2GE0Ej"
      },
      "source": [
        "## Transform data back to the original"
      ]
    },
    {
      "cell_type": "code",
      "execution_count": 82,
      "metadata": {
        "id": "HI5bRr8uE0Ej"
      },
      "outputs": [],
      "source": [
        "# Inverse transform the predictions and actual values\n",
        "y_pred = scaler.inverse_transform(y_pred)\n",
        "y_val = scaler.inverse_transform(y_val.reshape(-1, 1))\n",
        "y_pred_val = scaler.inverse_transform(y_pred_val)\n",
        "train_data = scaler.inverse_transform(train_data)\n",
        "test_data = scaler.inverse_transform(test_data)\n",
        "val_data = scaler.inverse_transform(val_data)"
      ]
    },
    {
      "cell_type": "markdown",
      "metadata": {
        "id": "rW55_P9SE0Ej"
      },
      "source": [
        "## Calculate the error of the model"
      ]
    },
    {
      "cell_type": "code",
      "execution_count": 83,
      "metadata": {
        "id": "9V2An6RIE0Ej",
        "outputId": "075f10e0-b3ca-465c-ce1d-1d0ceb44ce3e",
        "colab": {
          "base_uri": "https://localhost:8080/"
        }
      },
      "outputs": [
        {
          "output_type": "stream",
          "name": "stdout",
          "text": [
            "MAPE on Test set: 840190.6252540525\n",
            "RMSE on Test set: 81015.39072374537\n",
            "MSLE on Test set: 122.71932480082951\n"
          ]
        }
      ],
      "source": [
        "# Calculate error metrics\n",
        "test_mape = mean_absolute_percentage_error(y_test, y_pred)\n",
        "test_mse = mean_squared_error(y_test, y_pred)\n",
        "test_rmse = np.sqrt(test_mse)\n",
        "test_msle = mean_squared_log_error(y_test, y_pred)\n",
        "\n",
        "print(f\"MAPE on Test set: {test_mape}\")\n",
        "print(f\"RMSE on Test set: {test_rmse}\")\n",
        "print(f\"MSLE on Test set: {test_msle}\")"
      ]
    },
    {
      "cell_type": "code",
      "execution_count": 84,
      "metadata": {
        "id": "tjP80YEnE0Ej",
        "outputId": "488d28cc-5b00-4f12-d2ea-e8f1d30f53c3",
        "colab": {
          "base_uri": "https://localhost:8080/"
        }
      },
      "outputs": [
        {
          "output_type": "stream",
          "name": "stdout",
          "text": [
            "MAPE on Validate set: 0.02872400157626948\n",
            "RMSE on Validate set: 3641.781738018942\n",
            "MSLE on Validate set: 0.0013469626444364978\n"
          ]
        }
      ],
      "source": [
        "# The error in validation set\n",
        "val_mape = mean_absolute_percentage_error(y_val, y_pred_val)\n",
        "val_mse = mean_squared_error(y_val, y_pred_val)\n",
        "val_rmse = np.sqrt(val_mse)\n",
        "val_msle = mean_squared_log_error(y_val, y_pred_val)\n",
        "\n",
        "print(f\"MAPE on Validate set: {val_mape}\")\n",
        "print(f\"RMSE on Validate set: {val_rmse}\")\n",
        "print(f\"MSLE on Validate set: {val_msle}\")"
      ]
    },
    {
      "cell_type": "markdown",
      "metadata": {
        "id": "5mtsTm6EE0Ej"
      },
      "source": [
        "## Predict Close price for 30 next days"
      ]
    },
    {
      "cell_type": "code",
      "execution_count": 85,
      "metadata": {
        "id": "CuOZR3qNE0Ej",
        "outputId": "edf9725d-24cf-4106-a9c5-3c6d5ed1d082",
        "colab": {
          "base_uri": "https://localhost:8080/"
        }
      },
      "outputs": [
        {
          "output_type": "stream",
          "name": "stdout",
          "text": [
            "1/1 [==============================] - 0s 52ms/step\n",
            "1/1 [==============================] - 0s 54ms/step\n",
            "1/1 [==============================] - 0s 36ms/step\n",
            "1/1 [==============================] - 0s 37ms/step\n",
            "1/1 [==============================] - 0s 32ms/step\n",
            "1/1 [==============================] - 0s 32ms/step\n",
            "1/1 [==============================] - 0s 31ms/step\n",
            "1/1 [==============================] - 0s 31ms/step\n",
            "1/1 [==============================] - 0s 31ms/step\n",
            "1/1 [==============================] - 0s 37ms/step\n",
            "1/1 [==============================] - 0s 30ms/step\n",
            "1/1 [==============================] - 0s 30ms/step\n",
            "1/1 [==============================] - 0s 32ms/step\n",
            "1/1 [==============================] - 0s 33ms/step\n",
            "1/1 [==============================] - 0s 35ms/step\n",
            "1/1 [==============================] - 0s 32ms/step\n",
            "1/1 [==============================] - 0s 39ms/step\n",
            "1/1 [==============================] - 0s 32ms/step\n",
            "1/1 [==============================] - 0s 31ms/step\n",
            "1/1 [==============================] - 0s 32ms/step\n",
            "1/1 [==============================] - 0s 32ms/step\n",
            "1/1 [==============================] - 0s 31ms/step\n",
            "1/1 [==============================] - 0s 31ms/step\n",
            "1/1 [==============================] - 0s 49ms/step\n",
            "1/1 [==============================] - 0s 68ms/step\n",
            "1/1 [==============================] - 0s 54ms/step\n",
            "1/1 [==============================] - 0s 78ms/step\n",
            "1/1 [==============================] - 0s 82ms/step\n",
            "1/1 [==============================] - 0s 54ms/step\n",
            "1/1 [==============================] - 0s 114ms/step\n"
          ]
        }
      ],
      "source": [
        "last_sequence_days = data_scaled[-sequence_length:].reshape(1, -1, 1)\n",
        "y_next_30_days = []\n",
        "\n",
        "for i in range(30):\n",
        "    next_day_pred = model.predict(last_sequence_days)\n",
        "    y_next_30_days.append(next_day_pred[0][0])\n",
        "    last_sequence_days = np.concatenate([last_sequence_days[:, 1:, :], next_day_pred.reshape(1, 1, 1)], axis=1)\n"
      ]
    },
    {
      "cell_type": "code",
      "execution_count": 86,
      "metadata": {
        "id": "bg6mf7a1E0Ej",
        "outputId": "6b51203e-e6a3-45da-dfdc-d114f6c31f10",
        "colab": {
          "base_uri": "https://localhost:8080/"
        }
      },
      "outputs": [
        {
          "output_type": "stream",
          "name": "stdout",
          "text": [
            "[70656.4   70447.17  70365.03  70434.336 70637.445 70936.234 71290.65\n",
            " 71669.42  72053.21  72433.07  72806.99  73176.46  73543.97  73911.625\n",
            " 74280.75  74651.914 75025.22  75400.61  75778.04  76157.56  76539.41\n",
            " 76923.805 77311.086 77701.555 78095.49  78493.12  78894.62  79300.125\n",
            " 79709.75  80123.55 ]\n"
          ]
        }
      ],
      "source": [
        "# Show the result of predict 30 next days\n",
        "y_next_30_days = scaler.inverse_transform(np.array(y_next_30_days).reshape(-1, 1))\n",
        "print(y_next_30_days.flatten())"
      ]
    },
    {
      "cell_type": "markdown",
      "metadata": {
        "id": "K8VskxMGE0Ek"
      },
      "source": [
        "## Model visualization"
      ]
    },
    {
      "cell_type": "code",
      "execution_count": 87,
      "metadata": {
        "id": "16-6QPWhE0Ek",
        "outputId": "93b511ea-0603-4f13-91ea-ec0e1174029a",
        "colab": {
          "base_uri": "https://localhost:8080/",
          "height": 448
        }
      },
      "outputs": [
        {
          "output_type": "display_data",
          "data": {
            "text/plain": [
              "<Figure size 1200x500 with 1 Axes>"
            ],
            "image/png": "[encoded data removed]"
          },
          "metadata": {}
        }
      ],
      "source": [
        "# Plot the results\n",
        "plt.figure(figsize=(12, 5))\n",
        "plt.plot(df[:train_size].index, train_data)\n",
        "plt.plot(df[train_size:train_size + val_size].index, val_data)\n",
        "plt.plot(df[train_size:train_size + val_size].index, y_pred_val)\n",
        "plt.plot(df[train_size + val_size:].index, test_data)\n",
        "plt.plot(df[train_size + val_size:].index, y_pred)\n",
        "plt.plot(pd.date_range(start=df.index[-1] + pd.DateOffset(days=1), periods=30), y_next_30_days)\n",
        "plt.legend(['Train', 'Validate', 'Predict Validation', 'Test', 'Predict Test', 'Predict30days'])\n",
        "plt.grid()\n",
        "plt.title(\"DP3 Closing Price Data With Ratio 7_1_2\")\n",
        "plt.xlabel(\"Date\")\n",
        "plt.ylabel(\"Close value\")\n",
        "plt.savefig('RNN_712_DP3.png')\n",
        "plt.show()"
      ]
    }
  ],
  "metadata": {
    "kernelspec": {
      "display_name": "user_env",
      "language": "python",
      "name": "python3"
    },
    "language_info": {
      "codemirror_mode": {
        "name": "ipython",
        "version": 3
      },
      "file_extension": ".py",
      "mimetype": "text/x-python",
      "name": "python",
      "nbconvert_exporter": "python",
      "pygments_lexer": "ipython3",
      "version": "3.9.16"
    },
    "orig_nbformat": 4,
    "colab": {
      "provenance": []
    }
  },
  "nbformat": 4,
  "nbformat_minor": 0
}