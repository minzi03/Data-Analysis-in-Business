{
 "cells": [
  {
   "cell_type": "markdown",
   "metadata": {},
   "source": [
    "AMV Historical Data"
   ]
  },
  {
   "cell_type": "code",
   "execution_count": 1,
   "metadata": {},
   "outputs": [],
   "source": [
    "import numpy as np\n",
    "import pandas as pd\n",
    "\n",
    "from sklearn.preprocessing import MinMaxScaler\n",
    "from sklearn.model_selection import train_test_split\n",
    "\n",
    "import tensorflow as tf\n",
    "from tensorflow.keras.models import Sequential\n",
    "from tensorflow.keras.layers import LSTM, Dense\n",
    "\n",
    "import lightgbm as lgb\n",
    "\n",
    "from sklearn.metrics import mean_absolute_error, mean_squared_error, mean_squared_log_error"
   ]
  },
  {
   "cell_type": "code",
   "execution_count": 2,
   "metadata": {},
   "outputs": [
    {
     "data": {
      "text/html": [
       "<div>\n",
       "<style scoped>\n",
       "    .dataframe tbody tr th:only-of-type {\n",
       "        vertical-align: middle;\n",
       "    }\n",
       "\n",
       "    .dataframe tbody tr th {\n",
       "        vertical-align: top;\n",
       "    }\n",
       "\n",
       "    .dataframe thead th {\n",
       "        text-align: right;\n",
       "    }\n",
       "</style>\n",
       "<table border=\"1\" class=\"dataframe\">\n",
       "  <thead>\n",
       "    <tr style=\"text-align: right;\">\n",
       "      <th></th>\n",
       "      <th>Date</th>\n",
       "      <th>Price</th>\n",
       "      <th>Open</th>\n",
       "      <th>High</th>\n",
       "      <th>Low</th>\n",
       "      <th>Vol.</th>\n",
       "      <th>Change %</th>\n",
       "    </tr>\n",
       "  </thead>\n",
       "  <tbody>\n",
       "    <tr>\n",
       "      <th>0</th>\n",
       "      <td>04/17/2024</td>\n",
       "      <td>3,200.0</td>\n",
       "      <td>3,300.0</td>\n",
       "      <td>3,300.0</td>\n",
       "      <td>3,000.0</td>\n",
       "      <td>2.53M</td>\n",
       "      <td>-3.03%</td>\n",
       "    </tr>\n",
       "    <tr>\n",
       "      <th>1</th>\n",
       "      <td>04/16/2024</td>\n",
       "      <td>3,300.0</td>\n",
       "      <td>3,300.0</td>\n",
       "      <td>3,400.0</td>\n",
       "      <td>3,100.0</td>\n",
       "      <td>1.31M</td>\n",
       "      <td>0.00%</td>\n",
       "    </tr>\n",
       "    <tr>\n",
       "      <th>2</th>\n",
       "      <td>04/15/2024</td>\n",
       "      <td>3,300.0</td>\n",
       "      <td>3,500.0</td>\n",
       "      <td>3,600.0</td>\n",
       "      <td>3,300.0</td>\n",
       "      <td>1.28M</td>\n",
       "      <td>-5.71%</td>\n",
       "    </tr>\n",
       "    <tr>\n",
       "      <th>3</th>\n",
       "      <td>04/12/2024</td>\n",
       "      <td>3,500.0</td>\n",
       "      <td>3,500.0</td>\n",
       "      <td>3,600.0</td>\n",
       "      <td>3,500.0</td>\n",
       "      <td>840.38K</td>\n",
       "      <td>0.00%</td>\n",
       "    </tr>\n",
       "    <tr>\n",
       "      <th>4</th>\n",
       "      <td>04/11/2024</td>\n",
       "      <td>3,500.0</td>\n",
       "      <td>3,500.0</td>\n",
       "      <td>3,600.0</td>\n",
       "      <td>3,500.0</td>\n",
       "      <td>587.87K</td>\n",
       "      <td>0.00%</td>\n",
       "    </tr>\n",
       "    <tr>\n",
       "      <th>5</th>\n",
       "      <td>04/10/2024</td>\n",
       "      <td>3,500.0</td>\n",
       "      <td>3,500.0</td>\n",
       "      <td>3,600.0</td>\n",
       "      <td>3,500.0</td>\n",
       "      <td>324.14K</td>\n",
       "      <td>0.00%</td>\n",
       "    </tr>\n",
       "    <tr>\n",
       "      <th>6</th>\n",
       "      <td>04/09/2024</td>\n",
       "      <td>3,500.0</td>\n",
       "      <td>3,600.0</td>\n",
       "      <td>3,700.0</td>\n",
       "      <td>3,400.0</td>\n",
       "      <td>2.18M</td>\n",
       "      <td>-2.78%</td>\n",
       "    </tr>\n",
       "    <tr>\n",
       "      <th>7</th>\n",
       "      <td>04/08/2024</td>\n",
       "      <td>3,600.0</td>\n",
       "      <td>3,600.0</td>\n",
       "      <td>3,700.0</td>\n",
       "      <td>3,600.0</td>\n",
       "      <td>703.91K</td>\n",
       "      <td>0.00%</td>\n",
       "    </tr>\n",
       "    <tr>\n",
       "      <th>8</th>\n",
       "      <td>04/05/2024</td>\n",
       "      <td>3,600.0</td>\n",
       "      <td>3,700.0</td>\n",
       "      <td>3,700.0</td>\n",
       "      <td>3,500.0</td>\n",
       "      <td>3.40M</td>\n",
       "      <td>-5.26%</td>\n",
       "    </tr>\n",
       "    <tr>\n",
       "      <th>9</th>\n",
       "      <td>04/04/2024</td>\n",
       "      <td>3,800.0</td>\n",
       "      <td>3,800.0</td>\n",
       "      <td>3,900.0</td>\n",
       "      <td>3,700.0</td>\n",
       "      <td>867.30K</td>\n",
       "      <td>0.00%</td>\n",
       "    </tr>\n",
       "  </tbody>\n",
       "</table>\n",
       "</div>"
      ],
      "text/plain": [
       "         Date    Price     Open     High      Low     Vol. Change %\n",
       "0  04/17/2024  3,200.0  3,300.0  3,300.0  3,000.0    2.53M   -3.03%\n",
       "1  04/16/2024  3,300.0  3,300.0  3,400.0  3,100.0    1.31M    0.00%\n",
       "2  04/15/2024  3,300.0  3,500.0  3,600.0  3,300.0    1.28M   -5.71%\n",
       "3  04/12/2024  3,500.0  3,500.0  3,600.0  3,500.0  840.38K    0.00%\n",
       "4  04/11/2024  3,500.0  3,500.0  3,600.0  3,500.0  587.87K    0.00%\n",
       "5  04/10/2024  3,500.0  3,500.0  3,600.0  3,500.0  324.14K    0.00%\n",
       "6  04/09/2024  3,500.0  3,600.0  3,700.0  3,400.0    2.18M   -2.78%\n",
       "7  04/08/2024  3,600.0  3,600.0  3,700.0  3,600.0  703.91K    0.00%\n",
       "8  04/05/2024  3,600.0  3,700.0  3,700.0  3,500.0    3.40M   -5.26%\n",
       "9  04/04/2024  3,800.0  3,800.0  3,900.0  3,700.0  867.30K    0.00%"
      ]
     },
     "execution_count": 2,
     "metadata": {},
     "output_type": "execute_result"
    }
   ],
   "source": [
    "df = pd.read_csv('AMV Historical Data.csv')\n",
    "df.head(10)"
   ]
  },
  {
   "cell_type": "code",
   "execution_count": 3,
   "metadata": {},
   "outputs": [],
   "source": [
    "# Convert the 'Date' column to datetime format\n",
    "df['Date'] = pd.to_datetime(df['Date'])\n",
    "\n",
    "# Sort the data by date in ascending order\n",
    "df = df.sort_values('Date')\n",
    "\n",
    "# Set the 'Date' column as the index value\n",
    "df.set_index('Date', inplace=True)\n",
    "df = df.replace(',', '', regex=True)"
   ]
  },
  {
   "cell_type": "code",
   "execution_count": 4,
   "metadata": {},
   "outputs": [
    {
     "data": {
      "text/html": [
       "<div>\n",
       "<style scoped>\n",
       "    .dataframe tbody tr th:only-of-type {\n",
       "        vertical-align: middle;\n",
       "    }\n",
       "\n",
       "    .dataframe tbody tr th {\n",
       "        vertical-align: top;\n",
       "    }\n",
       "\n",
       "    .dataframe thead th {\n",
       "        text-align: right;\n",
       "    }\n",
       "</style>\n",
       "<table border=\"1\" class=\"dataframe\">\n",
       "  <thead>\n",
       "    <tr style=\"text-align: right;\">\n",
       "      <th></th>\n",
       "      <th>Price</th>\n",
       "      <th>Open</th>\n",
       "      <th>High</th>\n",
       "      <th>Low</th>\n",
       "      <th>Vol.</th>\n",
       "      <th>Change %</th>\n",
       "    </tr>\n",
       "    <tr>\n",
       "      <th>Date</th>\n",
       "      <th></th>\n",
       "      <th></th>\n",
       "      <th></th>\n",
       "      <th></th>\n",
       "      <th></th>\n",
       "      <th></th>\n",
       "    </tr>\n",
       "  </thead>\n",
       "  <tbody>\n",
       "    <tr>\n",
       "      <th>2019-01-02</th>\n",
       "      <td>17072.0</td>\n",
       "      <td>17071.7</td>\n",
       "      <td>17117.0</td>\n",
       "      <td>16936.5</td>\n",
       "      <td>181.74K</td>\n",
       "      <td>-0.26%</td>\n",
       "    </tr>\n",
       "    <tr>\n",
       "      <th>2019-01-03</th>\n",
       "      <td>16982.0</td>\n",
       "      <td>17026.6</td>\n",
       "      <td>17027.0</td>\n",
       "      <td>16215.8</td>\n",
       "      <td>259.31K</td>\n",
       "      <td>-0.53%</td>\n",
       "    </tr>\n",
       "    <tr>\n",
       "      <th>2019-01-04</th>\n",
       "      <td>16666.0</td>\n",
       "      <td>16666.3</td>\n",
       "      <td>16801.0</td>\n",
       "      <td>16576.2</td>\n",
       "      <td>86.63K</td>\n",
       "      <td>-1.86%</td>\n",
       "    </tr>\n",
       "    <tr>\n",
       "      <th>2019-01-07</th>\n",
       "      <td>16171.0</td>\n",
       "      <td>16576.2</td>\n",
       "      <td>16576.0</td>\n",
       "      <td>16080.7</td>\n",
       "      <td>102.90K</td>\n",
       "      <td>-2.97%</td>\n",
       "    </tr>\n",
       "    <tr>\n",
       "      <th>2019-01-08</th>\n",
       "      <td>16171.0</td>\n",
       "      <td>16260.9</td>\n",
       "      <td>16261.0</td>\n",
       "      <td>16080.7</td>\n",
       "      <td>33.59K</td>\n",
       "      <td>0.00%</td>\n",
       "    </tr>\n",
       "    <tr>\n",
       "      <th>...</th>\n",
       "      <td>...</td>\n",
       "      <td>...</td>\n",
       "      <td>...</td>\n",
       "      <td>...</td>\n",
       "      <td>...</td>\n",
       "      <td>...</td>\n",
       "    </tr>\n",
       "    <tr>\n",
       "      <th>2024-04-11</th>\n",
       "      <td>3500.0</td>\n",
       "      <td>3500.0</td>\n",
       "      <td>3600.0</td>\n",
       "      <td>3500.0</td>\n",
       "      <td>587.87K</td>\n",
       "      <td>0.00%</td>\n",
       "    </tr>\n",
       "    <tr>\n",
       "      <th>2024-04-12</th>\n",
       "      <td>3500.0</td>\n",
       "      <td>3500.0</td>\n",
       "      <td>3600.0</td>\n",
       "      <td>3500.0</td>\n",
       "      <td>840.38K</td>\n",
       "      <td>0.00%</td>\n",
       "    </tr>\n",
       "    <tr>\n",
       "      <th>2024-04-15</th>\n",
       "      <td>3300.0</td>\n",
       "      <td>3500.0</td>\n",
       "      <td>3600.0</td>\n",
       "      <td>3300.0</td>\n",
       "      <td>1.28M</td>\n",
       "      <td>-5.71%</td>\n",
       "    </tr>\n",
       "    <tr>\n",
       "      <th>2024-04-16</th>\n",
       "      <td>3300.0</td>\n",
       "      <td>3300.0</td>\n",
       "      <td>3400.0</td>\n",
       "      <td>3100.0</td>\n",
       "      <td>1.31M</td>\n",
       "      <td>0.00%</td>\n",
       "    </tr>\n",
       "    <tr>\n",
       "      <th>2024-04-17</th>\n",
       "      <td>3200.0</td>\n",
       "      <td>3300.0</td>\n",
       "      <td>3300.0</td>\n",
       "      <td>3000.0</td>\n",
       "      <td>2.53M</td>\n",
       "      <td>-3.03%</td>\n",
       "    </tr>\n",
       "  </tbody>\n",
       "</table>\n",
       "<p>1322 rows × 6 columns</p>\n",
       "</div>"
      ],
      "text/plain": [
       "              Price     Open     High      Low     Vol. Change %\n",
       "Date                                                            \n",
       "2019-01-02  17072.0  17071.7  17117.0  16936.5  181.74K   -0.26%\n",
       "2019-01-03  16982.0  17026.6  17027.0  16215.8  259.31K   -0.53%\n",
       "2019-01-04  16666.0  16666.3  16801.0  16576.2   86.63K   -1.86%\n",
       "2019-01-07  16171.0  16576.2  16576.0  16080.7  102.90K   -2.97%\n",
       "2019-01-08  16171.0  16260.9  16261.0  16080.7   33.59K    0.00%\n",
       "...             ...      ...      ...      ...      ...      ...\n",
       "2024-04-11   3500.0   3500.0   3600.0   3500.0  587.87K    0.00%\n",
       "2024-04-12   3500.0   3500.0   3600.0   3500.0  840.38K    0.00%\n",
       "2024-04-15   3300.0   3500.0   3600.0   3300.0    1.28M   -5.71%\n",
       "2024-04-16   3300.0   3300.0   3400.0   3100.0    1.31M    0.00%\n",
       "2024-04-17   3200.0   3300.0   3300.0   3000.0    2.53M   -3.03%\n",
       "\n",
       "[1322 rows x 6 columns]"
      ]
     },
     "execution_count": 4,
     "metadata": {},
     "output_type": "execute_result"
    }
   ],
   "source": [
    "df"
   ]
  },
  {
   "cell_type": "code",
   "execution_count": 5,
   "metadata": {},
   "outputs": [],
   "source": [
    "# Select features and target\n",
    "features = df[['Open', 'High', 'Low', 'Price']].values\n",
    "target = df['Price'].values"
   ]
  },
  {
   "cell_type": "code",
   "execution_count": 6,
   "metadata": {},
   "outputs": [],
   "source": [
    "# Scale the data\n",
    "scaler = MinMaxScaler(feature_range=(0, 1))\n",
    "scaled_features = scaler.fit_transform(features)\n",
    "scaled_target = scaler.fit_transform(np.array(target).reshape(-1, 1))"
   ]
  },
  {
   "cell_type": "code",
   "execution_count": 7,
   "metadata": {},
   "outputs": [],
   "source": [
    "# Split data into training and testing sets\n",
    "train_size = int(0.9 * len(scaled_target))\n",
    "test_size = len(scaled_target) - train_size\n",
    "\n",
    "train_features = scaled_features[:train_size]\n",
    "train_target = scaled_target[:train_size]\n",
    "test_features = scaled_features[train_size:]\n",
    "test_target = scaled_target[train_size:]"
   ]
  },
  {
   "cell_type": "code",
   "execution_count": 8,
   "metadata": {},
   "outputs": [],
   "source": [
    "# Function to create dataset matrix\n",
    "def create_dataset(features, target, time_step=1):\n",
    "    dataX, dataY = [], []\n",
    "    for i in range(len(target) - time_step - 1):\n",
    "        a = features[i:(i + time_step)]\n",
    "        dataX.append(a)\n",
    "        dataY.append(target[i + time_step])\n",
    "    return np.array(dataX), np.array(dataY)"
   ]
  },
  {
   "cell_type": "code",
   "execution_count": 9,
   "metadata": {},
   "outputs": [],
   "source": [
    "# Create training and testing datasets\n",
    "time_step = 100\n",
    "X_train, y_train = create_dataset(train_features, train_target, time_step)\n",
    "X_test, ytest = create_dataset(test_features, test_target, time_step)"
   ]
  },
  {
   "cell_type": "code",
   "execution_count": 10,
   "metadata": {},
   "outputs": [],
   "source": [
    "# Reshape input to be [samples, time steps, features] for LSTM\n",
    "X_train = X_train.reshape(X_train.shape[0], X_train.shape[1], X_train.shape[2])\n",
    "X_test = X_test.reshape(X_test.shape[0], X_test.shape[1], X_test.shape[2])"
   ]
  },
  {
   "cell_type": "code",
   "execution_count": 11,
   "metadata": {},
   "outputs": [
    {
     "name": "stdout",
     "output_type": "stream",
     "text": [
      "Epoch 1/10\n"
     ]
    },
    {
     "name": "stderr",
     "output_type": "stream",
     "text": [
      "c:\\Users\\miynzi\\AppData\\Local\\Programs\\Python\\Python312\\Lib\\site-packages\\keras\\src\\layers\\rnn\\rnn.py:204: UserWarning: Do not pass an `input_shape`/`input_dim` argument to a layer. When using Sequential models, prefer using an `Input(shape)` object as the first layer in the model instead.\n",
      "  super().__init__(**kwargs)\n"
     ]
    },
    {
     "name": "stdout",
     "output_type": "stream",
     "text": [
      "\u001b[1m28/28\u001b[0m \u001b[32m━━━━━━━━━━━━━━━━━━━━\u001b[0m\u001b[37m\u001b[0m \u001b[1m2s\u001b[0m 22ms/step - loss: 0.1074 - val_loss: 0.0019\n",
      "Epoch 2/10\n",
      "\u001b[1m28/28\u001b[0m \u001b[32m━━━━━━━━━━━━━━━━━━━━\u001b[0m\u001b[37m\u001b[0m \u001b[1m0s\u001b[0m 16ms/step - loss: 0.0028 - val_loss: 5.3013e-04\n",
      "Epoch 3/10\n",
      "\u001b[1m28/28\u001b[0m \u001b[32m━━━━━━━━━━━━━━━━━━━━\u001b[0m\u001b[37m\u001b[0m \u001b[1m0s\u001b[0m 16ms/step - loss: 0.0023 - val_loss: 1.8387e-04\n",
      "Epoch 4/10\n",
      "\u001b[1m28/28\u001b[0m \u001b[32m━━━━━━━━━━━━━━━━━━━━\u001b[0m\u001b[37m\u001b[0m \u001b[1m0s\u001b[0m 16ms/step - loss: 0.0021 - val_loss: 1.2398e-04\n",
      "Epoch 5/10\n",
      "\u001b[1m28/28\u001b[0m \u001b[32m━━━━━━━━━━━━━━━━━━━━\u001b[0m\u001b[37m\u001b[0m \u001b[1m0s\u001b[0m 16ms/step - loss: 0.0018 - val_loss: 1.4184e-04\n",
      "Epoch 6/10\n",
      "\u001b[1m28/28\u001b[0m \u001b[32m━━━━━━━━━━━━━━━━━━━━\u001b[0m\u001b[37m\u001b[0m \u001b[1m0s\u001b[0m 16ms/step - loss: 0.0022 - val_loss: 1.5065e-04\n",
      "Epoch 7/10\n",
      "\u001b[1m28/28\u001b[0m \u001b[32m━━━━━━━━━━━━━━━━━━━━\u001b[0m\u001b[37m\u001b[0m \u001b[1m0s\u001b[0m 16ms/step - loss: 0.0012 - val_loss: 1.5753e-04\n",
      "Epoch 8/10\n",
      "\u001b[1m28/28\u001b[0m \u001b[32m━━━━━━━━━━━━━━━━━━━━\u001b[0m\u001b[37m\u001b[0m \u001b[1m1s\u001b[0m 17ms/step - loss: 0.0013 - val_loss: 1.3029e-04\n",
      "Epoch 9/10\n",
      "\u001b[1m28/28\u001b[0m \u001b[32m━━━━━━━━━━━━━━━━━━━━\u001b[0m\u001b[37m\u001b[0m \u001b[1m1s\u001b[0m 18ms/step - loss: 0.0014 - val_loss: 1.0899e-04\n",
      "Epoch 10/10\n",
      "\u001b[1m28/28\u001b[0m \u001b[32m━━━━━━━━━━━━━━━━━━━━\u001b[0m\u001b[37m\u001b[0m \u001b[1m0s\u001b[0m 16ms/step - loss: 0.0015 - val_loss: 1.3300e-04\n"
     ]
    },
    {
     "data": {
      "text/plain": [
       "<keras.src.callbacks.history.History at 0x1a0cf58d2e0>"
      ]
     },
     "execution_count": 11,
     "metadata": {},
     "output_type": "execute_result"
    }
   ],
   "source": [
    "# Build and train RNN model\n",
    "rnn_model = Sequential()\n",
    "rnn_model.add(LSTM(64, input_shape=(X_train.shape[1], X_train.shape[2])))\n",
    "rnn_model.add(Dense(32, activation='relu'))\n",
    "rnn_model.add(Dense(1))\n",
    "rnn_model.compile(optimizer='adam', loss='mse')\n",
    "rnn_model.fit(X_train, y_train, epochs=10, batch_size=32, validation_split=0.2)"
   ]
  },
  {
   "cell_type": "code",
   "execution_count": 12,
   "metadata": {},
   "outputs": [
    {
     "name": "stdout",
     "output_type": "stream",
     "text": [
      "\u001b[1m34/34\u001b[0m \u001b[32m━━━━━━━━━━━━━━━━━━━━\u001b[0m\u001b[37m\u001b[0m \u001b[1m0s\u001b[0m 5ms/step\n",
      "\u001b[1m1/1\u001b[0m \u001b[32m━━━━━━━━━━━━━━━━━━━━\u001b[0m\u001b[37m\u001b[0m \u001b[1m0s\u001b[0m 18ms/step\n"
     ]
    }
   ],
   "source": [
    "# Extract features from RNN\n",
    "train_features_rnn = rnn_model.predict(X_train)\n",
    "test_features_rnn = rnn_model.predict(X_test)"
   ]
  },
  {
   "cell_type": "code",
   "execution_count": 13,
   "metadata": {},
   "outputs": [],
   "source": [
    "# Prepare data for LightGBM\n",
    "train_data_lgb = lgb.Dataset(train_features_rnn, label=y_train)\n",
    "test_data_lgb = lgb.Dataset(test_features_rnn, label=ytest, reference=train_data_lgb)"
   ]
  },
  {
   "cell_type": "code",
   "execution_count": 14,
   "metadata": {},
   "outputs": [],
   "source": [
    "# LightGBM parameters\n",
    "params = {\n",
    "    'objective': 'regression',\n",
    "    'metric': 'rmse',\n",
    "    'boosting_type': 'gbdt',\n",
    "    'num_leaves': 31,\n",
    "    'learning_rate': 0.05,\n",
    "    'feature_fraction': 0.9\n",
    "}"
   ]
  },
  {
   "cell_type": "code",
   "execution_count": 15,
   "metadata": {},
   "outputs": [
    {
     "name": "stdout",
     "output_type": "stream",
     "text": [
      "[LightGBM] [Info] Auto-choosing col-wise multi-threading, the overhead of testing was 0.000053 seconds.\n",
      "You can set `force_col_wise=true` to remove the overhead.\n",
      "[LightGBM] [Info] Total Bins 255\n",
      "[LightGBM] [Info] Number of data points in the train set: 1088, number of used features: 1\n",
      "[LightGBM] [Info] Start training from score 0.412834\n",
      "Training until validation scores don't improve for 10 rounds\n",
      "Did not meet early stopping. Best iteration is:\n",
      "[100]\ttrain's rmse: 0.0317716\tvalid's rmse: 0.00673821\n"
     ]
    },
    {
     "name": "stderr",
     "output_type": "stream",
     "text": [
      "c:\\Users\\miynzi\\AppData\\Local\\Programs\\Python\\Python312\\Lib\\site-packages\\lightgbm\\basic.py:335: UserWarning: Converting column-vector to 1d array\n",
      "  _log_warning('Converting column-vector to 1d array')\n"
     ]
    }
   ],
   "source": [
    "# Train LightGBM model with early stopping\n",
    "evals_result = {}\n",
    "lgb_model = lgb.train(\n",
    "    params,\n",
    "    train_data_lgb,\n",
    "    num_boost_round=100,\n",
    "    valid_sets=[train_data_lgb, test_data_lgb],\n",
    "    valid_names=['train', 'valid'],\n",
    "    callbacks=[lgb.early_stopping(stopping_rounds=10), lgb.record_evaluation(evals_result)]\n",
    ")"
   ]
  },
  {
   "cell_type": "code",
   "execution_count": 16,
   "metadata": {},
   "outputs": [],
   "source": [
    "# Predict using LightGBM\n",
    "y_pred = lgb_model.predict(test_features_rnn, num_iteration=lgb_model.best_iteration)"
   ]
  },
  {
   "cell_type": "code",
   "execution_count": 17,
   "metadata": {},
   "outputs": [],
   "source": [
    "# Define evaluation metric functions\n",
    "def mean_absolute_percentage_error(y_true, y_pred):\n",
    "    y_true, y_pred = np.array(y_true), np.array(y_pred)\n",
    "    return np.mean(np.abs((y_true - y_pred) / y_true)) * 100\n",
    "\n",
    "def root_mean_squared_error(y_true, y_pred):\n",
    "    return np.sqrt(mean_squared_error(y_true, y_pred))"
   ]
  },
  {
   "cell_type": "code",
   "execution_count": 18,
   "metadata": {},
   "outputs": [],
   "source": [
    "# Calculate evaluation metrics\n",
    "rmse = root_mean_squared_error(ytest, y_pred)\n",
    "mape = mean_absolute_percentage_error(ytest, y_pred)\n",
    "msle = mean_squared_log_error(ytest, y_pred)\n",
    "mse = mean_squared_error(ytest, y_pred)\n",
    "mae = mean_absolute_error(ytest, y_pred)"
   ]
  },
  {
   "cell_type": "code",
   "execution_count": 19,
   "metadata": {},
   "outputs": [
    {
     "name": "stdout",
     "output_type": "stream",
     "text": [
      "Root Mean Squared Error (RMSE): 0.006738207099490828\n",
      "Mean Absolute Percentage Error (MAPE): 20.781228204746917%\n",
      "Mean Squared Logarithmic Error (MSLE): 4.164444579051321e-05\n",
      "Mean Squared Error (MSE): 4.54034349156286e-05\n",
      "Mean Absolute Error (MAE): 0.005272809043290825\n"
     ]
    }
   ],
   "source": [
    "# Print evaluation metrics\n",
    "print(f'Root Mean Squared Error (RMSE): {rmse}')\n",
    "print(f'Mean Absolute Percentage Error (MAPE): {mape}%')\n",
    "print(f'Mean Squared Logarithmic Error (MSLE): {msle}')\n",
    "print(f'Mean Squared Error (MSE): {mse}')\n",
    "print(f'Mean Absolute Error (MAE): {mae}')\n"
   ]
  },
  {
   "cell_type": "code",
   "execution_count": 20,
   "metadata": {},
   "outputs": [],
   "source": [
    "# Prepare initial data for predicting next 30 days\n",
    "initial_data = scaled_features[-time_step:].reshape(1, time_step, scaled_features.shape[1])"
   ]
  },
  {
   "cell_type": "code",
   "execution_count": 21,
   "metadata": {},
   "outputs": [],
   "source": [
    "def predict_next_30_days(rnn_model, lgb_model, initial_data, time_step=100):\n",
    "    predictions = []\n",
    "\n",
    "    for _ in range(30):\n",
    "        # Predict features using RNN\n",
    "        rnn_features = rnn_model.predict(initial_data)\n",
    "\n",
    "        # Predict the next day's closing price using LightGBM\n",
    "        next_close = lgb_model.predict(rnn_features)\n",
    "\n",
    "        # Append the prediction\n",
    "        predictions.append(next_close[0])\n",
    "\n",
    "        # Update the initial data with the new prediction\n",
    "        initial_data = np.roll(initial_data, -1, axis=1)\n",
    "        initial_data[:, -1, -1] = next_close[0]\n",
    "\n",
    "    return predictions"
   ]
  },
  {
   "cell_type": "code",
   "execution_count": 22,
   "metadata": {},
   "outputs": [
    {
     "name": "stdout",
     "output_type": "stream",
     "text": [
      "\u001b[1m1/1\u001b[0m \u001b[32m━━━━━━━━━━━━━━━━━━━━\u001b[0m\u001b[37m\u001b[0m \u001b[1m0s\u001b[0m 112ms/step\n",
      "\u001b[1m1/1\u001b[0m \u001b[32m━━━━━━━━━━━━━━━━━━━━\u001b[0m\u001b[37m\u001b[0m \u001b[1m0s\u001b[0m 21ms/step\n",
      "\u001b[1m1/1\u001b[0m \u001b[32m━━━━━━━━━━━━━━━━━━━━\u001b[0m\u001b[37m\u001b[0m \u001b[1m0s\u001b[0m 23ms/step\n",
      "\u001b[1m1/1\u001b[0m \u001b[32m━━━━━━━━━━━━━━━━━━━━\u001b[0m\u001b[37m\u001b[0m \u001b[1m0s\u001b[0m 24ms/step\n",
      "\u001b[1m1/1\u001b[0m \u001b[32m━━━━━━━━━━━━━━━━━━━━\u001b[0m\u001b[37m\u001b[0m \u001b[1m0s\u001b[0m 25ms/step\n",
      "\u001b[1m1/1\u001b[0m \u001b[32m━━━━━━━━━━━━━━━━━━━━\u001b[0m\u001b[37m\u001b[0m \u001b[1m0s\u001b[0m 24ms/step\n",
      "\u001b[1m1/1\u001b[0m \u001b[32m━━━━━━━━━━━━━━━━━━━━\u001b[0m\u001b[37m\u001b[0m \u001b[1m0s\u001b[0m 25ms/step\n",
      "\u001b[1m1/1\u001b[0m \u001b[32m━━━━━━━━━━━━━━━━━━━━\u001b[0m\u001b[37m\u001b[0m \u001b[1m0s\u001b[0m 24ms/step\n",
      "\u001b[1m1/1\u001b[0m \u001b[32m━━━━━━━━━━━━━━━━━━━━\u001b[0m\u001b[37m\u001b[0m \u001b[1m0s\u001b[0m 25ms/step\n",
      "\u001b[1m1/1\u001b[0m \u001b[32m━━━━━━━━━━━━━━━━━━━━\u001b[0m\u001b[37m\u001b[0m \u001b[1m0s\u001b[0m 26ms/step\n",
      "\u001b[1m1/1\u001b[0m \u001b[32m━━━━━━━━━━━━━━━━━━━━\u001b[0m\u001b[37m\u001b[0m \u001b[1m0s\u001b[0m 26ms/step\n",
      "\u001b[1m1/1\u001b[0m \u001b[32m━━━━━━━━━━━━━━━━━━━━\u001b[0m\u001b[37m\u001b[0m \u001b[1m0s\u001b[0m 26ms/step\n",
      "\u001b[1m1/1\u001b[0m \u001b[32m━━━━━━━━━━━━━━━━━━━━\u001b[0m\u001b[37m\u001b[0m \u001b[1m0s\u001b[0m 27ms/step\n",
      "\u001b[1m1/1\u001b[0m \u001b[32m━━━━━━━━━━━━━━━━━━━━\u001b[0m\u001b[37m\u001b[0m \u001b[1m0s\u001b[0m 25ms/step\n",
      "\u001b[1m1/1\u001b[0m \u001b[32m━━━━━━━━━━━━━━━━━━━━\u001b[0m\u001b[37m\u001b[0m \u001b[1m0s\u001b[0m 27ms/step\n",
      "\u001b[1m1/1\u001b[0m \u001b[32m━━━━━━━━━━━━━━━━━━━━\u001b[0m\u001b[37m\u001b[0m \u001b[1m0s\u001b[0m 25ms/step\n",
      "\u001b[1m1/1\u001b[0m \u001b[32m━━━━━━━━━━━━━━━━━━━━\u001b[0m\u001b[37m\u001b[0m \u001b[1m0s\u001b[0m 25ms/step\n",
      "\u001b[1m1/1\u001b[0m \u001b[32m━━━━━━━━━━━━━━━━━━━━\u001b[0m\u001b[37m\u001b[0m \u001b[1m0s\u001b[0m 24ms/step\n",
      "\u001b[1m1/1\u001b[0m \u001b[32m━━━━━━━━━━━━━━━━━━━━\u001b[0m\u001b[37m\u001b[0m \u001b[1m0s\u001b[0m 27ms/step\n",
      "\u001b[1m1/1\u001b[0m \u001b[32m━━━━━━━━━━━━━━━━━━━━\u001b[0m\u001b[37m\u001b[0m \u001b[1m0s\u001b[0m 23ms/step\n",
      "\u001b[1m1/1\u001b[0m \u001b[32m━━━━━━━━━━━━━━━━━━━━\u001b[0m\u001b[37m\u001b[0m \u001b[1m0s\u001b[0m 25ms/step\n",
      "\u001b[1m1/1\u001b[0m \u001b[32m━━━━━━━━━━━━━━━━━━━━\u001b[0m\u001b[37m\u001b[0m \u001b[1m0s\u001b[0m 25ms/step\n",
      "\u001b[1m1/1\u001b[0m \u001b[32m━━━━━━━━━━━━━━━━━━━━\u001b[0m\u001b[37m\u001b[0m \u001b[1m0s\u001b[0m 24ms/step\n",
      "\u001b[1m1/1\u001b[0m \u001b[32m━━━━━━━━━━━━━━━━━━━━\u001b[0m\u001b[37m\u001b[0m \u001b[1m0s\u001b[0m 24ms/step\n",
      "\u001b[1m1/1\u001b[0m \u001b[32m━━━━━━━━━━━━━━━━━━━━\u001b[0m\u001b[37m\u001b[0m \u001b[1m0s\u001b[0m 24ms/step\n",
      "\u001b[1m1/1\u001b[0m \u001b[32m━━━━━━━━━━━━━━━━━━━━\u001b[0m\u001b[37m\u001b[0m \u001b[1m0s\u001b[0m 26ms/step\n",
      "\u001b[1m1/1\u001b[0m \u001b[32m━━━━━━━━━━━━━━━━━━━━\u001b[0m\u001b[37m\u001b[0m \u001b[1m0s\u001b[0m 27ms/step\n",
      "\u001b[1m1/1\u001b[0m \u001b[32m━━━━━━━━━━━━━━━━━━━━\u001b[0m\u001b[37m\u001b[0m \u001b[1m0s\u001b[0m 25ms/step\n",
      "\u001b[1m1/1\u001b[0m \u001b[32m━━━━━━━━━━━━━━━━━━━━\u001b[0m\u001b[37m\u001b[0m \u001b[1m0s\u001b[0m 25ms/step\n",
      "\u001b[1m1/1\u001b[0m \u001b[32m━━━━━━━━━━━━━━━━━━━━\u001b[0m\u001b[37m\u001b[0m \u001b[1m0s\u001b[0m 25ms/step\n",
      "Dự đoán giá đóng cửa cho 30 ngày tiếp theo: [0.03261884273850437, 0.03261884273850437, 0.04257251591350829, 0.04257251591350829, 0.04522109723165252, 0.04522109723165252, 0.04702481351784678, 0.04702481351784678, 0.04702481351784678, 0.04702481351784678, 0.04702481351784678, 0.050938501816515866, 0.050938501816515866, 0.05198017123292431, 0.05543438407067945, 0.05543438407067945, 0.05543438407067945, 0.05543438407067945, 0.05543438407067945, 0.05543438407067945, 0.05875397146411646, 0.05875397146411646, 0.05875397146411646, 0.05875397146411646, 0.05875397146411646, 0.05875397146411646, 0.05875397146411646, 0.05875397146411646, 0.05875397146411646, 0.05875397146411646]\n"
     ]
    }
   ],
   "source": [
    "# Predict next 30 days\n",
    "next_30_days_predictions = predict_next_30_days(rnn_model, lgb_model, initial_data)\n",
    "print(\"Dự đoán giá đóng cửa cho 30 ngày tiếp theo:\", next_30_days_predictions)"
   ]
  },
  {
   "cell_type": "code",
   "execution_count": 23,
   "metadata": {},
   "outputs": [
    {
     "data": {
      "image/png": "[encoded data removed]",
      "text/plain": [
       "<Figure size 640x480 with 1 Axes>"
      ]
     },
     "metadata": {},
     "output_type": "display_data"
    }
   ],
   "source": [
    "import matplotlib.pyplot as plt\n",
    "\n",
    "# Plotting train data\n",
    "train_data_index = pd.RangeIndex(start=0, stop=len(train_features_rnn), step=1)\n",
    "plt.plot(train_data_index, scaler.inverse_transform(train_features_rnn), label='Train')\n",
    "\n",
    "# Plotting test data\n",
    "test_data_index = pd.RangeIndex(start=len(train_features_rnn), stop=len(train_features_rnn) + len(test_features_rnn), step=1)\n",
    "plt.plot(test_data_index, scaler.inverse_transform(test_features_rnn), label='Test')\n",
    "\n",
    "# Adjusting y_pred to have correct shape and length\n",
    "test_data_index_pred = pd.RangeIndex(start=len(train_features_rnn), stop=len(train_features_rnn) + len(y_pred), step=1)\n",
    "plt.plot(test_data_index_pred, scaler.inverse_transform(np.array(y_pred).reshape(-1, 1)), label='Predict')\n",
    "\n",
    "# Adjusting next_30_days_predictions to have correct shape and length\n",
    "predict_data_index = pd.RangeIndex(start=len(df), stop=len(df) + len(next_30_days_predictions), step=1)\n",
    "plt.plot(predict_data_index, scaler.inverse_transform(np.array(next_30_days_predictions).reshape(-1, 1)), label='Predict30days')\n",
    "\n",
    "plt.legend(['Train', 'Test', 'Predict', 'Predict30days'])\n",
    "plt.show()"
   ]
  },
  {
   "cell_type": "markdown",
   "metadata": {},
   "source": [
    "DHT Historical Data"
   ]
  },
  {
   "cell_type": "code",
   "execution_count": 24,
   "metadata": {},
   "outputs": [],
   "source": [
    "import numpy as np\n",
    "import pandas as pd\n",
    "\n",
    "from sklearn.preprocessing import MinMaxScaler\n",
    "from sklearn.model_selection import train_test_split\n",
    "\n",
    "import tensorflow as tf\n",
    "from tensorflow.keras.models import Sequential\n",
    "from tensorflow.keras.layers import LSTM, Dense\n",
    "\n",
    "import lightgbm as lgb\n",
    "\n",
    "from sklearn.metrics import mean_absolute_error, mean_squared_error, mean_squared_log_error"
   ]
  },
  {
   "cell_type": "code",
   "execution_count": 25,
   "metadata": {},
   "outputs": [
    {
     "data": {
      "text/html": [
       "<div>\n",
       "<style scoped>\n",
       "    .dataframe tbody tr th:only-of-type {\n",
       "        vertical-align: middle;\n",
       "    }\n",
       "\n",
       "    .dataframe tbody tr th {\n",
       "        vertical-align: top;\n",
       "    }\n",
       "\n",
       "    .dataframe thead th {\n",
       "        text-align: right;\n",
       "    }\n",
       "</style>\n",
       "<table border=\"1\" class=\"dataframe\">\n",
       "  <thead>\n",
       "    <tr style=\"text-align: right;\">\n",
       "      <th></th>\n",
       "      <th>Date</th>\n",
       "      <th>Price</th>\n",
       "      <th>Open</th>\n",
       "      <th>High</th>\n",
       "      <th>Low</th>\n",
       "      <th>Vol.</th>\n",
       "      <th>Change %</th>\n",
       "    </tr>\n",
       "  </thead>\n",
       "  <tbody>\n",
       "    <tr>\n",
       "      <th>0</th>\n",
       "      <td>04/17/2024</td>\n",
       "      <td>26,700.0</td>\n",
       "      <td>26,600.0</td>\n",
       "      <td>27,200.0</td>\n",
       "      <td>26,500.0</td>\n",
       "      <td>104.91K</td>\n",
       "      <td>1.14%</td>\n",
       "    </tr>\n",
       "    <tr>\n",
       "      <th>1</th>\n",
       "      <td>04/16/2024</td>\n",
       "      <td>26,400.0</td>\n",
       "      <td>26,300.0</td>\n",
       "      <td>26,800.0</td>\n",
       "      <td>26,100.0</td>\n",
       "      <td>69.69K</td>\n",
       "      <td>-1.49%</td>\n",
       "    </tr>\n",
       "    <tr>\n",
       "      <th>2</th>\n",
       "      <td>04/15/2024</td>\n",
       "      <td>26,800.0</td>\n",
       "      <td>26,900.0</td>\n",
       "      <td>27,400.0</td>\n",
       "      <td>26,500.0</td>\n",
       "      <td>51.17K</td>\n",
       "      <td>-0.37%</td>\n",
       "    </tr>\n",
       "    <tr>\n",
       "      <th>3</th>\n",
       "      <td>04/12/2024</td>\n",
       "      <td>26,900.0</td>\n",
       "      <td>26,800.0</td>\n",
       "      <td>27,200.0</td>\n",
       "      <td>26,500.0</td>\n",
       "      <td>29.56K</td>\n",
       "      <td>1.51%</td>\n",
       "    </tr>\n",
       "    <tr>\n",
       "      <th>4</th>\n",
       "      <td>04/11/2024</td>\n",
       "      <td>26,500.0</td>\n",
       "      <td>26,500.0</td>\n",
       "      <td>27,000.0</td>\n",
       "      <td>26,100.0</td>\n",
       "      <td>56.40K</td>\n",
       "      <td>-0.38%</td>\n",
       "    </tr>\n",
       "    <tr>\n",
       "      <th>5</th>\n",
       "      <td>04/10/2024</td>\n",
       "      <td>26,600.0</td>\n",
       "      <td>26,800.0</td>\n",
       "      <td>26,900.0</td>\n",
       "      <td>26,500.0</td>\n",
       "      <td>27.07K</td>\n",
       "      <td>-0.37%</td>\n",
       "    </tr>\n",
       "    <tr>\n",
       "      <th>6</th>\n",
       "      <td>04/09/2024</td>\n",
       "      <td>26,700.0</td>\n",
       "      <td>26,300.0</td>\n",
       "      <td>27,200.0</td>\n",
       "      <td>26,300.0</td>\n",
       "      <td>45.80K</td>\n",
       "      <td>-0.74%</td>\n",
       "    </tr>\n",
       "    <tr>\n",
       "      <th>7</th>\n",
       "      <td>04/08/2024</td>\n",
       "      <td>26,900.0</td>\n",
       "      <td>26,800.0</td>\n",
       "      <td>27,100.0</td>\n",
       "      <td>26,500.0</td>\n",
       "      <td>23.60K</td>\n",
       "      <td>0.37%</td>\n",
       "    </tr>\n",
       "    <tr>\n",
       "      <th>8</th>\n",
       "      <td>04/05/2024</td>\n",
       "      <td>26,800.0</td>\n",
       "      <td>27,200.0</td>\n",
       "      <td>27,300.0</td>\n",
       "      <td>24,600.0</td>\n",
       "      <td>173.17K</td>\n",
       "      <td>-1.83%</td>\n",
       "    </tr>\n",
       "    <tr>\n",
       "      <th>9</th>\n",
       "      <td>04/04/2024</td>\n",
       "      <td>27,300.0</td>\n",
       "      <td>27,300.0</td>\n",
       "      <td>27,700.0</td>\n",
       "      <td>26,800.0</td>\n",
       "      <td>155.52K</td>\n",
       "      <td>-0.36%</td>\n",
       "    </tr>\n",
       "  </tbody>\n",
       "</table>\n",
       "</div>"
      ],
      "text/plain": [
       "         Date     Price      Open      High       Low     Vol. Change %\n",
       "0  04/17/2024  26,700.0  26,600.0  27,200.0  26,500.0  104.91K    1.14%\n",
       "1  04/16/2024  26,400.0  26,300.0  26,800.0  26,100.0   69.69K   -1.49%\n",
       "2  04/15/2024  26,800.0  26,900.0  27,400.0  26,500.0   51.17K   -0.37%\n",
       "3  04/12/2024  26,900.0  26,800.0  27,200.0  26,500.0   29.56K    1.51%\n",
       "4  04/11/2024  26,500.0  26,500.0  27,000.0  26,100.0   56.40K   -0.38%\n",
       "5  04/10/2024  26,600.0  26,800.0  26,900.0  26,500.0   27.07K   -0.37%\n",
       "6  04/09/2024  26,700.0  26,300.0  27,200.0  26,300.0   45.80K   -0.74%\n",
       "7  04/08/2024  26,900.0  26,800.0  27,100.0  26,500.0   23.60K    0.37%\n",
       "8  04/05/2024  26,800.0  27,200.0  27,300.0  24,600.0  173.17K   -1.83%\n",
       "9  04/04/2024  27,300.0  27,300.0  27,700.0  26,800.0  155.52K   -0.36%"
      ]
     },
     "execution_count": 25,
     "metadata": {},
     "output_type": "execute_result"
    }
   ],
   "source": [
    "df = pd.read_csv('DHT Historical Data.csv')\n",
    "df.head(10)"
   ]
  },
  {
   "cell_type": "code",
   "execution_count": 26,
   "metadata": {},
   "outputs": [],
   "source": [
    "# Convert the 'Date' column to datetime format\n",
    "df['Date'] = pd.to_datetime(df['Date'])\n",
    "\n",
    "# Sort the data by date in ascending order\n",
    "df = df.sort_values('Date')\n",
    "\n",
    "# Set the 'Date' column as the index value\n",
    "df.set_index('Date', inplace=True)\n",
    "df = df.replace(',', '', regex=True)"
   ]
  },
  {
   "cell_type": "code",
   "execution_count": 27,
   "metadata": {},
   "outputs": [
    {
     "data": {
      "text/html": [
       "<div>\n",
       "<style scoped>\n",
       "    .dataframe tbody tr th:only-of-type {\n",
       "        vertical-align: middle;\n",
       "    }\n",
       "\n",
       "    .dataframe tbody tr th {\n",
       "        vertical-align: top;\n",
       "    }\n",
       "\n",
       "    .dataframe thead th {\n",
       "        text-align: right;\n",
       "    }\n",
       "</style>\n",
       "<table border=\"1\" class=\"dataframe\">\n",
       "  <thead>\n",
       "    <tr style=\"text-align: right;\">\n",
       "      <th></th>\n",
       "      <th>Price</th>\n",
       "      <th>Open</th>\n",
       "      <th>High</th>\n",
       "      <th>Low</th>\n",
       "      <th>Vol.</th>\n",
       "      <th>Change %</th>\n",
       "    </tr>\n",
       "    <tr>\n",
       "      <th>Date</th>\n",
       "      <th></th>\n",
       "      <th></th>\n",
       "      <th></th>\n",
       "      <th></th>\n",
       "      <th></th>\n",
       "      <th></th>\n",
       "    </tr>\n",
       "  </thead>\n",
       "  <tbody>\n",
       "    <tr>\n",
       "      <th>2019-01-03</th>\n",
       "      <td>11842.2</td>\n",
       "      <td>11224.9</td>\n",
       "      <td>11982.5</td>\n",
       "      <td>11224.9</td>\n",
       "      <td>40.97K</td>\n",
       "      <td>-0.24%</td>\n",
       "    </tr>\n",
       "    <tr>\n",
       "      <th>2019-01-04</th>\n",
       "      <td>11393.2</td>\n",
       "      <td>12207.0</td>\n",
       "      <td>12207.0</td>\n",
       "      <td>11393.2</td>\n",
       "      <td>0.92K</td>\n",
       "      <td>-3.79%</td>\n",
       "    </tr>\n",
       "    <tr>\n",
       "      <th>2019-01-07</th>\n",
       "      <td>11421.3</td>\n",
       "      <td>11786.1</td>\n",
       "      <td>11786.1</td>\n",
       "      <td>11252.9</td>\n",
       "      <td>44.97K</td>\n",
       "      <td>0.25%</td>\n",
       "    </tr>\n",
       "    <tr>\n",
       "      <th>2019-01-08</th>\n",
       "      <td>11421.3</td>\n",
       "      <td>11645.8</td>\n",
       "      <td>11645.8</td>\n",
       "      <td>11224.9</td>\n",
       "      <td>10.47K</td>\n",
       "      <td>0.00%</td>\n",
       "    </tr>\n",
       "    <tr>\n",
       "      <th>2019-01-09</th>\n",
       "      <td>11421.3</td>\n",
       "      <td>11758.0</td>\n",
       "      <td>11758.0</td>\n",
       "      <td>11224.9</td>\n",
       "      <td>8.62K</td>\n",
       "      <td>0.00%</td>\n",
       "    </tr>\n",
       "    <tr>\n",
       "      <th>...</th>\n",
       "      <td>...</td>\n",
       "      <td>...</td>\n",
       "      <td>...</td>\n",
       "      <td>...</td>\n",
       "      <td>...</td>\n",
       "      <td>...</td>\n",
       "    </tr>\n",
       "    <tr>\n",
       "      <th>2024-04-11</th>\n",
       "      <td>26500.0</td>\n",
       "      <td>26500.0</td>\n",
       "      <td>27000.0</td>\n",
       "      <td>26100.0</td>\n",
       "      <td>56.40K</td>\n",
       "      <td>-0.38%</td>\n",
       "    </tr>\n",
       "    <tr>\n",
       "      <th>2024-04-12</th>\n",
       "      <td>26900.0</td>\n",
       "      <td>26800.0</td>\n",
       "      <td>27200.0</td>\n",
       "      <td>26500.0</td>\n",
       "      <td>29.56K</td>\n",
       "      <td>1.51%</td>\n",
       "    </tr>\n",
       "    <tr>\n",
       "      <th>2024-04-15</th>\n",
       "      <td>26800.0</td>\n",
       "      <td>26900.0</td>\n",
       "      <td>27400.0</td>\n",
       "      <td>26500.0</td>\n",
       "      <td>51.17K</td>\n",
       "      <td>-0.37%</td>\n",
       "    </tr>\n",
       "    <tr>\n",
       "      <th>2024-04-16</th>\n",
       "      <td>26400.0</td>\n",
       "      <td>26300.0</td>\n",
       "      <td>26800.0</td>\n",
       "      <td>26100.0</td>\n",
       "      <td>69.69K</td>\n",
       "      <td>-1.49%</td>\n",
       "    </tr>\n",
       "    <tr>\n",
       "      <th>2024-04-17</th>\n",
       "      <td>26700.0</td>\n",
       "      <td>26600.0</td>\n",
       "      <td>27200.0</td>\n",
       "      <td>26500.0</td>\n",
       "      <td>104.91K</td>\n",
       "      <td>1.14%</td>\n",
       "    </tr>\n",
       "  </tbody>\n",
       "</table>\n",
       "<p>1320 rows × 6 columns</p>\n",
       "</div>"
      ],
      "text/plain": [
       "              Price     Open     High      Low     Vol. Change %\n",
       "Date                                                            \n",
       "2019-01-03  11842.2  11224.9  11982.5  11224.9   40.97K   -0.24%\n",
       "2019-01-04  11393.2  12207.0  12207.0  11393.2    0.92K   -3.79%\n",
       "2019-01-07  11421.3  11786.1  11786.1  11252.9   44.97K    0.25%\n",
       "2019-01-08  11421.3  11645.8  11645.8  11224.9   10.47K    0.00%\n",
       "2019-01-09  11421.3  11758.0  11758.0  11224.9    8.62K    0.00%\n",
       "...             ...      ...      ...      ...      ...      ...\n",
       "2024-04-11  26500.0  26500.0  27000.0  26100.0   56.40K   -0.38%\n",
       "2024-04-12  26900.0  26800.0  27200.0  26500.0   29.56K    1.51%\n",
       "2024-04-15  26800.0  26900.0  27400.0  26500.0   51.17K   -0.37%\n",
       "2024-04-16  26400.0  26300.0  26800.0  26100.0   69.69K   -1.49%\n",
       "2024-04-17  26700.0  26600.0  27200.0  26500.0  104.91K    1.14%\n",
       "\n",
       "[1320 rows x 6 columns]"
      ]
     },
     "execution_count": 27,
     "metadata": {},
     "output_type": "execute_result"
    }
   ],
   "source": [
    "df"
   ]
  },
  {
   "cell_type": "code",
   "execution_count": 28,
   "metadata": {},
   "outputs": [],
   "source": [
    "# Select features and target\n",
    "features = df[['Open', 'High', 'Low', 'Price']].values\n",
    "target = df['Price'].values"
   ]
  },
  {
   "cell_type": "code",
   "execution_count": 29,
   "metadata": {},
   "outputs": [],
   "source": [
    "# Scale the data\n",
    "scaler = MinMaxScaler(feature_range=(0, 1))\n",
    "scaled_features = scaler.fit_transform(features)\n",
    "scaled_target = scaler.fit_transform(np.array(target).reshape(-1, 1))"
   ]
  },
  {
   "cell_type": "code",
   "execution_count": 30,
   "metadata": {},
   "outputs": [],
   "source": [
    "# Split data into training and testing sets\n",
    "train_size = int(0.9 * len(scaled_target))\n",
    "test_size = len(scaled_target) - train_size\n",
    "\n",
    "train_features = scaled_features[:train_size]\n",
    "train_target = scaled_target[:train_size]\n",
    "test_features = scaled_features[train_size:]\n",
    "test_target = scaled_target[train_size:]"
   ]
  },
  {
   "cell_type": "code",
   "execution_count": 31,
   "metadata": {},
   "outputs": [],
   "source": [
    "# Function to create dataset matrix\n",
    "def create_dataset(features, target, time_step=1):\n",
    "    dataX, dataY = [], []\n",
    "    for i in range(len(target) - time_step - 1):\n",
    "        a = features[i:(i + time_step)]\n",
    "        dataX.append(a)\n",
    "        dataY.append(target[i + time_step])\n",
    "    return np.array(dataX), np.array(dataY)"
   ]
  },
  {
   "cell_type": "code",
   "execution_count": 32,
   "metadata": {},
   "outputs": [],
   "source": [
    "# Create training and testing datasets\n",
    "time_step = 100\n",
    "X_train, y_train = create_dataset(train_features, train_target, time_step)\n",
    "X_test, ytest = create_dataset(test_features, test_target, time_step)"
   ]
  },
  {
   "cell_type": "code",
   "execution_count": 33,
   "metadata": {},
   "outputs": [],
   "source": [
    "# Reshape input to be [samples, time steps, features] for LSTM\n",
    "X_train = X_train.reshape(X_train.shape[0], X_train.shape[1], X_train.shape[2])\n",
    "X_test = X_test.reshape(X_test.shape[0], X_test.shape[1], X_test.shape[2])"
   ]
  },
  {
   "cell_type": "code",
   "execution_count": 34,
   "metadata": {},
   "outputs": [
    {
     "name": "stdout",
     "output_type": "stream",
     "text": [
      "Epoch 1/10\n"
     ]
    },
    {
     "name": "stderr",
     "output_type": "stream",
     "text": [
      "c:\\Users\\miynzi\\AppData\\Local\\Programs\\Python\\Python312\\Lib\\site-packages\\keras\\src\\layers\\rnn\\rnn.py:204: UserWarning: Do not pass an `input_shape`/`input_dim` argument to a layer. When using Sequential models, prefer using an `Input(shape)` object as the first layer in the model instead.\n",
      "  super().__init__(**kwargs)\n"
     ]
    },
    {
     "name": "stdout",
     "output_type": "stream",
     "text": [
      "\u001b[1m28/28\u001b[0m \u001b[32m━━━━━━━━━━━━━━━━━━━━\u001b[0m\u001b[37m\u001b[0m \u001b[1m2s\u001b[0m 25ms/step - loss: 0.0255 - val_loss: 0.0056\n",
      "Epoch 2/10\n",
      "\u001b[1m28/28\u001b[0m \u001b[32m━━━━━━━━━━━━━━━━━━━━\u001b[0m\u001b[37m\u001b[0m \u001b[1m1s\u001b[0m 19ms/step - loss: 6.5813e-04 - val_loss: 0.0049\n",
      "Epoch 3/10\n",
      "\u001b[1m28/28\u001b[0m \u001b[32m━━━━━━━━━━━━━━━━━━━━\u001b[0m\u001b[37m\u001b[0m \u001b[1m1s\u001b[0m 19ms/step - loss: 5.4834e-04 - val_loss: 0.0042\n",
      "Epoch 4/10\n",
      "\u001b[1m28/28\u001b[0m \u001b[32m━━━━━━━━━━━━━━━━━━━━\u001b[0m\u001b[37m\u001b[0m \u001b[1m1s\u001b[0m 18ms/step - loss: 5.2626e-04 - val_loss: 0.0040\n",
      "Epoch 5/10\n",
      "\u001b[1m28/28\u001b[0m \u001b[32m━━━━━━━━━━━━━━━━━━━━\u001b[0m\u001b[37m\u001b[0m \u001b[1m1s\u001b[0m 18ms/step - loss: 4.3484e-04 - val_loss: 0.0035\n",
      "Epoch 6/10\n",
      "\u001b[1m28/28\u001b[0m \u001b[32m━━━━━━━━━━━━━━━━━━━━\u001b[0m\u001b[37m\u001b[0m \u001b[1m1s\u001b[0m 18ms/step - loss: 3.7233e-04 - val_loss: 0.0033\n",
      "Epoch 7/10\n",
      "\u001b[1m28/28\u001b[0m \u001b[32m━━━━━━━━━━━━━━━━━━━━\u001b[0m\u001b[37m\u001b[0m \u001b[1m1s\u001b[0m 19ms/step - loss: 4.5316e-04 - val_loss: 0.0035\n",
      "Epoch 8/10\n",
      "\u001b[1m28/28\u001b[0m \u001b[32m━━━━━━━━━━━━━━━━━━━━\u001b[0m\u001b[37m\u001b[0m \u001b[1m1s\u001b[0m 19ms/step - loss: 4.1740e-04 - val_loss: 0.0030\n",
      "Epoch 9/10\n",
      "\u001b[1m28/28\u001b[0m \u001b[32m━━━━━━━━━━━━━━━━━━━━\u001b[0m\u001b[37m\u001b[0m \u001b[1m1s\u001b[0m 19ms/step - loss: 3.6105e-04 - val_loss: 0.0030\n",
      "Epoch 10/10\n",
      "\u001b[1m28/28\u001b[0m \u001b[32m━━━━━━━━━━━━━━━━━━━━\u001b[0m\u001b[37m\u001b[0m \u001b[1m1s\u001b[0m 18ms/step - loss: 3.4892e-04 - val_loss: 0.0029\n"
     ]
    },
    {
     "data": {
      "text/plain": [
       "<keras.src.callbacks.history.History at 0x1a0d6609d00>"
      ]
     },
     "execution_count": 34,
     "metadata": {},
     "output_type": "execute_result"
    }
   ],
   "source": [
    "# Build and train RNN model\n",
    "rnn_model = Sequential()\n",
    "rnn_model.add(LSTM(64, input_shape=(X_train.shape[1], X_train.shape[2])))\n",
    "rnn_model.add(Dense(32, activation='relu'))\n",
    "rnn_model.add(Dense(1))\n",
    "rnn_model.compile(optimizer='adam', loss='mse')\n",
    "rnn_model.fit(X_train, y_train, epochs=10, batch_size=32, validation_split=0.2)"
   ]
  },
  {
   "cell_type": "code",
   "execution_count": 35,
   "metadata": {},
   "outputs": [
    {
     "name": "stdout",
     "output_type": "stream",
     "text": [
      "\u001b[1m34/34\u001b[0m \u001b[32m━━━━━━━━━━━━━━━━━━━━\u001b[0m\u001b[37m\u001b[0m \u001b[1m0s\u001b[0m 8ms/step\n",
      "\u001b[1m1/1\u001b[0m \u001b[32m━━━━━━━━━━━━━━━━━━━━\u001b[0m\u001b[37m\u001b[0m \u001b[1m0s\u001b[0m 18ms/step\n"
     ]
    }
   ],
   "source": [
    "# Extract features from RNN\n",
    "train_features_rnn = rnn_model.predict(X_train)\n",
    "test_features_rnn = rnn_model.predict(X_test)"
   ]
  },
  {
   "cell_type": "code",
   "execution_count": 36,
   "metadata": {},
   "outputs": [],
   "source": [
    "# Prepare data for LightGBM\n",
    "train_data_lgb = lgb.Dataset(train_features_rnn, label=y_train)\n",
    "test_data_lgb = lgb.Dataset(test_features_rnn, label=ytest, reference=train_data_lgb)"
   ]
  },
  {
   "cell_type": "code",
   "execution_count": 37,
   "metadata": {},
   "outputs": [],
   "source": [
    "# LightGBM parameters\n",
    "params = {\n",
    "    'objective': 'regression',\n",
    "    'metric': 'rmse',\n",
    "    'boosting_type': 'gbdt',\n",
    "    'num_leaves': 31,\n",
    "    'learning_rate': 0.05,\n",
    "    'feature_fraction': 0.9\n",
    "}"
   ]
  },
  {
   "cell_type": "code",
   "execution_count": 38,
   "metadata": {},
   "outputs": [
    {
     "name": "stdout",
     "output_type": "stream",
     "text": [
      "[LightGBM] [Info] Auto-choosing col-wise multi-threading, the overhead of testing was 0.000044 seconds.\n",
      "You can set `force_col_wise=true` to remove the overhead.\n",
      "[LightGBM] [Info] Total Bins 255\n",
      "[LightGBM] [Info] Number of data points in the train set: 1087, number of used features: 1\n",
      "[LightGBM] [Info] Start training from score 0.340052\n",
      "Training until validation scores don't improve for 10 rounds\n",
      "Did not meet early stopping. Best iteration is:\n",
      "[98]\ttrain's rmse: 0.0282943\tvalid's rmse: 0.045674\n"
     ]
    },
    {
     "name": "stderr",
     "output_type": "stream",
     "text": [
      "c:\\Users\\miynzi\\AppData\\Local\\Programs\\Python\\Python312\\Lib\\site-packages\\lightgbm\\basic.py:335: UserWarning: Converting column-vector to 1d array\n",
      "  _log_warning('Converting column-vector to 1d array')\n"
     ]
    }
   ],
   "source": [
    "# Train LightGBM model with early stopping\n",
    "evals_result = {}\n",
    "lgb_model = lgb.train(\n",
    "    params,\n",
    "    train_data_lgb,\n",
    "    num_boost_round=100,\n",
    "    valid_sets=[train_data_lgb, test_data_lgb],\n",
    "    valid_names=['train', 'valid'],\n",
    "    callbacks=[lgb.early_stopping(stopping_rounds=10), lgb.record_evaluation(evals_result)]\n",
    ")"
   ]
  },
  {
   "cell_type": "code",
   "execution_count": 39,
   "metadata": {},
   "outputs": [],
   "source": [
    "# Predict using LightGBM\n",
    "y_pred = lgb_model.predict(test_features_rnn, num_iteration=lgb_model.best_iteration)"
   ]
  },
  {
   "cell_type": "code",
   "execution_count": 40,
   "metadata": {},
   "outputs": [],
   "source": [
    "# Define evaluation metric functions\n",
    "def mean_absolute_percentage_error(y_true, y_pred):\n",
    "    y_true, y_pred = np.array(y_true), np.array(y_pred)\n",
    "    return np.mean(np.abs((y_true - y_pred) / y_true)) * 100\n",
    "\n",
    "def root_mean_squared_error(y_true, y_pred):\n",
    "    return np.sqrt(mean_squared_error(y_true, y_pred))"
   ]
  },
  {
   "cell_type": "code",
   "execution_count": 41,
   "metadata": {},
   "outputs": [],
   "source": [
    "# Calculate evaluation metrics\n",
    "rmse = root_mean_squared_error(ytest, y_pred)\n",
    "mape = mean_absolute_percentage_error(ytest, y_pred)\n",
    "msle = mean_squared_log_error(ytest, y_pred)\n",
    "mse = mean_squared_error(ytest, y_pred)\n",
    "mae = mean_absolute_error(ytest, y_pred)"
   ]
  },
  {
   "cell_type": "code",
   "execution_count": 42,
   "metadata": {},
   "outputs": [
    {
     "name": "stdout",
     "output_type": "stream",
     "text": [
      "Root Mean Squared Error (RMSE): 0.04567396938981644\n",
      "Mean Absolute Percentage Error (MAPE): 5.2774215413597%\n",
      "Mean Squared Logarithmic Error (MSLE): 0.0006158077814868525\n",
      "Mean Squared Error (MSE): 0.0020861114798218887\n",
      "Mean Absolute Error (MAE): 0.03778978524852769\n"
     ]
    }
   ],
   "source": [
    "# Print evaluation metrics\n",
    "print(f'Root Mean Squared Error (RMSE): {rmse}')\n",
    "print(f'Mean Absolute Percentage Error (MAPE): {mape}%')\n",
    "print(f'Mean Squared Logarithmic Error (MSLE): {msle}')\n",
    "print(f'Mean Squared Error (MSE): {mse}')\n",
    "print(f'Mean Absolute Error (MAE): {mae}')\n"
   ]
  },
  {
   "cell_type": "code",
   "execution_count": 43,
   "metadata": {},
   "outputs": [],
   "source": [
    "# Prepare initial data for predicting next 30 days\n",
    "initial_data = scaled_features[-time_step:]"
   ]
  },
  {
   "cell_type": "code",
   "execution_count": 44,
   "metadata": {},
   "outputs": [],
   "source": [
    "def predict_next_30_days(rnn_model, lgb_model, initial_data, time_step=100):\n",
    "    predictions = []\n",
    "    current_sequence = initial_data.reshape(1, time_step, initial_data.shape[1])\n",
    "\n",
    "    for _ in range(30):\n",
    "        # Predict features using RNN\n",
    "        rnn_features = rnn_model.predict(current_sequence)\n",
    "\n",
    "        # Predict the next day's closing price using LightGBM\n",
    "        next_close = lgb_model.predict(rnn_features)\n",
    "\n",
    "        # Append the prediction\n",
    "        predictions.append(next_close[0])\n",
    "\n",
    "        # Update the sequence with the new prediction\n",
    "        current_sequence[:, :-1, :] = current_sequence[:, 1:, :]\n",
    "        current_sequence[:, -1, -1] = next_close[0]\n",
    "\n",
    "    return predictions"
   ]
  },
  {
   "cell_type": "code",
   "execution_count": 45,
   "metadata": {},
   "outputs": [
    {
     "name": "stdout",
     "output_type": "stream",
     "text": [
      "\u001b[1m1/1\u001b[0m \u001b[32m━━━━━━━━━━━━━━━━━━━━\u001b[0m\u001b[37m\u001b[0m \u001b[1m0s\u001b[0m 15ms/step\n",
      "\u001b[1m1/1\u001b[0m \u001b[32m━━━━━━━━━━━━━━━━━━━━\u001b[0m\u001b[37m\u001b[0m \u001b[1m0s\u001b[0m 30ms/step\n",
      "\u001b[1m1/1\u001b[0m \u001b[32m━━━━━━━━━━━━━━━━━━━━\u001b[0m\u001b[37m\u001b[0m \u001b[1m0s\u001b[0m 24ms/step\n",
      "\u001b[1m1/1\u001b[0m \u001b[32m━━━━━━━━━━━━━━━━━━━━\u001b[0m\u001b[37m\u001b[0m \u001b[1m0s\u001b[0m 23ms/step\n",
      "\u001b[1m1/1\u001b[0m \u001b[32m━━━━━━━━━━━━━━━━━━━━\u001b[0m\u001b[37m\u001b[0m \u001b[1m0s\u001b[0m 23ms/step\n",
      "\u001b[1m1/1\u001b[0m \u001b[32m━━━━━━━━━━━━━━━━━━━━\u001b[0m\u001b[37m\u001b[0m \u001b[1m0s\u001b[0m 25ms/step\n",
      "\u001b[1m1/1\u001b[0m \u001b[32m━━━━━━━━━━━━━━━━━━━━\u001b[0m\u001b[37m\u001b[0m \u001b[1m0s\u001b[0m 24ms/step\n",
      "\u001b[1m1/1\u001b[0m \u001b[32m━━━━━━━━━━━━━━━━━━━━\u001b[0m\u001b[37m\u001b[0m \u001b[1m0s\u001b[0m 23ms/step\n",
      "\u001b[1m1/1\u001b[0m \u001b[32m━━━━━━━━━━━━━━━━━━━━\u001b[0m\u001b[37m\u001b[0m \u001b[1m0s\u001b[0m 24ms/step\n",
      "\u001b[1m1/1\u001b[0m \u001b[32m━━━━━━━━━━━━━━━━━━━━\u001b[0m\u001b[37m\u001b[0m \u001b[1m0s\u001b[0m 24ms/step\n",
      "\u001b[1m1/1\u001b[0m \u001b[32m━━━━━━━━━━━━━━━━━━━━\u001b[0m\u001b[37m\u001b[0m \u001b[1m0s\u001b[0m 24ms/step\n",
      "\u001b[1m1/1\u001b[0m \u001b[32m━━━━━━━━━━━━━━━━━━━━\u001b[0m\u001b[37m\u001b[0m \u001b[1m0s\u001b[0m 24ms/step\n",
      "\u001b[1m1/1\u001b[0m \u001b[32m━━━━━━━━━━━━━━━━━━━━\u001b[0m\u001b[37m\u001b[0m \u001b[1m0s\u001b[0m 23ms/step\n",
      "\u001b[1m1/1\u001b[0m \u001b[32m━━━━━━━━━━━━━━━━━━━━\u001b[0m\u001b[37m\u001b[0m \u001b[1m0s\u001b[0m 23ms/step\n",
      "\u001b[1m1/1\u001b[0m \u001b[32m━━━━━━━━━━━━━━━━━━━━\u001b[0m\u001b[37m\u001b[0m \u001b[1m0s\u001b[0m 25ms/step\n",
      "\u001b[1m1/1\u001b[0m \u001b[32m━━━━━━━━━━━━━━━━━━━━\u001b[0m\u001b[37m\u001b[0m \u001b[1m0s\u001b[0m 24ms/step\n",
      "\u001b[1m1/1\u001b[0m \u001b[32m━━━━━━━━━━━━━━━━━━━━\u001b[0m\u001b[37m\u001b[0m \u001b[1m0s\u001b[0m 25ms/step\n",
      "\u001b[1m1/1\u001b[0m \u001b[32m━━━━━━━━━━━━━━━━━━━━\u001b[0m\u001b[37m\u001b[0m \u001b[1m0s\u001b[0m 23ms/step\n",
      "\u001b[1m1/1\u001b[0m \u001b[32m━━━━━━━━━━━━━━━━━━━━\u001b[0m\u001b[37m\u001b[0m \u001b[1m0s\u001b[0m 27ms/step\n",
      "\u001b[1m1/1\u001b[0m \u001b[32m━━━━━━━━━━━━━━━━━━━━\u001b[0m\u001b[37m\u001b[0m \u001b[1m0s\u001b[0m 26ms/step\n",
      "\u001b[1m1/1\u001b[0m \u001b[32m━━━━━━━━━━━━━━━━━━━━\u001b[0m\u001b[37m\u001b[0m \u001b[1m0s\u001b[0m 24ms/step\n",
      "\u001b[1m1/1\u001b[0m \u001b[32m━━━━━━━━━━━━━━━━━━━━\u001b[0m\u001b[37m\u001b[0m \u001b[1m0s\u001b[0m 29ms/step\n",
      "\u001b[1m1/1\u001b[0m \u001b[32m━━━━━━━━━━━━━━━━━━━━\u001b[0m\u001b[37m\u001b[0m \u001b[1m0s\u001b[0m 27ms/step\n",
      "\u001b[1m1/1\u001b[0m \u001b[32m━━━━━━━━━━━━━━━━━━━━\u001b[0m\u001b[37m\u001b[0m \u001b[1m0s\u001b[0m 26ms/step\n",
      "\u001b[1m1/1\u001b[0m \u001b[32m━━━━━━━━━━━━━━━━━━━━\u001b[0m\u001b[37m\u001b[0m \u001b[1m0s\u001b[0m 24ms/step\n",
      "\u001b[1m1/1\u001b[0m \u001b[32m━━━━━━━━━━━━━━━━━━━━\u001b[0m\u001b[37m\u001b[0m \u001b[1m0s\u001b[0m 26ms/step\n",
      "\u001b[1m1/1\u001b[0m \u001b[32m━━━━━━━━━━━━━━━━━━━━\u001b[0m\u001b[37m\u001b[0m \u001b[1m0s\u001b[0m 26ms/step\n",
      "\u001b[1m1/1\u001b[0m \u001b[32m━━━━━━━━━━━━━━━━━━━━\u001b[0m\u001b[37m\u001b[0m \u001b[1m0s\u001b[0m 29ms/step\n",
      "\u001b[1m1/1\u001b[0m \u001b[32m━━━━━━━━━━━━━━━━━━━━\u001b[0m\u001b[37m\u001b[0m \u001b[1m0s\u001b[0m 25ms/step\n",
      "\u001b[1m1/1\u001b[0m \u001b[32m━━━━━━━━━━━━━━━━━━━━\u001b[0m\u001b[37m\u001b[0m \u001b[1m0s\u001b[0m 27ms/step\n",
      "Dự đoán giá đóng cửa cho 30 ngày tiếp theo: [0.8546057732856965, 0.8546057732856965, 0.8546057732856965, 0.8546057732856965, 0.8546057732856965, 0.8546057732856965, 0.8546057732856965, 0.8546057732856965, 0.8546057732856965, 0.8546057732856965, 0.8546057732856965, 0.8546057732856965, 0.8546057732856965, 0.8546057732856965, 0.8546057732856965, 0.8546057732856965, 0.8546057732856965, 0.8546057732856965, 0.8546057732856965, 0.8546057732856965, 0.8546057732856965, 0.8546057732856965, 0.8546057732856965, 0.8546057732856965, 0.8546057732856965, 0.8546057732856965, 0.8546057732856965, 0.8546057732856965, 0.8546057732856965, 0.8546057732856965]\n"
     ]
    }
   ],
   "source": [
    "# Predict next 30 days\n",
    "next_30_days_predictions = predict_next_30_days(rnn_model, lgb_model, initial_data)\n",
    "print(\"Dự đoán giá đóng cửa cho 30 ngày tiếp theo:\", next_30_days_predictions)"
   ]
  },
  {
   "cell_type": "code",
   "execution_count": 46,
   "metadata": {},
   "outputs": [
    {
     "data": {
      "image/png": "[encoded data removed]",
      "text/plain": [
       "<Figure size 640x480 with 1 Axes>"
      ]
     },
     "metadata": {},
     "output_type": "display_data"
    }
   ],
   "source": [
    "import matplotlib.pyplot as plt\n",
    "\n",
    "# Plotting train data\n",
    "train_data_index = pd.RangeIndex(start=0, stop=len(train_features_rnn), step=1)\n",
    "plt.plot(train_data_index, scaler.inverse_transform(train_features_rnn), label='Train')\n",
    "\n",
    "# Plotting test data\n",
    "test_data_index = pd.RangeIndex(start=len(train_features_rnn), stop=len(train_features_rnn) + len(test_features_rnn), step=1)\n",
    "plt.plot(test_data_index, scaler.inverse_transform(test_features_rnn), label='Test')\n",
    "\n",
    "# Adjusting y_pred to have correct shape and length\n",
    "test_data_index_pred = pd.RangeIndex(start=len(train_features_rnn), stop=len(train_features_rnn) + len(y_pred), step=1)\n",
    "plt.plot(test_data_index_pred, scaler.inverse_transform(np.array(y_pred).reshape(-1, 1)), label='Predict')\n",
    "\n",
    "# Adjusting next_30_days_predictions to have correct shape and length\n",
    "predict_data_index = pd.RangeIndex(start=len(df), stop=len(df) + len(next_30_days_predictions), step=1)\n",
    "plt.plot(predict_data_index, scaler.inverse_transform(np.array(next_30_days_predictions).reshape(-1, 1)), label='Predict30days')\n",
    "\n",
    "plt.legend(['Train', 'Test', 'Predict', 'Predict30days'])\n",
    "plt.show()"
   ]
  },
  {
   "cell_type": "markdown",
   "metadata": {},
   "source": [
    "DP3 Historical Data"
   ]
  },
  {
   "cell_type": "code",
   "execution_count": 47,
   "metadata": {},
   "outputs": [],
   "source": [
    "import numpy as np\n",
    "import pandas as pd\n",
    "\n",
    "from sklearn.preprocessing import MinMaxScaler\n",
    "from sklearn.model_selection import train_test_split\n",
    "\n",
    "import tensorflow as tf\n",
    "from tensorflow.keras.models import Sequential\n",
    "from tensorflow.keras.layers import LSTM, Dense\n",
    "\n",
    "import lightgbm as lgb\n",
    "\n",
    "from sklearn.metrics import mean_absolute_error, mean_squared_error, mean_squared_log_error"
   ]
  },
  {
   "cell_type": "code",
   "execution_count": 48,
   "metadata": {},
   "outputs": [
    {
     "data": {
      "text/html": [
       "<div>\n",
       "<style scoped>\n",
       "    .dataframe tbody tr th:only-of-type {\n",
       "        vertical-align: middle;\n",
       "    }\n",
       "\n",
       "    .dataframe tbody tr th {\n",
       "        vertical-align: top;\n",
       "    }\n",
       "\n",
       "    .dataframe thead th {\n",
       "        text-align: right;\n",
       "    }\n",
       "</style>\n",
       "<table border=\"1\" class=\"dataframe\">\n",
       "  <thead>\n",
       "    <tr style=\"text-align: right;\">\n",
       "      <th></th>\n",
       "      <th>Date</th>\n",
       "      <th>Price</th>\n",
       "      <th>Open</th>\n",
       "      <th>High</th>\n",
       "      <th>Low</th>\n",
       "      <th>Vol.</th>\n",
       "      <th>Change %</th>\n",
       "    </tr>\n",
       "  </thead>\n",
       "  <tbody>\n",
       "    <tr>\n",
       "      <th>0</th>\n",
       "      <td>04/17/2024</td>\n",
       "      <td>68,000</td>\n",
       "      <td>68,000</td>\n",
       "      <td>68,300</td>\n",
       "      <td>68,000</td>\n",
       "      <td>8.91K</td>\n",
       "      <td>0.00%</td>\n",
       "    </tr>\n",
       "    <tr>\n",
       "      <th>1</th>\n",
       "      <td>04/16/2024</td>\n",
       "      <td>68,000</td>\n",
       "      <td>68,600</td>\n",
       "      <td>68,600</td>\n",
       "      <td>66,900</td>\n",
       "      <td>10.76K</td>\n",
       "      <td>-0.73%</td>\n",
       "    </tr>\n",
       "    <tr>\n",
       "      <th>2</th>\n",
       "      <td>04/15/2024</td>\n",
       "      <td>68,500</td>\n",
       "      <td>69,300</td>\n",
       "      <td>69,300</td>\n",
       "      <td>68,000</td>\n",
       "      <td>14.22K</td>\n",
       "      <td>-1.15%</td>\n",
       "    </tr>\n",
       "    <tr>\n",
       "      <th>3</th>\n",
       "      <td>04/12/2024</td>\n",
       "      <td>69,300</td>\n",
       "      <td>68,900</td>\n",
       "      <td>69,300</td>\n",
       "      <td>68,900</td>\n",
       "      <td>3.01K</td>\n",
       "      <td>0.58%</td>\n",
       "    </tr>\n",
       "    <tr>\n",
       "      <th>4</th>\n",
       "      <td>04/11/2024</td>\n",
       "      <td>68,900</td>\n",
       "      <td>69,500</td>\n",
       "      <td>69,500</td>\n",
       "      <td>68,200</td>\n",
       "      <td>5.36K</td>\n",
       "      <td>-0.86%</td>\n",
       "    </tr>\n",
       "    <tr>\n",
       "      <th>5</th>\n",
       "      <td>04/10/2024</td>\n",
       "      <td>69,500</td>\n",
       "      <td>69,500</td>\n",
       "      <td>69,500</td>\n",
       "      <td>69,500</td>\n",
       "      <td>2.30K</td>\n",
       "      <td>0.58%</td>\n",
       "    </tr>\n",
       "    <tr>\n",
       "      <th>6</th>\n",
       "      <td>04/09/2024</td>\n",
       "      <td>69,100</td>\n",
       "      <td>70,500</td>\n",
       "      <td>70,500</td>\n",
       "      <td>69,100</td>\n",
       "      <td>2.47K</td>\n",
       "      <td>-1.14%</td>\n",
       "    </tr>\n",
       "    <tr>\n",
       "      <th>7</th>\n",
       "      <td>04/08/2024</td>\n",
       "      <td>69,900</td>\n",
       "      <td>70,000</td>\n",
       "      <td>70,000</td>\n",
       "      <td>68,000</td>\n",
       "      <td>6.30K</td>\n",
       "      <td>-0.14%</td>\n",
       "    </tr>\n",
       "    <tr>\n",
       "      <th>8</th>\n",
       "      <td>04/05/2024</td>\n",
       "      <td>70,000</td>\n",
       "      <td>70,000</td>\n",
       "      <td>70,000</td>\n",
       "      <td>67,500</td>\n",
       "      <td>10.25K</td>\n",
       "      <td>0.00%</td>\n",
       "    </tr>\n",
       "    <tr>\n",
       "      <th>9</th>\n",
       "      <td>04/04/2024</td>\n",
       "      <td>70,000</td>\n",
       "      <td>70,400</td>\n",
       "      <td>70,700</td>\n",
       "      <td>70,000</td>\n",
       "      <td>2.80K</td>\n",
       "      <td>-0.57%</td>\n",
       "    </tr>\n",
       "  </tbody>\n",
       "</table>\n",
       "</div>"
      ],
      "text/plain": [
       "         Date   Price    Open    High     Low    Vol. Change %\n",
       "0  04/17/2024  68,000  68,000  68,300  68,000   8.91K    0.00%\n",
       "1  04/16/2024  68,000  68,600  68,600  66,900  10.76K   -0.73%\n",
       "2  04/15/2024  68,500  69,300  69,300  68,000  14.22K   -1.15%\n",
       "3  04/12/2024  69,300  68,900  69,300  68,900   3.01K    0.58%\n",
       "4  04/11/2024  68,900  69,500  69,500  68,200   5.36K   -0.86%\n",
       "5  04/10/2024  69,500  69,500  69,500  69,500   2.30K    0.58%\n",
       "6  04/09/2024  69,100  70,500  70,500  69,100   2.47K   -1.14%\n",
       "7  04/08/2024  69,900  70,000  70,000  68,000   6.30K   -0.14%\n",
       "8  04/05/2024  70,000  70,000  70,000  67,500  10.25K    0.00%\n",
       "9  04/04/2024  70,000  70,400  70,700  70,000   2.80K   -0.57%"
      ]
     },
     "execution_count": 48,
     "metadata": {},
     "output_type": "execute_result"
    }
   ],
   "source": [
    "df = pd.read_csv('DP3 Historical Data.csv')\n",
    "df.head(10)"
   ]
  },
  {
   "cell_type": "code",
   "execution_count": 49,
   "metadata": {},
   "outputs": [],
   "source": [
    "# Convert the 'Date' column to datetime format\n",
    "df['Date'] = pd.to_datetime(df['Date'])\n",
    "\n",
    "# Sort the data by date in ascending order\n",
    "df = df.sort_values('Date')\n",
    "\n",
    "# Set the 'Date' column as the index value\n",
    "df.set_index('Date', inplace=True)\n",
    "df = df.replace(',', '', regex=True)\n"
   ]
  },
  {
   "cell_type": "code",
   "execution_count": 50,
   "metadata": {},
   "outputs": [
    {
     "data": {
      "text/html": [
       "<div>\n",
       "<style scoped>\n",
       "    .dataframe tbody tr th:only-of-type {\n",
       "        vertical-align: middle;\n",
       "    }\n",
       "\n",
       "    .dataframe tbody tr th {\n",
       "        vertical-align: top;\n",
       "    }\n",
       "\n",
       "    .dataframe thead th {\n",
       "        text-align: right;\n",
       "    }\n",
       "</style>\n",
       "<table border=\"1\" class=\"dataframe\">\n",
       "  <thead>\n",
       "    <tr style=\"text-align: right;\">\n",
       "      <th></th>\n",
       "      <th>Price</th>\n",
       "      <th>Open</th>\n",
       "      <th>High</th>\n",
       "      <th>Low</th>\n",
       "      <th>Vol.</th>\n",
       "      <th>Change %</th>\n",
       "    </tr>\n",
       "    <tr>\n",
       "      <th>Date</th>\n",
       "      <th></th>\n",
       "      <th></th>\n",
       "      <th></th>\n",
       "      <th></th>\n",
       "      <th></th>\n",
       "      <th></th>\n",
       "    </tr>\n",
       "  </thead>\n",
       "  <tbody>\n",
       "    <tr>\n",
       "      <th>2019-01-02</th>\n",
       "      <td>85500</td>\n",
       "      <td>85000</td>\n",
       "      <td>92000</td>\n",
       "      <td>85000</td>\n",
       "      <td>12.70K</td>\n",
       "      <td>0.59%</td>\n",
       "    </tr>\n",
       "    <tr>\n",
       "      <th>2019-01-03</th>\n",
       "      <td>86500</td>\n",
       "      <td>85100</td>\n",
       "      <td>87900</td>\n",
       "      <td>85100</td>\n",
       "      <td>6.40K</td>\n",
       "      <td>1.17%</td>\n",
       "    </tr>\n",
       "    <tr>\n",
       "      <th>2019-01-04</th>\n",
       "      <td>87900</td>\n",
       "      <td>86700</td>\n",
       "      <td>88000</td>\n",
       "      <td>86600</td>\n",
       "      <td>4.87K</td>\n",
       "      <td>1.62%</td>\n",
       "    </tr>\n",
       "    <tr>\n",
       "      <th>2019-01-07</th>\n",
       "      <td>87900</td>\n",
       "      <td>86700</td>\n",
       "      <td>87900</td>\n",
       "      <td>86700</td>\n",
       "      <td>5.10K</td>\n",
       "      <td>0.00%</td>\n",
       "    </tr>\n",
       "    <tr>\n",
       "      <th>2019-01-08</th>\n",
       "      <td>91800</td>\n",
       "      <td>88000</td>\n",
       "      <td>92000</td>\n",
       "      <td>88000</td>\n",
       "      <td>19.40K</td>\n",
       "      <td>4.44%</td>\n",
       "    </tr>\n",
       "    <tr>\n",
       "      <th>...</th>\n",
       "      <td>...</td>\n",
       "      <td>...</td>\n",
       "      <td>...</td>\n",
       "      <td>...</td>\n",
       "      <td>...</td>\n",
       "      <td>...</td>\n",
       "    </tr>\n",
       "    <tr>\n",
       "      <th>2024-04-11</th>\n",
       "      <td>68900</td>\n",
       "      <td>69500</td>\n",
       "      <td>69500</td>\n",
       "      <td>68200</td>\n",
       "      <td>5.36K</td>\n",
       "      <td>-0.86%</td>\n",
       "    </tr>\n",
       "    <tr>\n",
       "      <th>2024-04-12</th>\n",
       "      <td>69300</td>\n",
       "      <td>68900</td>\n",
       "      <td>69300</td>\n",
       "      <td>68900</td>\n",
       "      <td>3.01K</td>\n",
       "      <td>0.58%</td>\n",
       "    </tr>\n",
       "    <tr>\n",
       "      <th>2024-04-15</th>\n",
       "      <td>68500</td>\n",
       "      <td>69300</td>\n",
       "      <td>69300</td>\n",
       "      <td>68000</td>\n",
       "      <td>14.22K</td>\n",
       "      <td>-1.15%</td>\n",
       "    </tr>\n",
       "    <tr>\n",
       "      <th>2024-04-16</th>\n",
       "      <td>68000</td>\n",
       "      <td>68600</td>\n",
       "      <td>68600</td>\n",
       "      <td>66900</td>\n",
       "      <td>10.76K</td>\n",
       "      <td>-0.73%</td>\n",
       "    </tr>\n",
       "    <tr>\n",
       "      <th>2024-04-17</th>\n",
       "      <td>68000</td>\n",
       "      <td>68000</td>\n",
       "      <td>68300</td>\n",
       "      <td>68000</td>\n",
       "      <td>8.91K</td>\n",
       "      <td>0.00%</td>\n",
       "    </tr>\n",
       "  </tbody>\n",
       "</table>\n",
       "<p>1146 rows × 6 columns</p>\n",
       "</div>"
      ],
      "text/plain": [
       "            Price   Open   High    Low    Vol. Change %\n",
       "Date                                                   \n",
       "2019-01-02  85500  85000  92000  85000  12.70K    0.59%\n",
       "2019-01-03  86500  85100  87900  85100   6.40K    1.17%\n",
       "2019-01-04  87900  86700  88000  86600   4.87K    1.62%\n",
       "2019-01-07  87900  86700  87900  86700   5.10K    0.00%\n",
       "2019-01-08  91800  88000  92000  88000  19.40K    4.44%\n",
       "...           ...    ...    ...    ...     ...      ...\n",
       "2024-04-11  68900  69500  69500  68200   5.36K   -0.86%\n",
       "2024-04-12  69300  68900  69300  68900   3.01K    0.58%\n",
       "2024-04-15  68500  69300  69300  68000  14.22K   -1.15%\n",
       "2024-04-16  68000  68600  68600  66900  10.76K   -0.73%\n",
       "2024-04-17  68000  68000  68300  68000   8.91K    0.00%\n",
       "\n",
       "[1146 rows x 6 columns]"
      ]
     },
     "execution_count": 50,
     "metadata": {},
     "output_type": "execute_result"
    }
   ],
   "source": [
    "df"
   ]
  },
  {
   "cell_type": "code",
   "execution_count": 51,
   "metadata": {},
   "outputs": [],
   "source": [
    "# Select features and target\n",
    "features = df[['Open', 'High', 'Low', 'Price']].values\n",
    "target = df['Price'].values"
   ]
  },
  {
   "cell_type": "code",
   "execution_count": 52,
   "metadata": {},
   "outputs": [],
   "source": [
    "# Scale the data\n",
    "scaler = MinMaxScaler(feature_range=(0, 1))\n",
    "scaled_features = scaler.fit_transform(features)\n",
    "scaled_target = scaler.fit_transform(np.array(target).reshape(-1, 1))"
   ]
  },
  {
   "cell_type": "code",
   "execution_count": 53,
   "metadata": {},
   "outputs": [],
   "source": [
    "# Split data into training and testing sets\n",
    "train_size = int(0.9 * len(scaled_target))\n",
    "test_size = len(scaled_target) - train_size\n",
    "\n",
    "train_features = scaled_features[:train_size]\n",
    "train_target = scaled_target[:train_size]\n",
    "test_features = scaled_features[train_size:]\n",
    "test_target = scaled_target[train_size:]"
   ]
  },
  {
   "cell_type": "code",
   "execution_count": 54,
   "metadata": {},
   "outputs": [],
   "source": [
    "# Function to create dataset matrix\n",
    "def create_dataset(features, target, time_step=1):\n",
    "    dataX, dataY = [], []\n",
    "    for i in range(len(target) - time_step - 1):\n",
    "        a = features[i:(i + time_step)]\n",
    "        dataX.append(a)\n",
    "        dataY.append(target[i + time_step])\n",
    "    return np.array(dataX), np.array(dataY)"
   ]
  },
  {
   "cell_type": "code",
   "execution_count": 55,
   "metadata": {},
   "outputs": [],
   "source": [
    "# Create training and testing datasets\n",
    "time_step = 100\n",
    "X_train, y_train = create_dataset(train_features, train_target, time_step)\n",
    "X_test, ytest = create_dataset(test_features, test_target, time_step)"
   ]
  },
  {
   "cell_type": "code",
   "execution_count": 56,
   "metadata": {},
   "outputs": [],
   "source": [
    "# Reshape input to be [samples, time steps, features] for LSTM\n",
    "X_train = X_train.reshape(X_train.shape[0], X_train.shape[1], X_train.shape[2])\n",
    "X_test = X_test.reshape(X_test.shape[0], X_test.shape[1], X_test.shape[2])"
   ]
  },
  {
   "cell_type": "code",
   "execution_count": 57,
   "metadata": {},
   "outputs": [
    {
     "name": "stdout",
     "output_type": "stream",
     "text": [
      "Epoch 1/10\n"
     ]
    },
    {
     "name": "stderr",
     "output_type": "stream",
     "text": [
      "c:\\Users\\miynzi\\AppData\\Local\\Programs\\Python\\Python312\\Lib\\site-packages\\keras\\src\\layers\\rnn\\rnn.py:204: UserWarning: Do not pass an `input_shape`/`input_dim` argument to a layer. When using Sequential models, prefer using an `Input(shape)` object as the first layer in the model instead.\n",
      "  super().__init__(**kwargs)\n"
     ]
    },
    {
     "name": "stdout",
     "output_type": "stream",
     "text": [
      "\u001b[1m24/24\u001b[0m \u001b[32m━━━━━━━━━━━━━━━━━━━━\u001b[0m\u001b[37m\u001b[0m \u001b[1m2s\u001b[0m 22ms/step - loss: 0.0306 - val_loss: 0.0135\n",
      "Epoch 2/10\n",
      "\u001b[1m24/24\u001b[0m \u001b[32m━━━━━━━━━━━━━━━━━━━━\u001b[0m\u001b[37m\u001b[0m \u001b[1m0s\u001b[0m 16ms/step - loss: 0.0017 - val_loss: 0.0123\n",
      "Epoch 3/10\n",
      "\u001b[1m24/24\u001b[0m \u001b[32m━━━━━━━━━━━━━━━━━━━━\u001b[0m\u001b[37m\u001b[0m \u001b[1m0s\u001b[0m 16ms/step - loss: 0.0013 - val_loss: 0.0115\n",
      "Epoch 4/10\n",
      "\u001b[1m24/24\u001b[0m \u001b[32m━━━━━━━━━━━━━━━━━━━━\u001b[0m\u001b[37m\u001b[0m \u001b[1m0s\u001b[0m 16ms/step - loss: 0.0013 - val_loss: 0.0111\n",
      "Epoch 5/10\n",
      "\u001b[1m24/24\u001b[0m \u001b[32m━━━━━━━━━━━━━━━━━━━━\u001b[0m\u001b[37m\u001b[0m \u001b[1m0s\u001b[0m 17ms/step - loss: 9.2849e-04 - val_loss: 0.0102\n",
      "Epoch 6/10\n",
      "\u001b[1m24/24\u001b[0m \u001b[32m━━━━━━━━━━━━━━━━━━━━\u001b[0m\u001b[37m\u001b[0m \u001b[1m0s\u001b[0m 16ms/step - loss: 8.5496e-04 - val_loss: 0.0097\n",
      "Epoch 7/10\n",
      "\u001b[1m24/24\u001b[0m \u001b[32m━━━━━━━━━━━━━━━━━━━━\u001b[0m\u001b[37m\u001b[0m \u001b[1m0s\u001b[0m 15ms/step - loss: 0.0010 - val_loss: 0.0094\n",
      "Epoch 8/10\n",
      "\u001b[1m24/24\u001b[0m \u001b[32m━━━━━━━━━━━━━━━━━━━━\u001b[0m\u001b[37m\u001b[0m \u001b[1m0s\u001b[0m 16ms/step - loss: 0.0011 - val_loss: 0.0089\n",
      "Epoch 9/10\n",
      "\u001b[1m24/24\u001b[0m \u001b[32m━━━━━━━━━━━━━━━━━━━━\u001b[0m\u001b[37m\u001b[0m \u001b[1m0s\u001b[0m 17ms/step - loss: 8.1182e-04 - val_loss: 0.0085\n",
      "Epoch 10/10\n",
      "\u001b[1m24/24\u001b[0m \u001b[32m━━━━━━━━━━━━━━━━━━━━\u001b[0m\u001b[37m\u001b[0m \u001b[1m0s\u001b[0m 17ms/step - loss: 8.1015e-04 - val_loss: 0.0083\n"
     ]
    },
    {
     "data": {
      "text/plain": [
       "<keras.src.callbacks.history.History at 0x1a0dbe38920>"
      ]
     },
     "execution_count": 57,
     "metadata": {},
     "output_type": "execute_result"
    }
   ],
   "source": [
    "rnn_model = Sequential()\n",
    "rnn_model.add(LSTM(64, input_shape=(X_train.shape[1], X_train.shape[2])))\n",
    "rnn_model.add(Dense(32, activation='relu'))\n",
    "rnn_model.add(Dense(1))\n",
    "rnn_model.compile(optimizer='adam', loss='mse')\n",
    "rnn_model.fit(X_train, y_train, epochs=10, batch_size=32, validation_split=0.2)"
   ]
  },
  {
   "cell_type": "code",
   "execution_count": 58,
   "metadata": {},
   "outputs": [
    {
     "name": "stdout",
     "output_type": "stream",
     "text": [
      "\u001b[1m30/30\u001b[0m \u001b[32m━━━━━━━━━━━━━━━━━━━━\u001b[0m\u001b[37m\u001b[0m \u001b[1m0s\u001b[0m 8ms/step\n",
      "\u001b[1m1/1\u001b[0m \u001b[32m━━━━━━━━━━━━━━━━━━━━\u001b[0m\u001b[37m\u001b[0m \u001b[1m0s\u001b[0m 17ms/step\n"
     ]
    }
   ],
   "source": [
    "# Extract features from RNN\n",
    "train_features_rnn = rnn_model.predict(X_train)\n",
    "test_features_rnn = rnn_model.predict(X_test)\n"
   ]
  },
  {
   "cell_type": "code",
   "execution_count": 59,
   "metadata": {},
   "outputs": [],
   "source": [
    "# Prepare data for LightGBM\n",
    "train_data_lgb = lgb.Dataset(train_features_rnn, label=y_train)\n",
    "test_data_lgb = lgb.Dataset(test_features_rnn, label=ytest, reference=train_data_lgb)"
   ]
  },
  {
   "cell_type": "code",
   "execution_count": 60,
   "metadata": {},
   "outputs": [],
   "source": [
    "# LightGBM parameters\n",
    "params = {\n",
    "    'objective': 'regression',\n",
    "    'metric': 'rmse',\n",
    "    'boosting_type': 'gbdt',\n",
    "    'num_leaves': 31,\n",
    "    'learning_rate': 0.05,\n",
    "    'feature_fraction': 0.9\n",
    "}"
   ]
  },
  {
   "cell_type": "code",
   "execution_count": 61,
   "metadata": {},
   "outputs": [
    {
     "name": "stdout",
     "output_type": "stream",
     "text": [
      "[LightGBM] [Info] Auto-choosing col-wise multi-threading, the overhead of testing was 0.000033 seconds.\n",
      "You can set `force_col_wise=true` to remove the overhead.\n",
      "[LightGBM] [Info] Total Bins 255\n",
      "[LightGBM] [Info] Number of data points in the train set: 930, number of used features: 1\n",
      "[LightGBM] [Info] Start training from score 0.326073\n",
      "Training until validation scores don't improve for 10 rounds\n",
      "Did not meet early stopping. Best iteration is:\n",
      "[99]\ttrain's rmse: 0.0447896\tvalid's rmse: 0.00868655\n"
     ]
    },
    {
     "name": "stderr",
     "output_type": "stream",
     "text": [
      "c:\\Users\\miynzi\\AppData\\Local\\Programs\\Python\\Python312\\Lib\\site-packages\\lightgbm\\basic.py:335: UserWarning: Converting column-vector to 1d array\n",
      "  _log_warning('Converting column-vector to 1d array')\n"
     ]
    }
   ],
   "source": [
    "# Train LightGBM model with early stopping\n",
    "evals_result = {}\n",
    "lgb_model = lgb.train(\n",
    "    params,\n",
    "    train_data_lgb,\n",
    "    num_boost_round=100,\n",
    "    valid_sets=[train_data_lgb, test_data_lgb],\n",
    "    valid_names=['train', 'valid'],\n",
    "    callbacks=[lgb.early_stopping(stopping_rounds=10), lgb.record_evaluation(evals_result)]\n",
    ")"
   ]
  },
  {
   "cell_type": "code",
   "execution_count": 62,
   "metadata": {},
   "outputs": [],
   "source": [
    "# Predict using LightGBM\n",
    "y_pred = lgb_model.predict(test_features_rnn, num_iteration=lgb_model.best_iteration)"
   ]
  },
  {
   "cell_type": "code",
   "execution_count": 63,
   "metadata": {},
   "outputs": [],
   "source": [
    "# Define evaluation metric functions\n",
    "def mean_absolute_percentage_error(y_true, y_pred):\n",
    "    y_true, y_pred = np.array(y_true), np.array(y_pred)\n",
    "    return np.mean(np.abs((y_true - y_pred) / y_true)) * 100\n",
    "\n",
    "def root_mean_squared_error(y_true, y_pred):\n",
    "    return np.sqrt(mean_squared_error(y_true, y_pred))"
   ]
  },
  {
   "cell_type": "code",
   "execution_count": 64,
   "metadata": {},
   "outputs": [],
   "source": [
    "# Calculate evaluation metrics\n",
    "rmse = root_mean_squared_error(ytest, y_pred)\n",
    "mape = mean_absolute_percentage_error(ytest, y_pred)\n",
    "msle = mean_squared_log_error(ytest, y_pred)\n",
    "mse = mean_squared_error(ytest, y_pred)\n",
    "mae = mean_absolute_error(ytest, y_pred)\n"
   ]
  },
  {
   "cell_type": "code",
   "execution_count": 65,
   "metadata": {},
   "outputs": [
    {
     "name": "stdout",
     "output_type": "stream",
     "text": [
      "Root Mean Squared Error (RMSE): 0.00868655339264185\n",
      "Mean Absolute Percentage Error (MAPE): 7.122150261960075%\n",
      "Mean Squared Logarithmic Error (MSLE): 6.0196195820604684e-05\n",
      "Mean Squared Error (MSE): 7.545620984321764e-05\n",
      "Mean Absolute Error (MAE): 0.007567734256715279\n"
     ]
    }
   ],
   "source": [
    "# Print evaluation metrics\n",
    "print(f'Root Mean Squared Error (RMSE): {rmse}')\n",
    "print(f'Mean Absolute Percentage Error (MAPE): {mape}%')\n",
    "print(f'Mean Squared Logarithmic Error (MSLE): {msle}')\n",
    "print(f'Mean Squared Error (MSE): {mse}')\n",
    "print(f'Mean Absolute Error (MAE): {mae}')"
   ]
  },
  {
   "cell_type": "code",
   "execution_count": 66,
   "metadata": {},
   "outputs": [],
   "source": [
    "# Prepare initial data for predicting next 30 days\n",
    "initial_data = scaled_features[-time_step:]"
   ]
  },
  {
   "cell_type": "code",
   "execution_count": 67,
   "metadata": {},
   "outputs": [],
   "source": [
    "def predict_next_30_days(rnn_model, lgb_model, initial_data, time_step=100):\n",
    "    predictions = []\n",
    "    current_sequence = initial_data.reshape(1, time_step, initial_data.shape[1])\n",
    "\n",
    "    for _ in range(30):\n",
    "        # Predict features using RNN\n",
    "        rnn_features = rnn_model.predict(current_sequence)\n",
    "\n",
    "        # Predict the next day's closing price using LightGBM\n",
    "        next_close = lgb_model.predict(rnn_features)\n",
    "\n",
    "        # Append the prediction\n",
    "        predictions.append(next_close[0])\n",
    "\n",
    "        # Update the sequence with the new prediction\n",
    "        current_sequence[:, :-1, :] = current_sequence[:, 1:, :]\n",
    "        current_sequence[:, -1, -1] = next_close[0]\n",
    "\n",
    "    return predictions"
   ]
  },
  {
   "cell_type": "code",
   "execution_count": 68,
   "metadata": {},
   "outputs": [
    {
     "name": "stdout",
     "output_type": "stream",
     "text": [
      "\u001b[1m1/1\u001b[0m \u001b[32m━━━━━━━━━━━━━━━━━━━━\u001b[0m\u001b[37m\u001b[0m \u001b[1m0s\u001b[0m 16ms/step\n",
      "\u001b[1m1/1\u001b[0m \u001b[32m━━━━━━━━━━━━━━━━━━━━\u001b[0m\u001b[37m\u001b[0m \u001b[1m0s\u001b[0m 21ms/step\n",
      "\u001b[1m1/1\u001b[0m \u001b[32m━━━━━━━━━━━━━━━━━━━━\u001b[0m\u001b[37m\u001b[0m \u001b[1m0s\u001b[0m 25ms/step\n",
      "\u001b[1m1/1\u001b[0m \u001b[32m━━━━━━━━━━━━━━━━━━━━\u001b[0m\u001b[37m\u001b[0m \u001b[1m0s\u001b[0m 22ms/step\n",
      "\u001b[1m1/1\u001b[0m \u001b[32m━━━━━━━━━━━━━━━━━━━━\u001b[0m\u001b[37m\u001b[0m \u001b[1m0s\u001b[0m 25ms/step\n",
      "\u001b[1m1/1\u001b[0m \u001b[32m━━━━━━━━━━━━━━━━━━━━\u001b[0m\u001b[37m\u001b[0m \u001b[1m0s\u001b[0m 24ms/step\n",
      "\u001b[1m1/1\u001b[0m \u001b[32m━━━━━━━━━━━━━━━━━━━━\u001b[0m\u001b[37m\u001b[0m \u001b[1m0s\u001b[0m 24ms/step\n",
      "\u001b[1m1/1\u001b[0m \u001b[32m━━━━━━━━━━━━━━━━━━━━\u001b[0m\u001b[37m\u001b[0m \u001b[1m0s\u001b[0m 23ms/step\n",
      "\u001b[1m1/1\u001b[0m \u001b[32m━━━━━━━━━━━━━━━━━━━━\u001b[0m\u001b[37m\u001b[0m \u001b[1m0s\u001b[0m 25ms/step\n",
      "\u001b[1m1/1\u001b[0m \u001b[32m━━━━━━━━━━━━━━━━━━━━\u001b[0m\u001b[37m\u001b[0m \u001b[1m0s\u001b[0m 25ms/step\n",
      "\u001b[1m1/1\u001b[0m \u001b[32m━━━━━━━━━━━━━━━━━━━━\u001b[0m\u001b[37m\u001b[0m \u001b[1m0s\u001b[0m 23ms/step\n",
      "\u001b[1m1/1\u001b[0m \u001b[32m━━━━━━━━━━━━━━━━━━━━\u001b[0m\u001b[37m\u001b[0m \u001b[1m0s\u001b[0m 23ms/step\n",
      "\u001b[1m1/1\u001b[0m \u001b[32m━━━━━━━━━━━━━━━━━━━━\u001b[0m\u001b[37m\u001b[0m \u001b[1m0s\u001b[0m 24ms/step\n",
      "\u001b[1m1/1\u001b[0m \u001b[32m━━━━━━━━━━━━━━━━━━━━\u001b[0m\u001b[37m\u001b[0m \u001b[1m0s\u001b[0m 25ms/step\n",
      "\u001b[1m1/1\u001b[0m \u001b[32m━━━━━━━━━━━━━━━━━━━━\u001b[0m\u001b[37m\u001b[0m \u001b[1m0s\u001b[0m 23ms/step\n",
      "\u001b[1m1/1\u001b[0m \u001b[32m━━━━━━━━━━━━━━━━━━━━\u001b[0m\u001b[37m\u001b[0m \u001b[1m0s\u001b[0m 25ms/step\n",
      "\u001b[1m1/1\u001b[0m \u001b[32m━━━━━━━━━━━━━━━━━━━━\u001b[0m\u001b[37m\u001b[0m \u001b[1m0s\u001b[0m 25ms/step\n",
      "\u001b[1m1/1\u001b[0m \u001b[32m━━━━━━━━━━━━━━━━━━━━\u001b[0m\u001b[37m\u001b[0m \u001b[1m0s\u001b[0m 26ms/step\n",
      "\u001b[1m1/1\u001b[0m \u001b[32m━━━━━━━━━━━━━━━━━━━━\u001b[0m\u001b[37m\u001b[0m \u001b[1m0s\u001b[0m 23ms/step\n",
      "\u001b[1m1/1\u001b[0m \u001b[32m━━━━━━━━━━━━━━━━━━━━\u001b[0m\u001b[37m\u001b[0m \u001b[1m0s\u001b[0m 24ms/step\n",
      "\u001b[1m1/1\u001b[0m \u001b[32m━━━━━━━━━━━━━━━━━━━━\u001b[0m\u001b[37m\u001b[0m \u001b[1m0s\u001b[0m 25ms/step\n",
      "\u001b[1m1/1\u001b[0m \u001b[32m━━━━━━━━━━━━━━━━━━━━\u001b[0m\u001b[37m\u001b[0m \u001b[1m0s\u001b[0m 26ms/step\n",
      "\u001b[1m1/1\u001b[0m \u001b[32m━━━━━━━━━━━━━━━━━━━━\u001b[0m\u001b[37m\u001b[0m \u001b[1m0s\u001b[0m 26ms/step\n",
      "\u001b[1m1/1\u001b[0m \u001b[32m━━━━━━━━━━━━━━━━━━━━\u001b[0m\u001b[37m\u001b[0m \u001b[1m0s\u001b[0m 26ms/step\n",
      "\u001b[1m1/1\u001b[0m \u001b[32m━━━━━━━━━━━━━━━━━━━━\u001b[0m\u001b[37m\u001b[0m \u001b[1m0s\u001b[0m 29ms/step\n",
      "\u001b[1m1/1\u001b[0m \u001b[32m━━━━━━━━━━━━━━━━━━━━\u001b[0m\u001b[37m\u001b[0m \u001b[1m0s\u001b[0m 24ms/step\n",
      "\u001b[1m1/1\u001b[0m \u001b[32m━━━━━━━━━━━━━━━━━━━━\u001b[0m\u001b[37m\u001b[0m \u001b[1m0s\u001b[0m 26ms/step\n",
      "\u001b[1m1/1\u001b[0m \u001b[32m━━━━━━━━━━━━━━━━━━━━\u001b[0m\u001b[37m\u001b[0m \u001b[1m0s\u001b[0m 26ms/step\n",
      "\u001b[1m1/1\u001b[0m \u001b[32m━━━━━━━━━━━━━━━━━━━━\u001b[0m\u001b[37m\u001b[0m \u001b[1m0s\u001b[0m 25ms/step\n",
      "\u001b[1m1/1\u001b[0m \u001b[32m━━━━━━━━━━━━━━━━━━━━\u001b[0m\u001b[37m\u001b[0m \u001b[1m0s\u001b[0m 26ms/step\n",
      "Dự đoán giá đóng cửa cho 30 ngày tiếp theo: [0.12078078845865921, 0.10847341652307002, 0.10938995968380703, 0.10938995968380703, 0.10938995968380703, 0.10938995968380703, 0.10938995968380703, 0.10938995968380703, 0.10938995968380703, 0.10938995968380703, 0.10938995968380703, 0.10938995968380703, 0.10938995968380703, 0.10938995968380703, 0.10938995968380703, 0.10938995968380703, 0.10938995968380703, 0.10938995968380703, 0.10938995968380703, 0.10938995968380703, 0.10938995968380703, 0.10938995968380703, 0.10938995968380703, 0.10938995968380703, 0.10938995968380703, 0.10938995968380703, 0.10938995968380703, 0.10938995968380703, 0.10938995968380703, 0.10938995968380703]\n"
     ]
    }
   ],
   "source": [
    "# Predict next 30 days\n",
    "next_30_days_predictions = predict_next_30_days(rnn_model, lgb_model, initial_data)\n",
    "print(\"Dự đoán giá đóng cửa cho 30 ngày tiếp theo:\", next_30_days_predictions)"
   ]
  },
  {
   "cell_type": "code",
   "execution_count": 69,
   "metadata": {},
   "outputs": [
    {
     "data": {
      "image/png": "[encoded data removed]",
      "text/plain": [
       "<Figure size 640x480 with 1 Axes>"
      ]
     },
     "metadata": {},
     "output_type": "display_data"
    }
   ],
   "source": [
    "import matplotlib.pyplot as plt\n",
    "\n",
    "# Plotting train data\n",
    "train_data_index = pd.RangeIndex(start=0, stop=len(train_features_rnn), step=1)\n",
    "plt.plot(train_data_index, scaler.inverse_transform(train_features_rnn), label='Train')\n",
    "\n",
    "# Plotting test data\n",
    "test_data_index = pd.RangeIndex(start=len(train_features_rnn), stop=len(train_features_rnn) + len(test_features_rnn), step=1)\n",
    "plt.plot(test_data_index, scaler.inverse_transform(test_features_rnn), label='Test')\n",
    "\n",
    "# Adjusting y_pred to have correct shape and length\n",
    "test_data_index_pred = pd.RangeIndex(start=len(train_features_rnn), stop=len(train_features_rnn) + len(y_pred), step=1)\n",
    "plt.plot(test_data_index_pred, scaler.inverse_transform(np.array(y_pred).reshape(-1, 1)), label='Predict')\n",
    "\n",
    "# Adjusting next_30_days_predictions to have correct shape and length\n",
    "predict_data_index = pd.RangeIndex(start=len(df), stop=len(df) + len(next_30_days_predictions), step=1)\n",
    "plt.plot(predict_data_index, scaler.inverse_transform(np.array(next_30_days_predictions).reshape(-1, 1)), label='Predict30days')\n",
    "\n",
    "plt.legend(['Train', 'Test', 'Predict', 'Predict30days'])\n",
    "plt.show()"
   ]
  }
 ],
 "metadata": {
  "kernelspec": {
   "display_name": "Python 3",
   "language": "python",
   "name": "python3"
  },
  "language_info": {
   "codemirror_mode": {
    "name": "ipython",
    "version": 3
   },
   "file_extension": ".py",
   "mimetype": "text/x-python",
   "name": "python",
   "nbconvert_exporter": "python",
   "pygments_lexer": "ipython3",
   "version": "3.12.3"
  }
 },
 "nbformat": 4,
 "nbformat_minor": 2
}
